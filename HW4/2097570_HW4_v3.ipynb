{
  "cells": [
    {
      "cell_type": "markdown",
      "metadata": {
        "id": "ch7HKTAoRXBJ"
      },
      "source": [
        "#***Deep Learning Homework 4: Recurrent Neural Networks & Transformer***\n",
        "### MSc Computer Science, Data Science, Cybersecurity @UNIPD\n",
        "### 2nd semester - 6 ECTS\n",
        "### Prof. Alessandro Sperduti, Prof. Nicolò Navarin and Prof. Luca Pasa\n",
        "---\n",
        "In this homework, we will explore how to develop a simple Recurrent Neural Network (RNN) for sentiment analysis. We will use the IMDB dataset---it contains the text of some reviews and the sentiment given by their authors (either positive or negative). The input to the RNN is the sequence of words that compose a review, so the learning task consists in predicting the overall sentiment of the review.\n",
        "In the first part, we will learn how to develop a simple RNN, then we will explore the differences in terms of computational load, number of parameters, and performances with respect to more advanced recurrent models, like LSTM and GRU. Subsequently, we experiment with the bi-directional model to unveil the strengths and the weaknesses of this technique. Finally, we will solve the same classification problem with a Transformer, in order to have a closer look at its internal functioning.\n",
        "\n",
        "---\n",
        "##**Important Instructions for Submissions:**\n",
        "\n",
        "Generally, in the homeworks, you will be either required to complete a part of Python code or to answer questions in text cells. Code and text cells where you are expected to write your answers have been marked by `%STARTCODE` and `%ENDCODE` or `%STARTEXT` and `%ENDTEXT` tags, respectively. Note that you should never change, move or remove these two tags, otherwise your answers will be __not__ valid. As you will see in this notebook, each cell that includes a `[TO COMPLETE]` part has been put between these placeholders."
      ]
    },
    {
      "cell_type": "markdown",
      "metadata": {
        "id": "fu9LiLxTXt_X"
      },
      "source": [
        "#Requirements"
      ]
    },
    {
      "cell_type": "code",
      "execution_count": null,
      "metadata": {
        "id": "agBmeg2KY_KN"
      },
      "outputs": [],
      "source": [
        "!pip3 install datasets skorch torchinfo torchdata torchtext torchvision matplotlib portalocker>=2.0.0"
      ]
    },
    {
      "cell_type": "markdown",
      "metadata": {
        "id": "LAaDwXybXvnw"
      },
      "source": [
        "# Imports"
      ]
    },
    {
      "cell_type": "code",
      "execution_count": null,
      "metadata": {
        "id": "fU8q5qubXwtf"
      },
      "outputs": [],
      "source": [
        "import torch\n",
        "torch.utils.data.datapipes.utils.common.DILL_AVAILABLE = torch.utils._import_utils.dill_available()\n",
        "from torch import nn\n",
        "from torch.nn import Embedding, RNN, LSTM, GRU, Linear, Transformer\n",
        "import torch.nn.functional as F\n",
        "from torchinfo import summary\n",
        "from torchtext.datasets import IMDB\n",
        "from torch.utils.data import DataLoader, Dataset, random_split\n",
        "from torchtext.data.utils import get_tokenizer\n",
        "from torchtext.vocab import build_vocab_from_iterator\n",
        "from torchvision.transforms import Lambda\n",
        "from timeit import default_timer as timer\n",
        "import numpy as np\n",
        "import pandas as pd\n",
        "import matplotlib.pyplot as plt\n",
        "import gc\n",
        "import warnings\n",
        "warnings.filterwarnings(\"ignore\")\n",
        "\n",
        "torch.manual_seed(42)\n",
        "rng = np.random.default_rng(seed=4242)\n",
        "device = torch.device(\"cuda\" if torch.cuda.is_available() else \"cpu\")"
      ]
    },
    {
      "cell_type": "markdown",
      "metadata": {
        "id": "sysNS560Xxux"
      },
      "source": [
        "#Data Loading and Preprocessing\n",
        "\n",
        "###Load dataset:\n",
        "In this HW, we use the same datset used in the HW2, the IMDB dataset. The dataset contains 50,000 movie reviews from IMDB, labeled by sentiment (positive/negative). As usual, for speed and efficiency, we will use only a subset of the dataset. Reviews have been preprocessed, and each review is encoded as a sequence of word indexes. We load the data from the PyTorch database and then split the data into train, validation and test set."
      ]
    },
    {
      "cell_type": "code",
      "execution_count": null,
      "metadata": {
        "id": "GQpvhGzaJ87l"
      },
      "outputs": [],
      "source": [
        "train, test = IMDB(root=\"dataset\", split=('train', 'test')) # This is a Torch \"datapipeline\"\n",
        "train.shuffle()\n",
        "test.shuffle()\n",
        "len_train, len_val, len_test = 25000, 12500, 12500 # Whole data\n",
        "# Build validation set\n",
        "valid, test = test.random_split(total_length=len_test*2, weights={\"valid\": 0.5, \"test\": 0.5}, seed=42)\n",
        "# Get data from the pipeline\n",
        "train_data = [x for x in train]\n",
        "test_data = [x for x in test]\n",
        "val_data = [x for x in valid]"
      ]
    },
    {
      "cell_type": "code",
      "execution_count": 4,
      "metadata": {
        "id": "D6PC19R6Z_AQ",
        "colab": {
          "base_uri": "https://localhost:8080/"
        },
        "outputId": "8781b16f-974e-41dd-b587-adf9e1fde3a6"
      },
      "outputs": [
        {
          "output_type": "execute_result",
          "data": {
            "text/plain": [
              "(25000, 12500, 12500)"
            ]
          },
          "metadata": {},
          "execution_count": 4
        }
      ],
      "source": [
        "len(train_data), len(val_data), len(test_data)"
      ]
    },
    {
      "cell_type": "code",
      "execution_count": 5,
      "metadata": {
        "id": "twbK_FAwZ_Cj",
        "colab": {
          "base_uri": "https://localhost:8080/"
        },
        "outputId": "bf2ea03c-7ed6-4eb0-c2f9-d987e2c43fef"
      },
      "outputs": [
        {
          "output_type": "stream",
          "name": "stdout",
          "text": [
            "text: It was great to see some of my favorite stars of 30 years ago including John Ritter, Ben Gazarra and Audrey Hepburn. They looked quite wonderful. But that was it. They were not given any characters or good lines to work with. I neither understood or cared what the characters were doing.<br /><br />Some of the smaller female roles were fine, Patty Henson and Colleen Camp were quite competent and confident in their small sidekick parts. They showed some talent and it is sad they didn't go on to star in more and better films. Sadly, I didn't think Dorothy Stratten got a chance to act in this her only important film role.<br /><br />The film appears to have some fans, and I was very open-minded when I started watching it. I am a big Peter Bogdanovich fan and I enjoyed his last movie, \"Cat's Meow\" and all his early ones from \"Targets\" to \"Nickleodeon\". So, it really surprised me that I was barely able to keep awake watching this one.<br /><br />It is ironic that this movie is about a detective agency where the detectives and clients get romantically involved with each other. Five years later, Bogdanovich's ex-girlfriend, Cybil Shepherd had a hit television series called \"Moonlighting\" stealing the story idea from Bogdanovich. Of course, there was a great difference in that the series relied on tons of witty dialogue, while this tries to make do with slapstick and a few screwball lines.<br /><br />Bottom line: It ain't no \"Paper Moon\" and only a very pale version of \"What's Up, Doc\".\n",
            "label: 1\n"
          ]
        }
      ],
      "source": [
        "idx = 10\n",
        "label_samp, text_samp = train_data[idx]\n",
        "print(f\"text: {text_samp}\")\n",
        "print(f\"label: {label_samp}\")"
      ]
    },
    {
      "cell_type": "markdown",
      "metadata": {
        "id": "LvhHoF4nT94Q"
      },
      "source": [
        "Let's check the dataset statistics."
      ]
    },
    {
      "cell_type": "code",
      "execution_count": 6,
      "metadata": {
        "id": "9PiJVVkgZ_FJ",
        "colab": {
          "base_uri": "https://localhost:8080/"
        },
        "outputId": "3111b5f2-d067-4f23-ae67-88ec2077eb75"
      },
      "outputs": [
        {
          "output_type": "stream",
          "name": "stdout",
          "text": [
            "train:\n",
            "{1: 12500, 2: 12500}\n",
            "val:\n",
            "{1: 6245, 2: 6255}\n",
            "test:\n",
            "{1: 6255, 2: 6245}\n"
          ]
        }
      ],
      "source": [
        "datasets = {'train':train_data, 'val':val_data, 'test':test_data}\n",
        "for key in datasets:\n",
        "  label_dist = {}\n",
        "  dataset = datasets[key]\n",
        "  for lb, txt in dataset:\n",
        "    if lb not in label_dist:\n",
        "      label_dist.setdefault(lb, 1)\n",
        "    else:\n",
        "      label_dist[lb] += 1\n",
        "  print(f\"{key}:\")\n",
        "  print(label_dist)\n"
      ]
    },
    {
      "cell_type": "code",
      "execution_count": 7,
      "metadata": {
        "id": "iO3XxTFFZ_J4",
        "colab": {
          "base_uri": "https://localhost:8080/"
        },
        "outputId": "10c2c9b9-a5b3-4f80-db7d-c4f1752e75b1"
      },
      "outputs": [
        {
          "output_type": "stream",
          "name": "stdout",
          "text": [
            "Our vocabulary is made of 10000 tokens-index pairs.\n"
          ]
        }
      ],
      "source": [
        "tokenizer = get_tokenizer('basic_english')\n",
        "\n",
        "def create_tokens(dataset):\n",
        "  for sample in dataset:\n",
        "    yield tokenizer(sample[1])\n",
        "\n",
        "vocab = build_vocab_from_iterator(create_tokens(train_data), specials=[\"<oov>\", \"<sos>\"], max_tokens=10000)\n",
        "vocab.set_default_index(vocab[\"<oov>\"])\n",
        "print(f\"Our vocabulary is made of {len(vocab)} tokens-index pairs.\")"
      ]
    },
    {
      "cell_type": "code",
      "execution_count": 8,
      "metadata": {
        "id": "octruo_DZ_MW"
      },
      "outputs": [],
      "source": [
        "text_pipeline = lambda x: vocab(tokenizer(x))\n",
        "label_pipeline = lambda x: int(x) - 1"
      ]
    },
    {
      "cell_type": "code",
      "execution_count": 9,
      "metadata": {
        "id": "rU-jkLc785iB",
        "colab": {
          "base_uri": "https://localhost:8080/"
        },
        "outputId": "801c7714-b740-4839-d020-37d9d7051fa8"
      },
      "outputs": [
        {
          "output_type": "stream",
          "name": "stdout",
          "text": [
            "['<oov>', '<sos>', 'the', '.', ',', 'and', 'a', 'of', 'to', \"'\", 'is', 'it', 'in', 'i', 'this', 'that', 's', 'was', 'as', 'for', 'with', 'movie', 'but', 'film', ')', '(', 'you', 't', 'on', 'not', 'he', 'are', 'his', 'have', 'be', 'one', '!', 'all', 'at', 'they', 'by', 'an', 'who', 'from', 'so', 'like', 'there', 'her', 'or', 'just', 'about', 'if', 'has', 'out', 'what', '?', 'some', 'good', 'can', 'more', 'when', 'she', 'very', 'even', 'my', 'no', 'up', 'would', 'time', 'which', 'only', 'story', 'really', 'their', 'see', 'had', 'we', 'were', 'me', 'than', 'well', 'much', '-', 'get', 'been', 'people', 'will', 'also', 'other', 'bad', 'into', 'do', 'because', 'great', 'first', 'how', 'him', 'don', 'most', 'its', 'made', 'then', 'them', 'way', 'could', 'make', 'too', 'any', 'after', 'movies', 'think', 'characters', 'character', 'watch', 'films', 'two', 'many', 'seen', 'being', 'never', 'little', 'plot', 'acting', 'where', 'best', 'love', 'did', 'life', 'show', 'know', 'does', 'ever', 'here', 'better', 'your', 'man', 'still', 'over', 'end', 'off', 'these', 'say', 'scene', 'while', 'why', 'scenes', 've', 'such', 'go', 'should', 'something', 'through', 'm', 'back', 'those', 'watching', 'real', 'now', 'though', 'doesn', 'thing', 'years', 'actors', 'didn', 'another', 'before', 'nothing', 'new', 'actually', 'funny', 'work', 'makes', 'find', 'director', 'look', 'few', 'old', 'going', 'same', 'lot', 'again', 'every', 'part', 're', 'cast', 'us', 'world', 'quite', 'want', 'things', 'pretty', 'young', 'seems', 'got', 'around', 'down', 'however', '&', 'fact', 'take', 'enough', 'both', 'give', 'between', 'may', 'original', 'horror', 'big', 'own', 'thought', 'series', 'without', 'right', 'times', 'long', 'always', 'gets', 'isn', 'come', 'role', 'saw', 'family', 'point', 'almost', 'interesting', 'action', 'least', 'must', 'comedy', 'whole', 'bit', 'music', 'done', 'script', 'guy', 'minutes', 'anything', 'last', 'might', 'since', 'll', 'performance', 'far', 'feel', 'probably', 'd', 'am', 'kind', 'woman', 'away', 'girl', 'rather', 'yet', 'worst', 'sure', 'fun', 'anyone', 'making', 'each', 'played', 'found', 'tv', 'having', 'day', 'although', 'our', 'especially', 'course', 'believe', 'comes', 'trying', 'goes', 'looks', 'hard', 'different', 'place', 'book', 'put', 'someone', 'maybe', 'money', 'ending', 'reason', 'let', 'wasn', 'actor', 'sense', 'everything', 'once', 'shows', 'screen', 'true', '2', 'set', 'dvd', 'worth', 'looking', 'job', 'main', 'watched', 'everyone', 'together', 'plays', 'three', 'john', 'said', 'later', 'play', 'instead', 'audience', 'seem', '10', 'takes', 'beautiful', 'effects', 'himself', 'version', 'during', 'left', 'seeing', 'night', 'special', 'house', 'excellent', 'wife', 'american', 'idea', 'father', 'else', 'nice', 'shot', 'simply', 'year', 'read', 'high', 'black', 'less', 'war', 'star', 'help', 'completely', 'poor', 'fan', 'second', 'death', 'hollywood', 'either', 'men', 'mind', 'used', 'given', 'home', 'kids', 'try', 'performances', 'enjoy', 'classic', 'boring', 'rest', 'need', 'short', 'women', 'wrong', 'use', 'until', 'along', 'friends', 'dead', 'truly', 'half', 'production', 'line', 'tell', 'couple', 'remember', 'next', '--', 'start', 'stupid', 'won', 'perhaps', 'came', 'recommend', 'awful', 'moments', 'wonderful', 'episode', 'mean', 'understand', 'full', 'terrible', 'camera', 'getting', 'playing', 'stars', 'keep', 'doing', 'others', 'video', 'often', 'small', 'definitely', 'sex', 'gives', 'perfect', 'person', 'school', 'early', 'face', 'itself', 'name', 'become', 'human', 'finally', 'lines', 'dialogue', 'yes', 'felt', 'case', 'lost', 'piece', 'liked', 'supposed', 'top', 'children', 'couldn', 'absolutely', 'head', 'live', 'title', 'written', 'budget', 'mother', 'against', 'picture', 'boy', 'certainly', 'cinema', 'went', 'entire', 'style', 'sort', 'worse', '3', 'waste', 'hope', 'problem', 'mr', 'entertaining', 'overall', 'evil', 'killer', 'several', 'friend', '1', 'loved', 'fans', 'beginning', 'oh', 'lives', 'becomes', 'white', 'care', 'direction', 'already', 'example', 'based', 'despite', 'seemed', 'dark', 'throughout', 'unfortunately', 'wanted', '\\x96', 'drama', 'final', 'amazing', 'history', 'turn', 'fine', 'michael', 'laugh', 'guess', 'totally', 'humor', 'son', 'lead', 'guys', 'sound', 'wants', 'writing', 'low', 'works', 'tries', 'called', 'under', 'viewer', 'past', 'quality', 'days', 'behind', 'game', 'child', 'enjoyed', 'turns', 'today', 'able', 'act', 'favorite', 'town', 'kill', 'flick', 'starts', 'gave', 'sometimes', 'eyes', 'side', 'girls', 'soon', 'etc', 'car', 'horrible', 'actress', 'brilliant', 'genre', 'parts', 'art', 'heart', 'themselves', 'expect', 'kid', 'stuff', 'stories', 'city', 'thinking', 'obviously', 'directed', 'myself', 'late', 'blood', 'decent', 'feeling', 'run', 'highly', 'close', 'fight', 'god', 'except', 'hand', 'anyway', 'roles', 'moment', 'says', 'heard', 'killed', 'leave', 'matter', 'took', 'daughter', 'cannot', 'police', 'happens', 'happened', 'hour', 'brother', 'strong', 'involved', 'james', 'extremely', 'chance', 'violence', 'particularly', 'obvious', '5', 'wouldn', 'experience', 'lack', 'attempt', 'told', 'alone', 'living', 'age', 'please', 'happen', 'murder', 'wonder', 'including', 'ago', 'complete', 'group', 'voice', 'coming', 'david', 'score', 'save', 'interest', 'none', 'looked', 'ok', 'type', '4', 'crap', 'simple', 'number', 'slow', 'hell', 'exactly', 'seriously', 'shown', 'annoying', 'husband', 'taken', 'whose', 'yourself', 'career', 'king', 'sad', 'song', 'cinematography', 'usually', 'serious', 'stop', 'possible', 'scary', 'ends', 'hero', 'hours', 'gore', 'across', 'released', 'musical', 'hilarious', 'running', 'usual', 'opening', 'reality', 'somewhat', 'known', 'relationship', 'ridiculous', 'opinion', 'started', 'hit', 'novel', 'jokes', 'wish', 'change', 'cool', 'finds', 'robert', 'ones', 'huge', 'order', 'saying', 'shots', 'body', 'cut', 'english', 'episodes', 'mostly', 'taking', 'female', 'talking', 'major', 'view', 'strange', 'disappointed', 'power', 'level', 'documentary', 'talent', 'apparently', 'call', 'happy', 'due', 'rating', 'events', 'room', 'important', 'jack', 'basically', 'songs', 'country', 'clearly', 'knew', 'knows', 'supporting', 'easily', 'turned', 'attention', 'future', 'television', 'paul', 'aren', 'silly', 'british', 'word', 'earth', 'problems', 'tells', 'single', 'local', 'words', 'bring', 'sequence', 'cheap', 'entertainment', 'four', 'light', 'beyond', 'miss', 'george', 'whether', 'modern', 'predictable', 'five', 'falls', 'sets', 'similar', 'richard', 'review', 'writer', 'needs', 'appears', 'enjoyable', 'upon', 'lady', 'romantic', 'rock', 'comic', 'giving', 'talk', 'message', 'within', 'theater', 'animation', 'bunch', 'mention', 'feels', 'nearly', 'sequel', 'haven', 'points', 'dull', 'above', 'add', 'lee', 'moving', 'ways', 'york', 'surprised', 'herself', 'theme', 'storyline', 'lots', 'ten', 'team', 'begins', 'mystery', 'using', 'actual', 'middle', 'fantastic', 'thriller', 'effort', 'sister', 'named', 'viewers', 'easy', 'among', 'elements', 'stay', 'tom', 'avoid', 'comments', 'typical', 'showing', 'clear', 'release', 'peter', 'tried', 'certain', 'sorry', 'season', 'tale', 'dialog', 'french', 'fall', 'famous', 'soundtrack', 'straight', 'general', 'check', 'means', 'near', 'somehow', 'editing', 'form', 'hate', 'material', 'red', 'doubt', 'parents', 'buy', 'oscar', 'class', 'period', 'working', 'filmed', 'gone', 'kept', 'leads', 'weak', 'greatest', 'figure', 'o', 'viewing', 'feature', 'brought', 'eye', 'disney', 'realistic', 'imagine', 'hear', 'atmosphere', 'fast', 'particular', 'move', 'lame', 'indeed', 'eventually', 'sequences', 'die', 'follow', 'learn', 'america', 'deal', 'forget', 'reviews', 'wait', 'space', 'dance', 'suspense', 'believable', 'okay', 'whatever', 'zombie', 'premise', 'b', 'crime', 'surprise', 'decided', 'third', 'expected', 'possibly', 'subject', 'nature', 'de', 'became', 'dr', 'japanese', 'stand', 'truth', 'average', 'difficult', 'sexual', 'imdb', 'screenplay', 'sit', 'joe', 'poorly', 'rent', 'nor', 'leaves', 'romance', 'stage', 'question', 'begin', 'killing', 'needed', 'reading', 'unless', 'baby', 'street', 'note', 'shame', 'otherwise', 'meet', 'situation', 'society', 'superb', 'meets', 'memorable', 'forced', 'credits', 'dog', 'earlier', 'directors', 'minute', 'weird', 'emotional', 'realize', 'beauty', 'jane', 'older', 'comment', 'footage', 'ask', 'interested', 'laughs', 'write', 'badly', 'keeps', 'sounds', 'whom', 'dramatic', 'features', 'development', 'hot', 'mess', 'towards', 'quickly', 'writers', 'crazy', 'free', 'male', 'mark', 'total', 'brings', 'directing', 'perfectly', 'previous', 'result', 'creepy', 'unique', 'plenty', 'plus', 'worked', 'effect', 'cheesy', 'incredibly', 'personal', 'bill', 'hands', 'monster', 'deep', 'return', 'admit', 'apart', 'setting', 'dream', 'appear', 'background', 'open', 'casting', 'leading', 'christmas', 'hardly', 'meant', 'potential', 'ben', 'powerful', 'boys', 'business', 'doctor', 'fails', 'various', 'create', 'masterpiece', 'joke', '7', 'battle', 'forward', 'fire', 'fantasy', 'outside', 'inside', 'portrayed', 'william', '20', 'ideas', 'secret', 'twist', 'missing', 'reasons', 'deserves', 'dumb', 'villain', 'air', 'expecting', 'fairly', 'fighting', 'present', 'girlfriend', 'attempts', 'manages', 'unlike', 'break', 'gay', 'married', 'nudity', 'political', 'success', '8', 'match', 'pay', 'remake', 'acted', 'recently', 'scott', 'front', 'further', 'rich', 'western', 'box', 'cute', 'copy', 'sadly', 'agree', 'talented', 'telling', 'cop', 'era', 'filmmakers', 'following', 'public', 'missed', 'incredible', 'crew', 'plain', 'pure', 'wasted', 'brothers', 'e', 'odd', 'caught', 'flat', 'mentioned', '30', 'ended', 'considering', 'decides', 'large', 'waiting', 'mary', 'members', 'social', 'sweet', 'pace', 'list', 'popular', 'sci-fi', 'uses', 'hold', 'slightly', 'compared', 'neither', 'sees', 'suddenly', 'convincing', 'office', 'party', 'tension', 'escape', 'revenge', 'wrote', 'created', 'spent', 'spirit', 'entirely', 'fear', 'rate', 'cause', 'island', '80', 'cartoon', 'choice', 'clever', 'credit', 'intelligent', 'kills', 'bored', 'familiar', 'laughing', 'moves', 'tony', 'water', 'ultimately', 'band', 'successful', 'basic', 'gun', 'la', 'trouble', 'visual', 'biggest', 'speak', 'value', 'cat', 'company', 'positive', 'died', 'recent', 'concept', 'consider', 'exciting', 'state', 'zombies', 'effective', 'cover', 'portrayal', 'singing', 'spend', 'violent', 'language', 'appreciate', 'dancing', 'studio', 'cold', 'produced', 'science', 'amusing', 'former', 'adult', 'filled', 'common', 'pointless', 'solid', 'books', 'follows', 'younger', 'bizarre', 'focus', 'walk', 'impressive', 'store', 'animated', 'planet', 'amount', 'impossible', 'italian', 'century', 'weren', 'conclusion', 'german', 'recommended', 'fit', 'showed', 'tone', 'van', 'depth', 'runs', 'chemistry', 'situations', 'awesome', 'control', 'jim', 'prison', 'project', 'respect', 'considered', 'decide', 'force', 'somewhere', 'changed', 'disturbing', 'accent', 'smith', 'win', 'dad', 'failed', 'hair', 'mad', 'producers', 'steve', 'college', 'leaving', 'trip', 'audiences', 'longer', 'questions', 'barely', 'aside', 'sick', 'honest', 'shooting', 'images', 'pathetic', 'starring', 'generally', 'thanks', 'trash', 'charming', 'slasher', 'ghost', 'literally', 'surprisingly', 'likes', 'west', 'alive', 'immediately', 'involving', 'magic', 'touch', 'fake', 'values', 'culture', 'yeah', 'adventure', 'south', 'c', 'harry', 'frank', 'bought', 'garbage', 'honestly', 'london', 'utterly', 'natural', 'adaptation', 'sam', 'stewart', 'ability', 'aspect', 'nobody', 'u', 'camp', 'explain', 'glad', 'pictures', 'appearance', '15', 'computer', 'fair', 'normal', 'sitting', 'meaning', 'personally', 'stick', 'attack', 'cult', 'genius', 'detective', 'knowing', 'master', 'appeal', 'army', 'humour', '9', 'charlie', 'tough', '90', 'added', 'journey', 'nowhere', 'remains', 'thinks', 'rare', '6', 'dreams', 'purpose', 'thank', 'catch', 'military', 'terms', 'sexy', 'taste', 'touching', 'week', 'beautifully', 'terrific', 'walking', 'comedies', 'silent', 'unbelievable', 'channel', 'chase', 'twists', 'equally', 'subtle', 'mood', 'standard', 'managed', 'naked', 'complex', 'mistake', 'laughable', 'pick', 'wild', 'kelly', 'wow', 'batman', 'lovely', 'spoilers', 'themes', 'disappointing', 'excuse', 'fiction', 'likely', 'road', 'soldiers', 'brain', 'chris', 'date', 'issues', 'narrative', 'outstanding', 'plan', 'thus', 'club', 'constantly', 'costumes', 'surely', 'painful', 'christopher', 'fully', 'justice', 'presented', 'central', 'cinematic', 'edge', 'victim', 'innocent', 'law', 'places', 'presence', 'slowly', 'besides', 'boss', 'government', 'manner', 'pass', 'charles', 'climax', 'everybody', 'marriage', 'self', 'details', 'door', 'ride', 'animals', 'contains', 'henry', 'impression', 'shoot', 'stunning', 'charm', 'finish', 'mysterious', 'thrown', 'hoping', '50', 'bottom', 'historical', 'loves', 'soul', 'disappointment', 'exception', 'expectations', 'gang', 'photography', 'vampire', '70', 'makers', 'paris', 'stands', 'woods', 'suppose', 'allen', 'aspects', 'festival', 'loud', 'minor', 'scenery', 'bother', 'church', 'critics', 'cry', 'hey', 'indian', 'train', 'feelings', 'sent', 'brief', 'opportunity', 'color', 'support', 'award', 'filming', 'mainly', 'element', 'emotion', 'heavy', 'acts', 'hotel', 'pieces', 'available', 'fascinating', 'emotions', 'forever', 'intended', 'rated', 'blue', 'bruce', 'dies', 'throw', 'building', 'track', 'twice', 'compelling', 'happening', 'names', 'serial', 'changes', 'hurt', 'smart', 'drawn', 'puts', 'falling', 'green', 'likable', 'offer', 'tired', 'include', 'student', 'difference', 'jerry', 'producer', 'suggest', 'confused', 'pain', 'speaking', 'adults', 'billy', 'followed', 'impact', 'arthur', 'hasn', 'victims', 'approach', 'bed', 'developed', 'image', 'motion', 'appeared', 'gorgeous', 'jones', 'ahead', 'giant', 'laughed', 'lover', 'page', 'summer', 'system', 'bar', 'confusing', 'share', 'trailer', 'fresh', 'lacks', 'notice', 'fellow', 'murders', 'numbers', 'park', 'al', 'boyfriend', 'supposedly', 'event', 'grade', 'martin', 'million', 'flaws', 'gem', 'opera', 'zero', 'answer', 'helps', 'j', 'mom', 'moral', 'relationships', 'ii', 'merely', 'tragedy', 'born', 'content', 'funniest', 'mediocre', 'noir', 'proves', 'wondering', 'creative', 'drive', 'lighting', 'alien', 'delivers', 'random', 'shock', 'students', 'christian', 'finding', 'putting', 'key', 'mix', 'ray', 'standards', 'childhood', 'damn', 'hospital', 'race', 'impressed', 'absolute', 'attractive', 'imagination', 'lived', 'negative', 'paid', 'agent', 'alan', 'flicks', 'provides', 'thoroughly', 'brian', 'davis', 'land', 'ms', 'becoming', 'extreme', 'addition', 'drug', 'holes', 'latter', 'reminded', 'seconds', 'fell', 'flying', 'folks', 'offers', 'porn', 'seemingly', 'thats', 'faces', 'ugly', 'afraid', 'detail', 'six', 'spot', 'stuck', 'tragic', 'williams', 'affair', 'lord', 'lose', 'ship', 'collection', 'industry', 'intense', 'l', 'rape', 'seven', 'count', 'forgotten', 'hidden', 'nasty', 'stone', 'adds', 'cliché', 'rented', 'shouldn', 'held', 'jackson', 'soldier', 'design', 'shocking', 'therefore', 'americans', 'artistic', 'beat', 'actresses', 'apartment', 'area', 'pull', 'queen', 'step', 'turning', 'uncle', 'angry', 'castle', 'g', 'ground', 'information', 'states', 'bond', 'fashion', 'filmmaker', 'games', 'anymore', 'describe', 'lets', 'location', 'super', 'asks', 'danny', 'deliver', 'favourite', 'jason', 'personality', 'ready', 'onto', 'picked', 'animal', 'grace', 'led', '40', 'fox', 'inspired', 'listen', 'wooden', 'allowed', 'compare', 'intelligence', 'news', 'r', 'redeeming', 'scientist', 'stephen', 'thin', 'carry', 'clothes', 'helped', 'roll', 'struggle', 'wonderfully', 'moved', 'necessary', 'tears', 'captain', 'creature', 'desperate', 'includes', 'member', 'teenage', 'chinese', 'criminal', 'deeply', 'dirty', 'began', 'drugs', 'treat', 'trust', 'whatsoever', 'willing', 'commentary', 'wars', 'artist', 'heaven', 'martial', 'nightmare', 'quick', 'direct', 'disaster', 'humans', 'plane', 'professional', 'andy', 'food', 'sleep', 'station', 'theatre', 'accident', 'wall', 'worthy', 'cgi', 'douglas', 'energy', 'superior', 'dying', 'introduced', 'johnny', 'phone', 'rarely', 'actions', 'anybody', 'sky', 'double', 'eddie', 'sight', 'wearing', 'apparent', 'realized', 'remarkable', 'teacher', 'allow', 'comedic', 'continue', 'ed', 'epic', 'independent', 'mental', 'spoiler', 'powers', 'returns', 'tim', 'unusual', 'mouth', 'physical', 'provide', 'technical', 'unnecessary', 'keaton', 'normally', 'witch', 'absurd', 'anywhere', 'desire', 'engaging', 'england', 'fred', 'pleasure', 'scared', 'ford', 'jr', 'surprising', 'taylor', '100', 'adam', 'arts', 'brutal', 'heroes', 'joan', 'memory', 'process', 'suspect', 'bloody', 'devil', 'limited', 'machine', 'ring', 'watchable', 'accept', 'jeff', 'prince', 'skip', 'somebody', 'suicide', 'wedding', 'intriguing', 'legend', 'search', 'reminds', 'superman', 'wanting', 'academy', 'according', 'cops', 'finished', 'hated', 'hitler', 'holds', 'pacing', 'suit', 'asked', 'build', 'media', 'nicely', 'passion', 'shakespeare', 'vision', 'cage', 'exist', 'growing', 'joy', '000', 'bits', 'dick', 'grand', 'nick', 'pilot', 'russian', 'clichés', 'constant', 'extra', 'tarzan', 'torture', 'blame', 'faith', 'ladies', 'originally', 'warning', 'dangerous', 'explanation', 'kevin', 'lies', 'price', 'religious', 'sat', 'smile', 'community', 'instance', 'deserve', 'japan', 'moon', 'freddy', 'gotten', 'met', 'river', 'toward', 'accurate', 'higher', 'players', 'capture', 'jesus', 'unknown', 'winning', 'explained', 'fail', 'quiet', 'whilst', 'dressed', 'friendship', 'hadn', 'teen', '70s', 'heroine', 'jump', 'mike', 'record', 'starting', 'heads', 'humanity', 'knowledge', 'lovers', 'memories', 'player', 'sucks', 'field', 'finest', 'guns', 'kate', '80s', 'cars', 'creating', 'featuring', 'horse', 'fights', 'floor', 'judge', 'officer', 'radio', 'villains', 'deserved', 'issue', 'responsible', 'saved', 'vhs', 'jimmy', 'kinda', 'lynch', 'pulled', 'results', 'understanding', 'delightful', 'drunk', 'gene', 'hopes', 'keeping', 'lacking', 'santa', 'bland', 'european', 'low-budget', 'months', 'morgan', 'rubbish', 'terribly', 'treated', '****', 'gary', 'jean', 'manage', 'mixed', 'monsters', 'pop', 'sign', 'simon', 'washington', 'broken', 'conflict', 'eat', 'forces', 'hits', 'loving', 'mine', 'screaming', 'whenever', 'witty', 'youth', '10/10', 'fate', 'included', 'numerous', 'streets', 'empty', 'fat', 'loose', 'partner', 'private', 'author', 'ball', 'brown', 'concerned', 'loss', 'noticed', 'saving', 'skills', 'vs', 'ann', 'cable', 'ordinary', 'p', 'pretentious', 'reviewers', 'talents', '60', 'bob', 'discover', 'eric', 'naturally', 'perspective', 'prove', 'psychological', 'unfunny', 'wind', 'opposite', 'realism', 'regular', 'spanish', 'werewolf', 'bigger', 'dated', 'finale', 'gold', 'morning', 'albert', 'anthony', 'blonde', 'bright', 'cuts', 'discovered', 'driving', 'length', 'portray', 'sean', 'aware', 'continues', 'dan', 'film-making', 'locations', 'loses', 'soap', 'calls', 'gags', 'humorous', 'kong', 'mission', 'scream', 'visit', 'wood', '12', 'breaks', 'captured', 'dealing', 'debut', 'howard', 'international', 'jennifer', 'magnificent', 'nonsense', 'opens', 'satire', 'shallow', 'survive', 'below', 'connection', 'deals', 'murdered', 'visually', 'candy', 'curious', 'essentially', 'grant', 'sing', 'behavior', 'blind', 'cameo', 'frankly', 'owner', 'revealed', 'shop', 'advice', 'bank', 'context', 'corny', 'golden', 'harris', 'occasionally', 'received', 'singer', 'traditional', 'current', 'genuine', 'learned', 'miles', 'trek', 'lesson', 'mrs', 'segment', 'develop', 'window', 'allows', 'efforts', 'luke', 'national', 'rob', 'versions', 'visuals', 'comparison', 'decade', 'genuinely', 'identity', 'program', 'sea', 'stock', 'sucked', 'unexpected', 'v', 'existence', 'gangster', 'meanwhile', 'proved', 'remembered', 'anna', 'favor', 'formula', 'grew', 'lake', 'luck', 'ages', 'n', 'president', 'sheer', 'unable', 'welles', 'brilliantly', 'reach', 'references', 'sake', 'study', 'ultimate', 'vampires', 'village', 'wise', 'board', 'desert', 'drew', 'ice', 'logic', 'robin', 'steal', 'strength', 'awards', 'passed', 'sudden', 'awkward', 'barbara', 'bet', 'cross', 'spectacular', 'stereotypes', 'creates', 'failure', 'parker', 'plots', 'boat', 'crappy', 'delivered', 'gonna', 'leader', 'reaction', 'sheriff', 'types', 'discovers', 'evening', 'killers', 'rose', 'steven', 'thomas', 'utter', 'bear', 'edited', 'fault', 'halloween', 'laughter', 'pair', 'reviewer', 'dreadful', 'emotionally', 'freedom', 'insane', 'lucky', 'majority', 'painfully', 'ran', 'speed', 'standing', 'technology', '*', 'caused', 'decision', 'families', 'graphic', 'sinatra', 'site', 'woody', 'attitude', 'buddy', 'entertained', 'meeting', 'nevertheless', 'relief', 'daniel', 'endless', 'foreign', 'gratuitous', 'individual', 'relate', 'seasons', 'underrated', 'wayne', 'anime', 'flashbacks', 'pleasant', 'protagonist', 'travel', 'victor', 'costs', 'feet', 'foot', 'france', 'practically', 'test', 'treatment', 'religion', 'twenty', 'vehicle', 'alex', 'cinderella', 'combination', 'described', 'jackie', 'joseph', 'native', 'victoria', 'ancient', 'classics', 'eating', 'gordon', 'gory', 'irritating', 'levels', 'overly', 'parody', 'rules', 'stopped', 'assume', 'commercial', 'excited', 'executed', 'hearing', 'hill', 'theaters', 'asking', 'believes', 'broadway', 'haunting', 'marie', 'portrays', 'product', 'proper', 'range', 'sell', '/', 'moore', 'roy', 'ruined', 'tape', 'wide', 'capable', 'chief', 'choose', 'chosen', 'contrived', 'depressing', 'embarrassing', 'extras', 'generation', 'learns', 'matt', 'portraying', 'recall', 'unrealistic', 'wit', 'cares', 'clean', 'fill', 'germany', 'marry', 'nancy', 'rescue', 'rise', 'round', 'winner', 'anne', 'center', 'hunter', 'involves', 'kick', 'largely', 'model', 'produce', 'sequels', 'suffering', 'sympathetic', '11', 'clue', 'contrast', 'fame', 'grow', 'matters', 'priest', 'ryan', 'theatrical', '8/10', 'angel', 'f', 'handsome', 'patrick', 'strongly', 'uk', 'appealing', 'built', 'disgusting', 'dry', 'excitement', 'facts', 'post', 'research', 'anderson', 'appropriate', 'claim', 'evidence', 'h', 'louis', 'teenager', 'cash', 'chick', 'destroy', 'pity', 'vote', 'circumstances', 'correct', 'lewis', 'talks', 'tedious', 'asian', 'costume', 'crowd', 'europe', 'exploitation', 'heck', 'losing', 'promise', 'safe', 'thoughts', 'walter', 'captures', 'fool', 'football', 'naive', 'oliver', 'training', 'voices', 'amateurish', 'bodies', 'fly', 'frame', 'hanging', 'haunted', 'mask', 'sports', 'substance', 'tend', 'bringing', 'canadian', 'convinced', 'hopefully', 'horribly', 'lousy', 'scare', 'asleep', 'cost', 'grown', 'max', 'relatively', 'satisfying', 'saturday', 'spoil', 'teenagers', 'trilogy', 'virtually', 'walks', 'welcome', 'africa', 'bomb', 'danger', 'fits', 'hunt', 'insult', 'till', 'creatures', 'dubbed', 'murphy', 'obsessed', 'steals', 'tiny', 'universal', 'che', 'depicted', 'powell', 'seat', 'unlikely', 'baseball', 'category', 'influence', 'initial', 'kim', 'psycho', 'remain', 'reporter', 'unfortunate', 'factor', 'fare', 'market', 'offensive', 'robot', 'russell', 'send', 'texas', 'united', 'continuity', 'drag', 'flesh', 'hall', 'lawyer', 'lower', 'columbo', 'contemporary', 'cowboy', 'hide', 'holding', 'presents', 'qualities', 'refreshing', 'rental', 'soft', 'witness', 'believed', 'display', 'nominated', 'north', 'politics', 'promising', 'target', 'touches', 'viewed', 'weekend', '7/10', 'amateur', 'australian', 'claims', 'closer', 'edward', 'handled', 'hitchcock', 'plans', 'professor', 'provided', 'source', 'structure', 'surprises', 'ass', 'caine', 'cartoons', 'deaths', 'forgettable', 'repeated', 'roger', 'ruin', 'serves', 'surreal', 'accents', 'adventures', 'angles', 'brave', 'chose', 'fu', 'pacino', 'peace', 'service', 'shocked', 'sisters', 'speaks', 'warm', 'cant', 'latest', 'over-the-top', 'previously', 'suffers', 'weeks', 'whoever', 'alice', 'covered', 'deadly', 'degree', 'experiences', 'granted', 'hat', 'highlight', 'makeup', 'movement', 'pile', 'skin', 'accidentally', 'clark', 'dollars', 'eight', 'harsh', 'mistakes', 'paper', 'realizes', 'routine', 'supernatural', 'treasure', 'colors', 'combined', 'emma', 'rain', 'speech', 'twisted', 'uninteresting', 'veteran', 'wilson', 'convince', 'lesbian', 'make-up', 'propaganda', 'designed', 'draw', 'enemy', 'invisible', 'mainstream', 'recognize', 'sympathy', 'ted', 'universe', 'aliens', 'atrocious', 'blah', 'dogs', 'enter', 'focused', 'friday', 'guilty', 'mgm', 'path', 'princess', 'section', 'struggling', 'walked', 'aka', 'committed', 'frightening', 'occasional', 'print', 'terror', 'breaking', 'directly', 'false', 'magical', 'narration', 'nude', 'pitt', 'sarah', 'technically', 'theory', 'experienced', 'explains', 'featured', 'kinds', 'massive', 'offered', 'reputation', 'security', 'subtitles', 'variety', 'anger', 'donald', 'fairy', 'gritty', 'irish', 'johnson', 'prime', 'prior', 'sharp', 'sorts', 'statement', 'suspenseful', 'abuse', 'conversation', 'crying', 'darkness', 'driver', 'everywhere', 'inner', 'remotely', 'sunday', 'birth', 'bourne', 'core', 'department', 'exact', 'execution', 'express', 'freeman', 'hoffman', 'hong', 'junk', 'legendary', 'melodrama', 'multiple', 'performed', 'rachel', 'regret', 'reveal', 'spends', 'spy', 'stolen', 'surface', 'beach', 'bothered', 'california', 'chan', 'crash', 'dean', 'downright', 'figured', 'figures', 'grave', 'julia', 'lonely', 'matrix', 'mountain', 'required', 'revolution', 'sullivan', 'abandoned', 'branagh', 'effectively', 'erotic', 'favorites', 'fictional', 'forest', 'grim', 'happiness', 'insight', 'network', 'rule', 'susan', 'teens', 'worthwhile', 'alright', 'belief', 'demons', 'drop', 'forth', 'gas', 'hired', 'jon', 'lugosi', 'minds', 'paint', 'passing', 'proud', 'scale', 'scares', 'titanic', 'unconvincing', 'blockbuster', 'blow', 'bus', 'court', 'crude', 'cutting', 'dozen', 'foster', 'lisa', 'nation', 'paced', 'pulls', 'rings', 'account', 'afternoon', 'amazed', 'b-movie', 'china', 'delivery', 'imagery', 'listening', 'mexico', 'quest', 'reveals', 'ron', 'sir', 'trapped', 'urban', 'von', 'beast', 'code', 'idiot', 'jobs', 'significant', 'stayed', 'stays', 'sun', 'angle', 'buying', 'examples', 'jungle', 'mere', 'ned', 'paying', 'scenario', 'wear', 'burns', 'changing', 'dragon', 'dude', 'focuses', 'larry', 'lifetime', 'necessarily', 'rights', 'status', 'thankfully', 'achieve', 'african', 'clichéd', 'ghosts', 'mature', 'position', 'sidney', 'skill', 'spite', 'suffer', 'vietnam', 'views', 'cruel', 'desperately', 'device', 'heavily', 'interview', 'lights', 'metal', 'murderer', 'studios', '4/10', 'and/or', 'destroyed', 'fabulous', 'facial', 'ignore', 'india', 'initially', 'mexican', 'seek', 'summary', 'warner', 'artists', 'beloved', 'closing', 'deeper', 'dennis', 'driven', 'forgot', 'format', 'hardy', 'placed', 'pregnant', 'understood', 'complicated', 'disbelief', 'encounter', 'faithful', 'inept', 'maria', 'midnight', 'prefer', 'productions', 'raw', 'reminiscent', 'rough', 'san', 'sensitive', 'sounded', 'table', 'teeth', '1950', 'ain', 'answers', 'bore', 'brad', 'description', 'environment', 'greater', 'julie', 'league', 'ludicrous', 'renting', 'settings', 'slapstick', 'sleeping', 'underground', '3/10', 'appreciated', 'campy', 'claire', 'elizabeth', 'expert', 'extraordinary', 'flashback', 'helping', 'learning', 'lincoln', 'musicals', 'racist', 'rolling', 'shadow', 'storytelling', 'task', 'warned', 'amazingly', 'aunt', 'cabin', 'depiction', 'entertain', 'fourth', 'funnier', 'halfway', 'ill', 'mildly', 'notorious', 'regarding', 'sandler', 'arms', 'convey', 'decades', 'extent', 'leslie', 'originality', 'stereotypical', 'turkey', 'x', '1980', 'choices', 'criminals', 'dress', 'expression', 'honor', 'jessica', 'michelle', 'praise', 'suck', 'touched', 'truck', 'calling', 'comical', 'critical', 'criticism', 'cultural', 'daughters', 'experiment', 'indie', 'picks', 'quirky', 'base', 'basis', 'bbc', 'breathtaking', 'buck', 'cell', 'drinking', 'inspiration', 'notable', 'prepared', 'purely', 'starred', '14', 'bollywood', 'brooks', 'flight', 'friendly', 'introduction', 'jail', 'join', 'lazy', 'novels', 'properly', 'serve', 'succeeds', 'sword', 'throwing', 'throws', 'via', 'adding', 'blown', 'burt', 'causes', 'charge', 'cooper', 'graphics', 'kung', 'nowadays', 'raised', 'stanley', 'weapons', 'wears', '60s', 'caring', 'challenge', 'everyday', 'handle', 'laura', 'miller', 'protect', 'regard', 'strangely', '1/10', '25', 'amongst', 'fallen', 'intellectual', 'lane', 'nonetheless', 'raise', 'rip', 'spoof', 'wins', 'attempting', 'blair', 'carried', 'carries', 'carrying', 'escapes', 'kiss', 'lion', 'nazi', 'rogers', 'screening', 'so-called', 'tales', 'tracy', 'trick', 'alas', 'arrives', 'authentic', 'bettie', 'breath', 'embarrassed', 'enjoying', 'gruesome', 'k', 'needless', 'obnoxious', 'related', 'sinister', 'tree', 'westerns', '***', '13', 'cases', 'daily', 'exists', 'holmes', 'interpretation', 'mansion', 'navy', 'philip', 'ratings', 'reed', 'replaced', 'sitcom', 'sleazy', 'southern', 'tradition', 'wave', 'attacked', 'busy', 'carpenter', 'confusion', 'demon', 'determined', 'ironic', 'lie', 'lucy', 'pet', 'reference', 'remote', 'shut', 'stanwyck', 'stomach', 'successfully', 'tight', 'timing', '1970', 'angels', 'chilling', 'christ', 'flow', 'guard', 'hood', 'jake', 'locked', 'madness', 'marvelous', 'mirror', 'obsession', 'presentation', 'punch', 'rival', 'sutherland', 'usa', 'clips', 'essential', 'fortunately', 'ha', 'horrific', 'inspector', 'intentions', 'interviews', 'legs', 'risk', 'served', 'stupidity', 'vacation', '2000', '9/10', 'ashamed', 'attacks', 'brando', 'delight', 'established', 'intensity', 'jumps', 'matthau', 'oddly', 'remind', 'sold', 'stops', 'stylish', 'term', 'balance', 'contain', 'dollar', 'frequently', 'goofy', 'jay', 'jewish', 'manager', 'patient', 'poignant', 'shower', 'sides', '0', '2006', 'albeit', 'bo', 'comedian', 'flawed', 'hence', 'personalities', 'retarded', 'seagal', 'struggles', 'sum', 'thrilling', 'titles', 'topic', 'w', 'baker', 'bridge', 'cook', 'drives', 'expressions', 'overcome', 'par', 'refuses', 'revolves', 'suspects', 'upset', 'widmark', 'wishes', 'bette', 'credibility', 'franchise', 'greatly', 'internet', 'lessons', 'mindless', 'rochester', 'spoken', 'storm', 'stranger', 'thousands', 'warn', 'advantage', 'corner', 'credible', 'cynical', 'dinner', 'east', 'elvis', 'grey', 'innocence', 'lesser', 'mentally', 'mob', 'riding', 'trite', 'bitter', 'bound', 'chair', 'controversial', 'fbi', 'glass', 'gross', 'helen', 'hills', 'italy', 'spielberg', 'tense', 'text', 'thief', 'toy', 'wealthy', 'adapted', 'andrews', 'broke', 'chaplin', 'dentist', 'dubbing', 'elvira', 'guessing', 'seeking', 'streisand', 'suffered', '2001', 'britain', 'bugs', 'countries', 'crisis', 'dislike', 'enjoyment', 'glimpse', 'hundreds', 'kurt', 'medical', 'mouse', 'nelson', 'nine', 'noble', 'opened', 'ourselves', 'pride', 'racism', 'shines', 'succeed', 'trial', 'uncomfortable', 'wasting', 'whereas', 'courage', 'derek', 'gripping', 'happily', 'hint', 'infamous', 'mass', 'millions', 'physically', 'pool', 'reunion', 'separate', 'sin', 'technique', '1950s', 'andrew', 'atmospheric', 'hole', 'oscars', 'perform', 'screenwriter', 'shape', 'shorts', 'sings', 'sons', 'contact', 'curse', 'drink', 'ensemble', 'exceptional', 'performers', 'scripts', 'sexuality', 'virgin', 'weapon', 'arnold', 'cameos', 'cheese', 'connected', 'cube', 'dear', 'irony', 'letting', 'meaningful', 'protagonists', 'ralph', 'snow', 'suggests', 'tied', 'troubled', 'vincent', 'assistant', 'boll', 'catholic', 'consists', 'develops', 'glory', 'holiday', 'horses', 'host', 'hundred', 'idiotic', 'lying', 'portrait', 'steps', 'stretch', 'unforgettable', 'wwii', 'accepted', 'attraction', 'bag', 'burton', 'card', 'fish', 'flynn', 'gain', 'hamlet', 'lovable', 'neighborhood', 'noted', 'quote', 'spots', 'worlds', 'aired', 'annoyed', 'arm', 'bat', 'belongs', 'catherine', 'concert', 'cousin', 'dorothy', 'glover', 'hiding', 'hoped', 'lucas', 'miscast', 'neat', 'pat', 'plastic', 'proof', 'redemption', 'repeat', 'roberts', 'saves', 'sentimental', 'stan', 'torn', 'boredom', 'chuck', 'curtis', 'dialogs', 'dig', 'entry', 'fortune', 'one-liners', 'plague', 'searching', 'terrifying', 'thrillers', 'bears', 'colorful', 'condition', 'dancer', 'denzel', 'equal', 'imaginative', 'knife', 'library', 'mst3k', 'object', 'perfection', 'st', 'walken', 'worry', 'achieved', 'concerns', 'crimes', 'eerie', 'encounters', 'endearing', 'factory', 'guts', 'hudson', 'lloyd', 'massacre', 'profound', 'segments', 'sends', 'solve', 'stunts', 'tour', 'tune', 'writer/director', 'zone', 'appearances', 'carol', 'chases', 'checking', 'closely', 'complaint', 'elsewhere', 'eva', 'expensive', 'flaw', 'hanks', 'homeless', 'hooked', 'hunting', 'jeremy', 'laid', 'month', 'pack', '1st', 'aged', 'birthday', 'bobby', 'canada', 'competent', 'cusack', 'dealt', 'essence', 'karloff', 'oil', 'rocks', 'scientists', 'striking', 'teach', 'tribute', 'battles', 'charisma', 'civil', 'countless', 'dare', 'dragged', 'em', 'hang', 'incoherent', 'neighbor', 'pitch', 'rush', 'rushed', 'winter', 'appearing', 'attempted', 'believing', 'briefly', 'chasing', 'covers', 'health', 'hearts', 'heston', 'kane', 'loser', 'pointed', 'reactions', 'ritter', 'shoots', 'silver', 'split', 'strikes', 'techniques', 'thousand', 'tricks', 'videos', '1990', '2005', 'barry', 'carter', 'charismatic', 'com', 'doc', 'goal', 'grows', 'hip', 'horrendous', 'magazine', 'noise', 'sally', 'slight', 'surrounding', 'unintentionally', 'virus', 'wing', 'workers', 'admittedly', 'basement', 'burning', 'chances', 'colour', 'crafted', 'dawn', 'dramas', 'eastwood', 'gag', 'painting', 'ripped', 'spending', 'spike', 'stealing', 'stood', 'stronger', 'surrounded', 'tons', '**', 'attached', 'easier', 'fired', 'godfather', 'guest', 'homage', 'iii', 'intention', 'neck', 'neil', 'represents', 'secretary', 'shall', 'specific', 'trade', 'wake', 'weight', 'associated', 'cole', 'corrupt', 'cox', 'disagree', 'duke', 'exercise', 'forgive', 'guilt', 'ian', 'kicks', 'messages', 'miike', 'occurs', 'projects', 'relevant', 'requires', 'revelation', 'sexually', 'stated', 'university', 'walls', 'wanna', '18', 'acceptable', 'bakshi', 'beating', 'carefully', 'drags', 'faced', 'gothic', 'hype', 'identify', 'importance', 'jesse', 'killings', 'nose', 'notch', 'pie', 'tea', 'typically', 'bush', 'cardboard', 'carrey', 'dropped', 'increasingly', 'inevitable', 'investigation', 'lab', 'lily', 'luckily', 'per', 'reynolds', 'row', 'savage', 'vague', '17', 'afterwards', 'allowing', 'brand', 'breasts', 'bride', 'brilliance', 'brosnan', 'comics', 'continued', 'contract', 'dawson', 'enters', 'executive', 'fitting', 'gift', 'gotta', 'instantly', 'kubrick', 'medium', 'nights', 'resolution', 'stunt', 'thrills', 'thumbs', '2/10', 'alike', 'commit', 'competition', 'destruction', 'fifteen', 'fisher', 'importantly', 'insulting', 'jamie', 'joey', 'kidnapped', 'kudos', 'overlooked', 'performing', 'persona', 'pleased', 'pushed', 'shining', 'strictly', 'toilet', '1970s', 'aforementioned', 'arrested', 'australia', 'beings', 'fears', 'flash', 'handful', 'individuals', 'le', 'letter', 'must-see', 'non-existent', 'norman', 'presumably', 'realise', 'silence', 'sophisticated', 'useless', 'worthless', 'appalling', 'bible', 'buried', 'creation', 'creators', 'cruise', 'doors', 'huh', 'listed', 'monkey', 'nuclear', 'packed', 'partly', 'press', 'real-life', 'regardless', 'relative', 'strike', 'strip', 'tremendous', 'wondered', 'wonders', 'admire', 'bucks', 'cagney', 'con', 'corpse', 'digital', 'disease', 'estate', 'evident', 'frustrated', 'grandmother', 'heat', 'highlights', 'korean', 'miserably', 'outrageous', 'pleasantly', 'poverty', 'returning', 'spell', 'stiff', 'talked', 'union', 'ward', '24', 'achievement', 'boxing', 'bullets', 'burn', 'characterization', 'citizen', 'consequences', 'cup', 'curiosity', 'drivel', 'flawless', 'generous', 'goldberg', 'hitting', 'horrors', 'ken', 'larger', 'mafia', 'menacing', 'mild', 'mitchell', 'notes', 'planning', 'prevent', 'shy', 'spooky', 'superbly', 'territory', 'uninspired', '1980s', 'accomplished', 'accused', 'astaire', 'attracted', 'blob', 'critic', 'davies', 'diamond', 'dire', 'emily', 'falk', 'fatal', 'francisco', 'gandhi', 'guide', 'ironically', 'los', 'lou', 'modesty', 'nurse', 'opposed', 'picking', 'psychiatrist', 'repetitive', 'response', 'satan', 'shortly', 'slightest', 'souls', 'spiritual', 'splendid', 'spring', 'ticket', 'abc', 'alexander', 'ambitious', 'blows', 'clues', 'conspiracy', 'convoluted', 'craig', 'depression', 'directorial', 'fay', 'felix', 'inspiring', 'installment', 'jerk', 'jumping', 'lacked', 'perry', 'photographed', 'piano', 'raped', 'revealing', 'root', 'ruth', 'samurai', 'spoiled', 'struck', 'subsequent', 'temple', 'timeless', 'twin', 'watches', 'wes', 'beer', 'cared', 'documentaries', 'duo', 'hire', 'ignored', 'indians', 'intrigued', 'laurel', 'logical', 'manhattan', 'melodramatic', 'morality', 'precious', 'remaining', 'rip-off', 'smooth', 'sole', 'suits', 'turner', 'aimed', 'bleak', 'border', 'cameron', 'distant', 'drunken', 'elderly', 'empire', 'farce', 'forbidden', 'hatred', 'jealous', 'marks', 'mel', 'motivation', 'notably', 'overdone', 'paulie', 'pulling', 'push', 'reasonably', 'sacrifice', 'trap', 'wells', 'ad', 'argument', 'captivating', 'cia', 'craven', 'dignity', 'draws', 'explore', 'failing', 'glenn', 'gradually', 'liberal', 'mile', 'minimal', 'obscure', 'providing', 'reduced', 'repeatedly', 'rid', 'shark', 'subplot', 'tall', 'throat', 'timothy', 'verhoeven', 'wicked', '20th', 'childish', 'dave', 'definite', 'dracula', 'elaborate', 'futuristic', 'intent', 'loosely', 'misses', 'narrator', 'outcome', 'rap', 'reasonable', 'returned', 'screams', 'shadows', 'sticks', 'stiller', 'tunes', '2002', 'absence', 'areas', 'beaten', 'brazil', 'darker', 'discussion', 'explicit', 'idiots', 'jet', 'kenneth', 'knock', 'maker', 'meat', 'mid', 'photographer', 'progress', 'psychotic', 'romero', 'shoes', 'sloppy', 'thirty', 'unbearable', 'warren', 'warrior', 'worried', 'wreck', 'yesterday', '2004', 'blank', 'complain', 'connect', 'contrary', 'cried', 'danes', 'differences', 'distance', 'exaggerated', 'fx', 'gentle', 'hysterical', 'improved', 'ireland', 'karen', 'kitchen', 'mildred', 'non', 'poster', 'pushing', 'stole', 'sunshine', 'unbelievably', 'vicious', 'annie', 'anyways', 'arrive', 'choreography', 'concerning', 'displays', 'eve', 'existed', 'eyre', 'gray', 'horrid', 'incident', 'matthew', 'occurred', 'ought', 'overrated', 'prom', 'purple', 'restaurant', 'spin', 'threat', 'tortured', 'triumph', '1930s', 'affected', 'bathroom', 'blend', 'builds', 'burned', 'commercials', 'currently', 'dancers', 'donna', 'drawing', 'extended', 'fancy', 'farm', 'kirk', 'landscape', 'mann', 'newspaper', 'ranks', 'reached', 'resembles', 'scripted', 'size', 'smoke', 'smoking', 'string', 'superhero', 'symbolism', 'translation', 'walker', 'wallace', '2003', 'antics', 'broadcast', 'demands', 'editor', 'enjoys', 'ex', 'fever', 'hamilton', 'hugh', 'investigate', 'involvement', 'pretend', 'receive', 'recognized', 'secrets', 'styles', 'swedish', 'threw', 'trio', 'website', 'altogether', 'argue', 'beats', 'beatty', 'broad', 'daring', 'dinosaurs', 'dynamic', 'exposed', 'giallo', 'harder', 'holy', 'lawrence', 'leonard', 'margaret', 'mate', 'movements', 'nicholson', 'occur', 'panic', 'proceedings', 'ridiculously', 'robots', 'sadness', 'superficial', 'swear', 'synopsis', 'threatening', 'todd', 'voight', '1/2', 'all-time', 'bell', 'bite', 'camera-work', 'clint', 'conversations', 'craft', 'engaged', 'fonda', 'fulci', 'greek', 'heroic', 'hollow', 'imagined', 'kapoor', 'machines', 'merit', 'population', 'rage', 'tame', 'thugs', 'unpleasant', 'adequate', 'altman', 'apes', 'blake', 'brady', 'brains', 'buddies', 'bug', 'cameras', 'carl', 'cats', 'clothing', 'comfortable', 'cuba', 'devoted', 'discovery', 'edie', 'escaped', 'explosion', 'innovative', 'intrigue', 'journalist', 'juvenile', 'kidding', 'lips', 'load', 'mountains', 'murderous', 'nearby', 'offering', 'orders', 'sadistic', 'scientific', 'selfish', 'selling', 'staying', 'titled', 'upper', 'wealth', 'aging', 'deliberately', 'detailed', 'dialogues', 'eccentric', 'explosions', 'folk', 'genres', 'lemmon', 'liking', 'madonna', 'mickey', 'overwhelming', 'palma', 'rambo', 'removed', 'rural', 'tommy', 'vivid', 'web', 'whale', '100%', '2nd', '45', 'abilities', 'audio', 'banned', 'block', 'butt', 'causing', 'chain', 'composed', 'distracting', 'disturbed', 'errors', 'grab', 'hammer', 'headed', 'holly', 'implausible', 'ingredients', 'jeffrey', 'kennedy', 'nazis', 'nightmares', 'parent', 'popcorn', 'possibility', 'producing', 'relies', 'resemblance', 'shine', 'staff', 'twelve', 'undoubtedly', 'uneven', 'unwatchable', 'waters', '16', 'ah', 'awake', 'bin', 'bird', 'birds', 'careers', 'catches', 'cliff', 'combat', 'damage', 'defeat', 'explaining', 'focusing', 'furthermore', 'groups', 'harvey', 'lol', 'meaningless', 'occasion', 'odds', 'officers', 'olivier', 'passes', 'polanski', 'react', 'scheme', 'signs', 'soviet', 'spare', 'sport', 'subjects', 'thrill', 'unintentional', 'versus', 'wolf', 'backdrop', 'cary', 'chaos', 'clumsy', 'coherent', 'conventional', 'explored', 'flies', 'florida', 'funeral', 'gadget', 'generic', 'hank', 'li', 'linda', 'masters', 'mistaken', 'mummy', 'official', 'pays', 'primary', 'secondly', 'seventies', 'spirits', 'succeeded', 'survival', 'travels', 'trees', 'winters', '1930', '2007', 'afford', 'amy', 'beneath', 'clown', 'decisions', 'desperation', 'devoid', 'disc', 'discuss', 'ease', 'exotic', 'financial', 'ginger', 'hal', 'hates', 'hbo', 'houses', 'instant', 'lyrics', 'maggie', 'notion', 'philosophy', 'portion', 'possessed', 'primarily', 'prostitute', 'pulp', 'remarkably', 'roman', 'settle', 'streep', 'thick', 'tracks', 'unfolds', '5/10', 'blatant', 'classes', 'colonel', 'countryside', 'diane', 'dozens', 'dutch', 'enemies', 'enormous', 'enterprise', 'flop', 'frustration', 'garden', 'glorious', 'hideous', 'highest', 'hints', 'leg', 'lifestyle', 'performer', 'represent', 'shirley', 'smaller', 'staged', 'tap', 'wannabe', '1960', '1996', '1999', 'akshay', 'avoided', 'benefit', 'brooklyn', 'cheating', 'consistently', 'destiny', 'directs', 'disjointed', 'doomed', 'ellen', 'et', 'fond', 'freak', 'goodness', 'hart', 'homer', 'ideal', 'immensely', 'impress', 'jazz', 'judging', 'macy', 'measure', 'mixture', 'montage', 'motives', 'mysteries', 'ocean', 'offended', 'principal', 'props', 'reaches', 'rex', 'rick', 'satisfied', 'sidekick', 'subtlety', 'surviving', 'topless', 'toys', 'urge', 'uwe', 'winds', 'ya', '50s', 'adorable', 'advance', 'amanda', 'april', 'atlantis', 'backgrounds', 'bedroom', 'bold', 'bone', 'carrie', 'celluloid', 'crush', 'dances', 'dating', 'describes', 'diana', 'disappear', 'doll', 'drops', 'fighter', 'garbo', 'godzilla', 'griffith', 'influenced', 'matches', 'models', 'niro', 'outer', 'practice', 'rank', 'rebel', 'saga', 'senseless', 'simplistic', 'slap', 'soccer', 'specifically', 'stellar', 'stinker', 'survivors', 'tear', 'ties', 'trailers', 'widow', 'wont', 'bare', 'blew', 'circle', 'claimed', 'coffee', 'commented', 'companion', 'contained', 'corruption', 'ego', 'forms', 'hartley', 'lust', 'march', 'menace', 'miserable', 'outfit', 'peoples', 'relations', 'ruthless', 'seed', 'tender', 'vast', 'wives', '3rd', 'angeles', 'arrogant', 'celebrity', 'closet', 'cure', 'daddy', 'dedicated', 'depressed', 'developing', 'ears', 'emphasis', 'endings', 'endure', 'grinch', 'guessed', 'hardcore', 'illogical', 'introduces', 'involve', 'jonathan', 'lasted', 'loads', 'lumet', 'mario', 'melting', 'oz', 'politically', 'revolutionary', 'shaw', 'shelf', 'snake', 'suited', 'transformation', 'ups', 'weakest', 'abysmal', 'adams', 'aid', 'authority', 'blues', 'disappeared', 'disappoint', 'displayed', 'divorce', 'domino', 'honesty', 'hurts', 'interaction', 'judy', 'justify', 'kicked', 'lena', 'link', 'loyal', 'method', 'morris', 'passionate', 'possibilities', 'quotes', 'recorded', 'sandra', 'sellers', 'sentence', 'tongue', 'trashy', 'traveling', 'unsettling', 'user', 'wendy', 'wore', 'wrestling', '90s', 'berlin', 'bonus', 'cake', 'campbell', 'charlotte', 'chorus', 'christy', 'coach', 'command', 'dalton', 'faster', 'faults', 'grasp', 'hit-man', 'hung', 'isolated', 'monkeys', 'moody', 'nomination', 'planned', 'realizing', 'riveting', 'rooms', 'severe', 'similarities', 'slave', 'solely', 'solo', 'stress', 'surfing', 'tad', 'thoughtful', 'understandable', 'agrees', 'buff', 'cards', 'chased', 'comparing', 'considerable', 'consistent', 'dolls', 'downhill', 'elephant', 'embarrassment', 'facing', 'formulaic', 'hopper', 'horrifying', 'ignorant', 'improve', 'inventive', 'khan', 'kyle', 'lately', 'leo', 'museum', 'nostalgic', 'orson', 'preview', 'promised', 'purchase', 'represented', 'scarecrow', 'scope', 'snl', 'stereotype', 'stinks', 'terrorist', 'terry', 'treats', 'yellow', 'buffs', 'bullet', 'cinematographer', 'concern', 'dinosaur', 'edgar', 'eighties', 'handed', 'helicopter', 'hook', 'letters', 'mayor', 'montana', 'motivations', 'myers', 'nervous', 'on-screen', 'one-dimensional', 'photos', 'report', 'roth', 'safety', 'similarly', 'sits', 'swimming', 'switch', 'taught', 'tonight', 'unhappy', 'waited', 'wished', '=', 'amitabh', 'artificial', 'behave', 'bergman', 'blond', 'blunt', 'chess', 'closest', 'combine', 'connery', 'crack', 'defend', 'delivering', 'duty', 'education', 'fooled', 'franco', 'gangsters', 'inane', 'kingdom', 'ollie', 'painted', 'paltrow', 'porno', 'relation', 'ruby', 'shelley', 'stevens', 'suitable', 'transfer', 'useful', 'vegas', '1983', 'affect', 'arrived', 'ballet', 'boot', 'close-ups', 'conflicts', 'convincingly', 'dickens', 'dixon', 'dub', 'engage', 'fix', 'global', 'grandfather', 'humble', 'im', 'inferior', 'macarthur', 'mars', 'miracle', 'namely', 'philosophical', 'plant', 'poetic', 'pretending', 'q', 'reads', 'robinson', 'rotten', 'sappy', 'simpson', 'stooges', 'thru', 'timon', 'tiresome', 'valuable', 'vengeance', 'virginia', '1972', 'access', 'agents', 'airport', 'babe', 'bands', 'bela', 'beliefs', 'blade', 'buildings', 'carradine', 'cd', 'cg', 'civilization', 'corporate', 'couples', 'destroying', 'elegant', 'ethan', 'finger', 'gerard', 'jenny', 'lundgren', 'maintain', 'mall', 'nicholas', 'pig', 'pokemon', 'provoking', 'racial', 'reflect', 'scottish', 'secretly', 'september', 'shirt', 'sirk', 'species', 'staring', 'steel', 'stilted', 'waves', 'airplane', 'alcoholic', 'armed', 'bath', 'catchy', 'centers', 'cheated', 'chicago', 'cleverly', 'designs', 'desired', 'dimensional', 'emperor', 'exploration', 'firstly', 'francis', 'germans', 'greedy', 'guarantee', 'gundam', 'lay', 'limits', 'made-for-tv', 'pearl', 'potentially', 'progresses', 'questionable', 'reaching', 'remarks', 'richardson', 'robbery', 'scores', 'shake', 'simplicity', 'splatter', 'survived', 'wet', 'wound', 'yelling', '00', 'abusive', 'advise', 'alongside', 'amounts', 'attitudes', 'bottle', 'cave', 'chest', 'communist', 'complexity', 'construction', 'depicts', 'earned', 'illegal', 'intentionally', 'invasion', 'iron', 'jumped', 'latin', 'lengthy', 'literature', 'misery', 'nostalgia', 'plight', 'punk', 'purchased', 'raymond', 'rendition', 'richards', 'rocket', 'showcase', 'slick', 'spock', 'sue', 'trained', 'understated', 'voice-over', 'vulnerable', 'wandering', 'willis', 'witches', '1968', 'advanced', 'advertising', 'arguably', 'awe', 'bacall', 'biko', 'brutally', 'confidence', 'damon', 'experiments', 'floating', 'gabriel', 'grayson', 'hello', 'illness', 'inappropriate', 'incomprehensible', 'iran', 'joined', 'justin', 'likewise', 'marty', 'mini', 'molly', 'opinions', 'paranoia', 'patients', 'persons', 'prisoner', 'raising', 'rat', 'recognition', 'restored', 'rising', 'scooby', 'scrooge', 'spoke', 'spread', 'sub', 'tie', 'transition', 'troops', 'witnesses', 'wizard', 'worker', 'wrapped', '1940', '9/11', 'accompanied', 'agreed', 'appreciation', 'attorney', 'button', 'capturing', 'careful', 'carell', 'challenging', 'choreographed', 'cities', 'copies', 'drake', 'ensues', 'farrell', 'fascinated', 'foul', 'hunters', 'intimate', 'june', 'junior', 'kay', 'keith', 'lively', 'lowest', 'mankind', 'neighbors', 'online', 'phantom', 'poetry', 'pops', 'proceeds', 'relatives', 'resort', 'resources', 'responsibility', 'signed', 'taxi', 'tomatoes', 'unit', 'viewings', 'visible', 'visits', 'witnessed', '#1', '---', '1960s', 'aids', 'alison', 'arrival', 'ashley', 'assault', 'austen', 'bang', 'barrymore', 'betty', 'capital', 'christians', 'classical', 'compelled', 'creator', 'del', 'demented', 'descent', 'dreary', 'eager', 'earl', 'edition', 'excessive', 'frankenstein', 'frequent', 'homosexual', 'hyde', 'kicking', 'lit', 'losers', 'manipulative', 'othello', 'pants', 'parallel', 'pit', 'randy', 'rooney', 'royal', 'satisfy', 'stale', 'stallone', 'subplots', 'suspicious', '*1/2', 'alternate', 'ape', 'butler', 'cliche', 'conservative', 'constructed', 'crucial', 'der', 'eaten', 'equivalent', 'exceptionally', 'graham', 'hilariously', 'incompetent', 'julian', 'lone', 'louise', 'masterful', 'mundane', 'nyc', 'overlook', 'owen', 'parties', 'plausible', 'property', 'reid', 'seeks', 'tends', 'walsh', 'warmth', 'well-known', 'writes', '*****', '1973', 'analysis', 'balls', 'basketball', 'belong', 'belushi', 'blowing', 'bull', 'calm', 'carla', 'channels', 'chooses', 'clock', 'creep', 'demand', 'despair', 'dolph', 'domestic', 'dust', 'enthusiasm', 'frankie', 'greed', 'improvement', 'irrelevant', 'loaded', 'methods', 'novak', 'omen', 'operation', 'opportunities', 'overacting', 'pal', 'pamela', 'poem', 'pot', 'priceless', 'prisoners', 'prize', 'pursuit', 'randomly', 'rangers', 'sincere', 'slaughter', 'smiling', 'solution', 'spain', 'tag', 'terrorists', 'tiger', 'vaguely', 'watson', 'whats', 'widely', 'willie', 'wisdom', 'wishing', 'zizek', 'abraham', 'angela', 'awfully', 'brenda', 'bumbling', 'chicks', 'conceived', 'creativity', 'distinct', 'doom', 'elm', 'equipment', 'feed', 'fido', 'gentleman', 'heights', 'icon', 'instinct', 'introduce', 'landscapes', 'legal', 'marion', 'mechanical', 'mentioning', 'mentions', 'meryl', 'messed', 'nuts', 'pan', 'performs', 'polished', 'promises', 'resident', 'resist', 'sabrina', 'scotland', 'sink', 'suspend', 'tribe', 'troubles', 'twilight', 'wacky', 'whoopi', '13th', '1987', '35', '3d', 'activities', 'alfred', 'antwone', 'assassin', 'assigned', 'attend', 'bay', 'borrowed', 'championship', 'chapter', 'climactic', 'closed', 'cringe', 'crocodile', 'damme', 'dana', 'darren', 'expressed', 'film-makers', 'fuller', 'greg', 'iraq', 'israel', 'jaws', 'josh', 'masses', 'masterpieces', 'mclaglen', 'mistress', 'monk', 'muslim', 'orleans', 'palace', 'peters', 'petty', 'phony', 'prequel', 'psychic', 'punishment', 'quit', 'rabbit', 'ramones', 'rats', 'receives', 'recording', 'rukh', 'showdown', 'simmons', 'spirited', 'square', 'suffice', 'survivor', 'thompson', 'trail', 'unaware', 'unoriginal', 'unreal', 'ustinov', 'waitress', 'wounded', 'acid', 'album', 'assumed', 'austin', 'businessman', 'cassidy', 'contest', 'depicting', 'dimension', 'doubts', 'edgy', 'eugene', 'firm', 'furious', 'fury', 'gifted', 'household', 'imitation', 'inevitably', 'integrity', 'interests', 'marketing', 'minimum', 'miyazaki', 'nicole', 'pierce', 'pink', 'popularity', 'ruins', 'shed', 'sneak', 'soderbergh', 'spacey', 'stargate', 'swim', 'testament', 'tooth', 'travesty', 'underlying', 'unpredictable', 'voiced', 'wholly', '1971', '1984', 'accuracy', 'antonioni', 'boom', 'bud', 'catching', 'compassion', 'correctly', 'dee', 'defense', 'definition', 'deniro', 'directions', 'dreck', 'dud', 'educational', 'empathy', 'expedition', 'exposure', 'greatness', 'harm', 'historically', 'hopeless', 'kurosawa', 'laughably', 'maid', 'map', 'mighty', 'nail', 'nathan', 'package', 'patience', 'purposes', 'quinn', 'resulting', 'rocky', 'roots', 'sid', 'specially', 'stunned', 'suggested', 'supported', 'teaching', 'trademark', 'valley', 'warriors', '–', '1933', '1993', '1995', '1997', 'adaptations', 'baldwin', 'cannibal', 'claus', 'comfort', 'companies', 'composer', 'distribution', 'exchange', 'fashioned', 'fought', 'generations', 'grabs', 'immediate', 'kumar', 'loyalty', 'maniac', 'marshall', 'merits', 'metaphor', 'middle-aged', 'moronic', 'nephew', 'nonsensical', 'peak', 'pete', 'phil', 'reflection', 'resemble', 'rita', 'robbins', 'rolled', 'ross', 'seldom', 'significance', 'sissy', 'sounding', 'strangers', 'technicolor', 'twins', 'unfair', 'uplifting', 'wang', 'wilderness', 'would-be', 'yard', '3000', '99', 'alicia', 'ambiguous', 'andre', 'astonishing', 'biography', 'boyle', 'brutality', 'christianity', 'conditions', 'confrontation', 'demise', 'din', 'disliked', 'downey', 'fest', 'fiancé', 'fields', 'frustrating', 'gregory', 'invented', 'joel', 'kissing', 'landing', 'legacy', 'leon', 'logan', 'malone', 'murray', 'palance', 'pressure', 'preston', 'raines', 'rave', 'reel', 'romp', 'rubber', 'shaky', 'shanghai', 'sixties', 'stretched', 'subjected', 'unexpectedly', 'unseen', 'valentine', 'victory', 'absent', 'alcohol', 'alec', 'amused', 'basinger', 'bridget', 'checked', 'coast', 'confess', 'crystal', 'deceased', 'defined', 'desires', 'fascination', 'females', 'flair', 'foxx', 'gather', 'hawke', 'hears', 'inability', 'karl', 'lackluster', 'mini-series', 'nerd', 'newman', 'ninja', 'objective', 'passable', 'refused', 'remained', 'replace', 'respectively', 'rises', 'russia', 'senses', 'sentiment', 'sentinel', 'sharon', 'simultaneously', 'sopranos', 'spark', 'stack', 'stumbled', 'sunny', 'tripe', 'vulgar', 'wretched', '2008', 'accomplish', 'awhile', 'blast', 'buffalo', 'bunny', 'clip', 'crawford', 'deaf', 'difficulties', 'dysfunctional', 'eastern', 'favour', 'frightened', 'glasses', 'interactions', 'joins', 'kolchak', 'laws', 'milk', 'mtv', 'newly', 'photo', 'poison', 'precisely', 'prepare', 'presenting', 'primitive', 'pun', 'raises', 'reader', 'relax', 'require', 'retired', 'rifle', 'rude', 'shoulders', 'silliness', 'stuart', 'tank', 'tastes', 'teachers', 'underneath', 'wwe', 'absurdity', 'abused', 'agenda', 'amusement', 'appropriately', 'bacon', 'bargain', 'caricatures', 'chicken', 'choppy', 'clarke', 'coincidence', 'complaining', 'complaints', 'da', 'deranged', 'discovering', 'dont', 'duvall', 'examination', 'experimental', 'exposition', 'fathers', 'fingers', 'gender', 'ho', 'hopkins', 'husbands', 'items', 'kansas', 'lands', 'les', 'loneliness', 'masks', 'matched', 'misleading', 'musician', 'musicians', 'no-one', 'noises', 'parade', 'penn', 'policeman', 'posey', 'premiere', 'prey', 'quietly', 'rates', 'region', 'remakes', 'respected', 'roof', 'ships', 'springer', 'stark', 'sums', 'tacky', 'teaches', 'unfold', 'unlikable', 'vance', 'wagner', 'wakes', 'weakness', 'wildly', 'adopted', 'aspiring', 'attenborough', 'automatically', 'behaviour', 'bernard', 'blacks', 'celebration', 'charged', 'designer', 'dose', 'dresses', 'electric', 'encourage', 'esther', 'fantasies', 'femme', 'framed', 'function', 'generated', 'grief', 'grotesque', 'hackneyed', 'heartfelt', 'imaginable', 'inexplicably', 'laurence', 'literary', 'mode', 'moreover', 'muddled', 'nolan', 'occasions', 'ordered', 'paradise', 'phrase', 'pitiful', 'preposterous', 'provocative', 'ratso', 'rely', 'roommate', 'shared', 'shoddy', 'straightforward', 'tierney', 'tomorrow', 'trend', 'warming', '1936', '1986', '1989', '30s', 'accepts', 'additional', 'alert', 'alternative', 'amazon', 'asylum', 'babies', 'beverly', 'buster', 'canyon', 'cattle', 'chavez', 'chills', 'comedians', 'conviction', 'counts', 'credited', 'fi', 'filling', 'heartbreaking', 'hopelessly', 'ignorance', 'invites', 'knight', 'knocked', 'ladder', 'naughty', 'objects', 'option', 'outfits', 'paramount', 'paxton', 'positively', 'pro', 'puppet', 'quaid', 'realised', 'referred', 'reign', 'releases', 'rosemary', 'skull', 'squad', 'sung', 'swing', 'tasteless', 'tracking', 'tyler', 'vice', 'visiting', 'woo', 'wrap', 'year-old', '1978', 'abrupt', 'admirable', 'betrayal', 'brendan', 'challenges', 'conscience', 'corpses', 'daniels', 'deserted', 'devices', 'ear', 'fog', 'forty', 'gillian', 'gina', 'glowing', 'handling', 'infected', 'insurance', 'jess', 'leigh', 'lindsay', 'lock', 'lush', 'mccoy', 'morbid', 'murdering', 'pages', 'pg-13', 'posters', 'preminger', 'realm', 'recommendation', 'refer', 'renaissance', 'respective', 'rod', 'severely', 'tarantino', 'translated', 'tube', 'uncut', 'vader', 'youngest', '19th', 'affection', 'bronson', 'citizens', 'conventions', 'eternal', 'fontaine', 'freaks', 'gambling', 'hughes', 'inconsistent', 'indication', 'invited', 'jews', 'kidman', 'kitty', 'kline', 'lester', 'lois', 'martha', 'meg', 'minded', 'patricia', 'psychology', 'regarded', 'rejected', 'rome', 'sassy', 'secondary', 'servant', 'shares', 'skits', 'thought-provoking', 'underworld', 'visited', 'well-written', '1988', 'active', 'address', 'affairs', 'anticipation', 'behold', 'beside', 'bike', 'bros', 'caliber', 'cannon', 'chainsaw', 'christine', 'circus', 'conveys', 'cope', 'cruelty', 'cue', 'curly', 'deleted', 'depending', 'disappears', 'drove', 'evidently', 'farmer', 'filth', 'guaranteed', 'guests', 'hammy', 'heading', 'heist', 'iconic', 'insipid', 'iv', 'labor', 'mayhem', 'mill', 'minus', 'misguided', 'nicolas', 'nod', 'oldest', 'orange', 'outing', 'overlong', 'penny', 'posted', 'previews', 'profanity', 'promote', 'receiving', 'reflects', 'riot', 'sci', 'screens', 'shades', 'singers', 'sooner', 'soup', 'stages', 'suspension', 'thread', 'threatens', 'venture', 'weaknesses', '$1', '1979', 'acceptance', 'acclaimed', 'adolescent', 'aim', 'alvin', 'ants', 'banal', 'beatles', 'beware', 'boston', 'bully', 'burst', 'campaign', 'cancer', 'chuckle', 'cream', 'cushing', 'demonstrates', 'difficulty', 'disguise', 'edit', 'el', 'emerges', 'entitled', 'fishing', 'gere', 'guitar', 'harmless', 'harold', 'height', 'hippie', 'hk', 'housewife', 'industrial', 'lifted', 'marvel', 'minister', 'muppet', 'muppets', 'net', 'nolte', 'non-stop', 'obligatory', 'peck', 'portrayals', 'prejudice', 'records', 'reluctant', 'remade', 'scorsese', 'selection', 'set-up', 'slice', 'steele', 'strongest', 'studying', 'sympathize', 'tenant', 'terrified', 'understands', 'unexplained', 'visions', 'widescreen', 'wilder', 'yeti', 'zombi', '1939', 'agency', 'assuming', 'attract', 'biased', 'billed', 'champion', 'cohen', 'commander', 'communicate', 'comparisons', 'conclude', 'darn', 'dates', 'despicable', 'ebert', 'explores', 'filler', 'flashy', 'fluff', 'hapless', 'hepburn', 'insists', 'investigating', 'kung-fu', 'locals', 'mentality', 'millionaire', 'mol', 'morally', 'mothers', 'phenomenon', 'physics', 'poe', 'pole', 'pounds', 'predict', 'prominent', 'recycled', 'redeem', 'reeves', 'shortcomings', 'sketch', 'snakes', 'someday', 'sox', 'spinal', 'stairs', 'steady', 'stores', 'studies', 'suitably', 'tail', 'top-notch', 'vein', 'worn', '1976', '1981', '40s', '73', 'ace', 'befriends', 'boxer', 'bread', 'carey', 'casual', 'claiming', 'clan', 'claustrophobic', 'clueless', 'co', 'colin', 'connections', 'considerably', 'couch', 'defeated', 'delicate', 'dirt', 'eats', 'exceptions', 'fed', 'feminist', 'firing', 'flowers', 'forcing', 'garner', 'gear', 'gems', 'grudge', 'guinness', 'harrison', 'heartwarming', 'ingenious', 'interestingly', 'jordan', 'kathryn', 'legends', 'limit', 'loretta', 'lukas', 'marlon', 'marries', 'melissa', 'melody', 'min', 'neill', 'nemesis', 'raj', 'representation', 'rhythm', 'schlock', 'sending', 'shouting', 'slimy', 'tempted', 'timberlake', 'vibrant', 'vital', 'wings', 'y', 'z', 'zane', 'anton', 'ariel', 'backwards', 'bend', 'blatantly', 'bow', 'bridges', 'cassavetes', 'challenged', 'co-stars', 'completed', 'crazed', 'danish', 'depends', 'discussing', 'disgusted', 'doctors', 'dressing', 'drive-in', 'duck', 'elite', 'eternity', 'europa', 'grainy', 'historic', 'http', 'immature', 'independence', 'inexplicable', 'inhabitants', 'institution', 'item', 'light-hearted', 'partners', 'phillip', 'pickford', 'preachy', 'rapist', 'recognizable', 'repeating', 'ritchie', 'route', 'toronto', 'towers', 'transformed', 'trivia', 'tunnel', 'uma', 'unrelated', 'vanessa', 'well-made', 'wendigo', 'winchester', '~', '1969', 'addicted', 'affleck', 'ambition', 'assassination', 'audrey', 'authorities', 'bondage', 'chamberlain', 'charlton', 'charms', 'cher', 'computers', 'continually', 'coupled', 'detectives', 'die-hard', 'doo', 'dylan', 'employed', 'ethnic', 'exploring', 'feat', 'fifty', 'gal', 'gate', 'georges', 'glamorous', 'hara', 'hilarity', 'hokey', 'incidentally', 'insightful', 'keen', 'knightley', 'mathieu', 'minority', 'mirrors', 'natives', 'norm', 'paintings', 'phillips', 'pixar', 'politician', 'programs', 'remove', 'satirical', 'schools', 'scoop', 'shopping', 'smiles', 'stalker', 'static', 'stumbles', 'sub-par', 'surgery', 'symbolic', 'thrilled', 'voted', 'well-done', 'wig', '+', '1990s', '`the', 'accurately', 'alexandre', 'alley', 'artsy', 'backs', 'bars', 'bates', 'bitch', 'bogus', 'boyer', 'carlito', 'casts', 'centre', 'cheer', 'christie', 'co-star', 'concepts', 'controlled', 'corbett', 'coup', 'dandy', 'debate', 'departure', 'deserving', 'disorder', 'dudley', 'duration', 'dvds', 'feeding', 'feel-good', 'fishburne', 'goldsworthy', 'hack', 'handles', 'hangs', 'hearted', 'hides', 'huston', 'layers', 'lifeless', 'liners', 'mercy', 'mermaid', 'messy', 'mitch', 'moe', 'mon', 'natalie', 'nope', 'organized', 'outdated', 'pacific', 'partially', 'praised', 'preferred', 'profession', 'rope', 'salt', 'screwed', 'serving', 'shorter', 'shoulder', 'sorely', 'spree', 'sugar', 'suggestion', 'swept', 'threatened', 'tip', 'ton', 'trials', 'trier', 'uniformly', 'vocal', 'wanders', 'windows', '1945', '1991', 'arc', 'armstrong', 'audition', 'bent', 'bowl', 'braveheart', 'breakfast', 'brooding', 'btw', 'camcorder', 'centered', 'clara', 'commenting', 'conrad', 'containing', 'corman', 'differently', 'disastrous', 'earn', 'einstein', 'engrossing', 'errol', 'evelyn', 'evolution', 'excess', 'exquisite', 'far-fetched', 'fifties', 'firmly', 'forgiven', 'gilliam', 'gods', 'gunga', 'healthy', 'insanity', 'inspire', 'jared', 'kazan', 'liu', 'macho', 'mannerisms', 'milo', 'nails', 'naschy', 'neurotic', 'newer', 'niece', 'nina', 'northern', 'obtain', 'outright', 'pg', 'predecessor', 'proving', 'punches', 'randolph', 'refuse', 'ripping', 'sincerely', 'sleeps', 'speeches', 'tara', 'token', 'triangle', 'uh', 'vile', 'wax', '1994', '22', '4th', 'activity', 'akin', 'altered', 'antonio', 'approaches', 'artwork', 'bachelor', 'boasts', 'capote', 'carmen', 'cartoonish', 'cbs', 'contempt', 'critique', 'damaged', 'demonic', 'denis', 'deny', 'describing', 'destined', 'destroys', 'election', 'elevator', 'entered', 'fade', 'genie', 'goldblum', 'grateful', 'guards', 'helpful', 'helpless', 'hulk', 'hungry', 'info', 'injured', 'judd', 'justified', 'kent', 'lampoon', 'leaders', 'lex', 'luis', 'mesmerizing', 'miniseries', 'mutual', 'myth', 'nations', 'neatly', 'owners', 'paula', 'preparing', 'publicity', 'realities', 'regards', 'rendered', 'rooting', 'saint', 'seedy', 'setup', 'shaking', 'sharing', 'skit', 'sometime', 'stare', 'startling', 'statue', 'strings', 'subtly', 'topics', 'tops', 'traffic', 'vain', 'weather', 'yawn', '1977', '1985', 'advertised', 'affects', 'applaud', 'bach', 'barrel', 'boris', 'bravo', 'bsg', 'bulk', 'cain', 'candidate', 'casino', 'choosing', 'cinemas', 'compete', 'dazzling', 'demanding', 'des', 'disgrace', 'disgust', 'dubious', 'error', 'exploits', 'fist', 'giants', 'globe', 'grounds', 'hats', 'hers', 'homicide', 'hugely', 'ie', 'ingrid', 'insights', 'jedi', 'jill', 'joker', 'label', 'las', 'lauren', 'lean', 'lift', 'mail', 'masterfully', 'mcqueen', 'nut', 'owes', 'photographs', 'refers', 'relentless', 'restrained', 'rides', 'scariest', 'sleaze', 'stopping', 'survives', 'tapes', 'terminator', 'thunderbirds', 'tokyo', 'tower', 'triple', 'truman', 'undead', 'unlikeable', 'vastly', 'votes', 'walt', 'weaker', 'abruptly', 'addict', 'angst', 'authenticity', 'banter', 'beowulf', 'bloom', 'breed', 'butcher', 'casper', 'cecil', 'cemetery', 'cerebral', 'chronicles', 'continuing', 'contribution', 'convinces', 'crashes', 'crosby', 'decline', 'deer', 'deliverance', 'detract', 'disguised', 'dropping', 'emerge', 'excellently', 'factors', 'fast-paced', 'gained', 'growth', 'harlow', 'heels', 'highway', 'hires', 'inaccurate', 'inspirational', 'insults', 'internal', 'jaw', 'landed', 'lasting', 'lasts', 'limitations', 'mabel', 'macabre', 'males', 'masterson', 'mitchum', 'mixing', 'modest', 'monty', 'motive', 'mum', 'nominations', 'ol', 'origin', 'painter', 'parsons', 'perception', 'potter', 'puppets', 'racing', 'rampage', 'rapidly', 'reeve', 'repulsive', 'runner', 'sergeant', 'sniper', 'sophie', 'soylent', 'spies', 'standout', 'strengths', 'stunningly', 'undeniably', 'unsuspecting', 'wardrobe', 'youthful', 'youtube', '1974', 'accessible', 'ally', 'amrita', 'bruno', 'buzz', 'cents', 'cheadle', 'colleagues', 'colours', 'conan', 'confident', 'confront', 'confronted', 'corporation', 'cracking', 'creek', 'damned', 'derivative', 'dread', 'eleven', 'endlessly', 'energetic', 'entering', 'entirety', 'expertly', 'exterior', 'fifth', 'formed', 'gable', 'galaxy', 'gates', 'gimmick', 'gypo', 'hackman', 'holocaust', 'homes', 'jarring', 'judgment', 'juliet', 'kinnear', 'located', 'low-key', 'miami', 'misfortune', 'netflix', 'origins', 'poker', 'porter', 'pray', 'promptly', 'puerto', 'radical', 'referring', 'residents', 'reward', 'ronald', 'sale', 'salman', 'salvation', 'scarface', 'screenwriters', 'screw', 'servants', 'sgt', 'shepherd', 'sinking', 'so-so', 'suburban', 'supply', 'toni', 'unattractive', 'unimaginative', 'vividly', 'wander', '21st', 'anil', 'anyhow', 'approaching', 'asia', 'astounding', 'belt', 'biblical', 'bitten', 'burke', 'buys', 'caron', 'characteristics', 'christina', 'convicted', 'cypher', 'definitive', 'delicious', 'depict', 'depths', 'devastating', 'dilemma', 'dismal', 'drinks', 'eventual', 'exit', 'expects', 'fatale', 'foolish', 'frames', 'garland', 'habit', 'ham', 'heavy-handed', 'homosexuality', 'improbable', 'inherent', 'interact', 'laurie', 'lend', 'lennon', 'magician', 'marc', 'mason', 'meandering', 'mice', 'mutant', 'nerves', 'owns', 'pale', 'pirate', 'principle', 'published', 'readers', 'repressed', 'resolved', 'rookie', 'sensible', 'siblings', 'sticking', 'stranded', 'teams', 'tormented', 'tossed', 'underwater', 'uniform', 'unsure', 'vehicles', 'witchcraft', 'wounds', 'wtf', 'yep', 'yokai', 'yours', '19', '1959', 'answered', 'appeals', 'assured', 'b-movies', 'caricature', 'clay', 'cliches', 'concentrate', 'cons', 'conveyed', 'cries', 'crisp', 'crossing', 'deanna', 'decidedly', 'deliberate', 'demonstrate', 'disabled', 'divorced', 'dragons', 'dustin', 'enhanced', 'erika', 'escaping', 'exploit', 'feast', 'filthy', 'flashes', 'flimsy', 'franklin', 'gentlemen', 'glued', 'grass', 'harriet', 'identical', 'immortal', 'imo', 'implied', 'incapable', 'irene', 'it`s', 'jodie', 'jules', 'mama', 'minnelli', 'miranda', 'mobile', 'nbc', 'noticeable', 'odyssey', 'offbeat', 'old-fashioned', 'passengers', 'pattern', 'pegg', 'polly', 'possess', 'principals', 'psychopath', 'quentin', 'reliable', 'reminder', 'scratch', 'senior', 'separated', 'severed', 'spectacle', 'sublime', 'swallow', 'thurman', 'timmy', 'toby', 'ugh', 'users', 'wisely', 'wong', 'absorbing', 'accounts', 'adore', 'african-american', 'arab', 'arguing', 'attacking', 'barbra', 'berkeley', 'bombs', 'bones', 'budgets', 'busey', 'butch', 'cape', 'cheek', 'chopped', 'clash', 'classy', 'cleaning', 'collect', 'combines', 'connor', 'contribute', 'crippled', 'crown', 'cunningham', 'cyborg', 'divine', 'ensure', 'enthusiastic', 'estranged', 'excruciatingly', 'expectation', 'expose', 'fragile', 'frontier', 'good-looking', 'hindi', 'id', 'intricate', 'isolation', 'jacket', 'lance', 'lighter', 'lola', 'longing', 'loy', 'messing', 'missile', 'moron', 'ominous', 'outline', 'owned', 'pin', 'playboy', 'pleasing', 'promoted', 'pumbaa', 'quantum', 'races', 'reports', 'respectable', 'reviewing', 'robertson', 'samantha', 'sentimentality', 'seymour', 'shepard', 'sidewalk', 'spencer', 'stalking', 'stardom', 'stephanie', 'subway', 'tremendously', 'ultimatum', 'underwear', 'volume', 'voyage', 'wire', 'worms', 'zorro', '1953', '1982', '1998', 'accepting', 'addiction', 'aided', 'arquette', 'assembled', 'basket', 'breakdown', 'collette', 'comprehend', 'cookie', 'copied', 'crashing', 'dame', 'dashing', 'debt', 'distract', 'dukes', 'dump', 'earnest', 'embrace', 'experiencing', 'fairbanks', 'fassbinder', 'filmmaking', 'gamera', 'glaring', 'goals', 'hadley', 'hannah', 'havoc', 'hayworth', 'herman', 'hippies', 'immense', 'indiana', 'inmates', 'jealousy', 'jenna', 'jewel', 'juliette', 'jury', 'kidnapping', 'leather', 'longest', 'longoria', 'melvyn', 'morals', 'parallels', 'plotting', 'popping', 'pursue', 'quarter', 'rainy', 'remembering', 'rescued', 'revolt', 'romeo', 'sanders', 'scifi', 'seeming', 'sought', 'span', 'steam', 'stones', 'suspected', 'switched', 'sydney', 'tendency', 'theories', 'turmoil', 'un', 'unsatisfying', 'updated', 'victorian', 'vince', 'vintage', 'werewolves', 'whining', 'whiny', '1940s', '1975', '28', 'adaption', 'adrian', 'afterward', 'aiming', 'alleged', 'angie', 'apply', 'approached', 'august', 'aussie', 'avoiding', 'bye', 'cal', 'canceled', 'celebrated', 'cheaply', 'chiba', 'chill', 'cliffhanger', 'collective', 'consideration', 'conveniently', 'cultures', 'daisy', 'day-lewis', 'dealer', 'debbie', 'delighted', 'demille', 'deputy', 'dramatically', 'exorcist', 'exploding', 'fills', 'ghetto', 'gielgud', 'gilbert', 'goodbye', 'goods', 'grandma', 'graveyard', 'headache', 'herbert', 'horny', 'incorrect', 'intentional', 'jaded', 'jersey', 'jolie', 'knocks', 'korea', 'lang', 'lavish', 'lightning', 'literal', 'nightclub', 'niven', 'overblown', 'overboard', 'packs', 'papers', 'pause', 'pc', 'peaceful', 'peculiar', 'predictably', 'rebellious', 'redundant', 'resulted', 'rewarding', 'ricky', 'rivers', 'rounded', 'routines', 'rowlands', 'salesman', 'sand', 'sarcastic', 'selected', 'sf', 'shell', 'shootout', 'slide', 'snuff', 'spaghetti', 'spit', 'stella', 'stroke', 'subtext', 'sucker', 'swearing', 'taboo', 'tolerable', 'tool', 'tourist', 'trace', 'traits', 'vega', 'virtual', 'well-acted', 'wonderland', '\\x97', '1934', 'achieves', 'acquired', 'admired', 'anticipated', 'anytime', 'arrest', 'arriving', 'begging', 'borders', 'bounty', 'carnage', 'climb', 'clive', 'clooney', 'close-up', 'coat', 'commitment', 'commits', 'contributed', 'define', 'demonstrated', 'distraction', 'diverse', 'dj', 'elliott', 'enhance', 'establish', 'excuses', 'explodes', 'fools', 'freaky', 'furniture', 'haines', 'hateful', 'hooper', 'horrified', 'insist', 'insomnia', 'iturbi', 'judged', 'karate', 'kathy', 'liam', 'live-action', 'madsen', 'marilyn', 'morons', 'mouths', 'mystical', 'optimistic', 'pad', 'pedestrian', 'phenomenal', 'pocket', 'poses', 'psychologist', 'rear', 'relentlessly', 'remembers', 'reviewed', 'rider', 'sammo', 'sarandon', 'schneider', 'seasoned', 'settled', 'sickening', 'skilled', 'slapped', 'slaves', 'slip', 'slugs', 'spice', 'taped', 'thieves', 'thirties', 'trains', 'turd', 'unsympathetic', 'vanity', 'verdict', 'wiped', '1944', '21', '90%', 'amidst', 'arkin', 'attending', 'axe', 'bachchan', 'beckinsale', 'bikini', 'bogart', 'brainless', 'chong', 'circles', 'clone', 'colman', 'contestants', 'courtroom', 'covering', 'cuban', 'defies', 'deliciously', 'delightfully', 'denise', 'diary', 'dillinger', 'document', 'drab', 'dumber', 'encountered', 'establishing', 'europeans', 'expense', 'explosive', 'fallon', 'first-rate', 'flavor', 'flock', 'follow-up', 'forties', 'gibson', 'gooding', 'guinea', 'hoot', 'immigrant', 'informed', 'instincts', 'introducing', 'ira', 'keys', 'leap', 'legitimate', 'lionel', 'lowe', 'lucille', 'lunch', 'meantime', 'mysteriously', 'novelty', 'nuances', 'otto', 'owl', 'passage', 'penelope', 'pfeiffer', 'phase', 'pirates', 'populated', 'posing', 'possesses', 'pushes', 'puzzle', 'python', 'ranch', 'razor', 'rea', 'readily', 'regularly', 'republic', 'respects', 'ritual', 'romances', 'seductive', 'serum', 'soft-core', 'strict', 'suggesting', 'sundance', 'symbol', 'syndrome', 'tax', 'thelma', 'ultra', 'vanilla', 'whites', 'wine', '1967', '1992', 'abandon', 'additionally', 'aftermath', 'aggressive', 'agony', 'alot', 'anthology', 'anxious', 'arguments', 'arranged', 'attended', 'awakening', 'beg', 'bonnie', 'breathing', 'cameraman', 'cannes', 'centuries', 'cigarette', 'cindy', 'claude', 'clerk', 'columbia', 'consist', 'cooking', 'corn', 'counter', 'creasy', 'dahmer', 'debra', 'deciding', 'distress', 'dominated', 'dynamics', 'embarrassingly', 'er', 'excruciating', 'feeble', 'fluid', 'forgetting', 'foundation', 'georgia', 'gloria', 'gwyneth', 'hop', 'hybrid', 'inaccuracies', 'instances', 'intact', 'invention', 'jacques', 'kris', 'laputa', 'lends', 'lethal', 'martian', 'meal', 'medieval', 'mortal', 'motorcycle', 'mythology', 'newcomer', 'noteworthy', 'ny', 'obsessive', 'olivia', 'ordeal', 'parking', 'policy', 'polish', 'possession', 'pound', 'produces', 'pros', 'psyche', 'pursued', 'reverse', 'sailor', 'scored', 'screwball', 'sells', 'serials', 'shah', 'sheen', 'shockingly', 'sixth', 'sondra', 'spine', 'statements', 'steer', 'stylized', 'sunrise', 'tactics', 'targets', 'tickets', 'tomei', 'tongue-in-cheek', 'troma', 'um', 'viewpoint', 'wastes', 'wider', '0/10', '1948', 'ambitions', 'art-house', 'arty', 'assignment', 'begs', 'begun', 'cliched', 'click', 'cody', 'coffin', 'compliment', 'controlling', 'convention', 'corey', 'criticize', 'daylight', 'deed', 'degrees', 'distracted', 'dominic', 'doyle', 'duel', 'dumbest', 'dumped', 'edison', 'edith', 'eli', 'exploited', 'feminine', 'followers', 'frantic', 'freaking', 'freeze', 'fright', 'frog', 'funding', 'goldie', 'greene', 'incidents', 'inclusion', 'indicate', 'indifferent', 'informative', 'invite', 'jose', 'july', 'meteor', 'misunderstood', 'monologue', 'mormon', 'moss', 'motions', 'mute', 'narrow', 'neglected', 'northam', 'obstacles', 'originals', 'pains', 'pathos', 'phoenix', 'rational', 'rejects', 'rosario', 'roughly', 'sentences', 'session', 'snowman', 'sources', 'stabbed', 'starters', 'stating', 'suspicion', 't&a', 'tcm', 'tho', 'tuned', 'unanswered', 'unusually', 'update', 'verbal', 'visconti', 'void', 'warns', 'wheel', 'wright', 'x-files', '300', '75', 'alliance', 'apt', 'beckham', 'blamed', 'bosses', 'campus', 'casablanca', 'chamber', 'collins', 'combs', 'controversy', 'county', 'cycle', 'darth', 'denouement', 'depictions', 'detroit', 'discussed', 'eagerly', 'employee', 'en', 'enchanted', 'enigmatic', 'envy', 'exclusively', 'executives', 'fanatic', 'fellini', 'flames', 'fleet', 'flower', 'frances', 'fried', 'galactica', 'gallery', 'generate', 'gershwin', 'godard', 'grabbed', 'graduate', 'grip', 'hayes', 'heath', 'hooker', 'idol', 'intensely', 'iranian', 'johansson', 'juan', 'kathleen', 'lip', 'manners', 'mates', 'maureen', 'meyer', 'mick', 'murky', 'paints', 'planes', 'plodding', 'pointing', 'pre-code', 'products', 'rambling', 'realization', 'releasing', 'replies', 'sarcasm', 'scripting', 'seats', 'slim', 'sly', 'snipes', 'spider', 'stalked', 'stance', 'sterling', 'stern', 'stiles', 'stream', 'surroundings', 'therapy', 'translate', 'uncanny', 'uniforms', 'varied', 'vonnegut', 'wayans', '200', '23', 'abound', 'adele', 'admitted', 'ambiguity', 'artistry', 'barney', 'baron', 'bauer', 'belly', 'brides', 'brooke', 'capacity', 'comeback', 'consequence', 'consequently', 'curiously', 'dafoe', 'delirious', 'destination', 'dismiss', 'downs', 'economic', 'factual', 'feinstone', 'finney', 'flavia', 'foremost', 'frontal', 'fruit', 'gackt', 'gap', 'geisha', 'gestures', 'glance', 'glimpses', 'god-awful', 'goodman', 'grendel', 'hawn', 'hmmm', 'hyped', 'hysterically', 'ignoring', 'imaginary', 'intro', 'investigator', 'kidnap', 'lastly', 'launch', 'likeable', 'lopez', 'loren', 'lurking', 'mandy', 'midst', 'momentum', 'muslims', 'myrtle', 'narrated', 'nerve', 'omar', 'participants', 'paths', 'periods', 'phones', 'politicians', 'precise', 'realistically', 'redneck', 'rehash', 'reiser', 'relating', 'relevance', 'resembling', 'resistance', 'resume', 'rewarded', 'rohmer', 'rounds', 'sang', 'satisfaction', 'scenarios', 'schedule', 'sebastian', 'sensibility', 'services', 'shaggy', 'shift', 'shifts', 'sho', 'shore', 'simpsons', 'sketches', 'sonny', 'stand-up', 'stardust', 'sub-plot', 'sweden', 'swinging', 'tomb', 'traps', 'upside', 'veterans', 'warden', 'widowed', 'aaron', 'abortion', 'ample', 'angelina', 'anita', 'apple', 'applied', 'applies', 'avid', 'backed', 'bait', 'balanced', 'bats', 'battlestar', 'benefits', 'benjamin', 'bennett', 'biker', 'blaise', 'blandings', 'blockbusters', 'brat', 'breast', 'brent', 'brett', 'cab', 'cap', 'characterisation', 'cheers', 'complications', 'composition', 'convent', 'cow', 'cutter', 'diner', 'dreamy', 'educated', 'entrance', 'epics', 'evans', 'extensive', 'ferrell', 'festivals', 'fleshed', 'foil', 'gaps', 'gigantic', 'giovanna', 'gloomy', 'guardian', 'gus', 'hand-held', 'handicapped', 'haunt', 'hines', 'hinted', 'hmm', 'ignores', 'isabelle', 'israeli', 'jagger', 'jude', 'kells', 'kristofferson', 'laboratory', 'linked', 'locke', 'lunatic', 'macdonald', 'maintains', 'marisa', 'martino', 'mccarthy', 'medicine', 'meredith', 'mins', 'natali', 'necessity', 'nun', 'october', 'olsen', 'overbearing', 'pans', 'paranoid', 'payoff', 'popped', 'predator', 'professionals', 'prophecy', 'puppy', 'qualify', 'randall', 'reflected', 'replacement', 'revolving', 'rice', 'rips', 'robbers', 'ruining', 'rupert', 'safely', 'saloon', 'self-indulgent', 'sights', 'silverman', 'sins', 'skinny', 'slater', 'smash', 'soprano', 'sparks', 'stadium', 'substantial', 'supreme', 'unclear', 'upcoming', 'vomit', 'voyager', '1943', '1951', '95', 'acknowledge', 'addressed', 'ajay', 'antagonist', 'array', 'arrow', 'artemisia', 'assure', 'baddies', 'bernsen', 'bias', 'biopic', 'biting', 'bleed', 'bonanza', 'brashear', 'brien', 'bubble', 'carlos', 'cena', 'characterizations', 'clunky', 'collector', 'colored', 'controls', 'courtesy', 'determination', 'diego', 'diversity', 'du', 'eh', 'enchanting', 'excellence', 'favourites', 'fortunate', 'frozen', 'fuel', 'fuzzy', 'gannon', 'gathering', 'homicidal', 'hostel', 'injury', 'interrupted', 'invested', 'iq', 'joking', 'lens', 'madeleine', 'marcel', 'massey', 'maximum', 'nuanced', 'nutshell', 'observation', 'observations', 'observe', 'offend', 'orchestra', 'organization', 'outlandish', 'parrot', 'phantasm', 'platform', 'playwright', 'pornography', 'pose', 'protest', 'ps', 'repeats', 'reserved', 'resolve', 'reunite', 'revival', 'rodriguez', 'rourke', 'russ', 'scarlet', 'shahid', 'sheets', 'shotgun', 'skeptical', 'smell', 'sour', 'stereotyped', 'sufficient', 'talky', 'thailand', 'tire', 'unfolding', 'unstable', 'valid', 'vignettes', 'visitor', 'weekly', 'witnessing', '1958', '85', 'accidental', 'admits', 'announced', 'arrogance', 'awareness', 'beard', 'boogie', 'boots', 'boundaries', 'caretaker', 'cedric', 'chaotic', 'chuckles', 'coke', 'coma', 'commanding', 'commendable', 'communication', 'confined', 'coward', 'crushed', 'customers', 'daytime', 'deemed', 'disco', 'displaying', 'divided', 'doug', 'drowned', 'enduring', 'ernie', 'evokes', 'famed', 'finishes', 'fundamental', 'garfield', 'gorilla', 'guevara', 'harrowing', 'inadvertently', 'jackman', 'je', 'landmark', 'luzhin', 'madison', 'marked', 'misty', 'murderers', 'nauseating', 'needing', 'nightmarish', 'nora', 'novelist', 'pecker', 'peggy', 'peril', 'pilots', 'pivotal', 'plate', 'preaching', 'progressed', 'questioning', 'raging', 'realises', 'rebels', 'relying', 'rightly', 'samuel', 'sara', 'scarecrows', 'seduce', 'sg-1', 'sh*t', 'sherlock', 'shocks', 'sholay', 'similarity', 'sincerity', 'smug', 'spade', 'spotlight', 'stations', 'studied', 'sunset', 'sweat', 'targeted', 'thereby', 'thrust', 'tones', 'trauma', 'trivial', 'truths', 'unappealing', 'understatement', 'unhinged', 'unnatural', 'vargas', 'villainous', 'vivian', 'waking', 'wash', 'ww2', '#2', '101', '1932', '1963', 'accompanying', 'apocalypse', 'beers', 'belle', 'bert', 'bittersweet', 'blazing', 'bust', 'caprica', 'celebrities', 'characteristic', 'charges', 'chew', 'chloe', 'choir', 'clarity', 'coburn', 'colleague', 'comparable', 'convenient', 'criticized', 'crooks', 'dangerously', 'deathtrap', 'deeds', 'despise', 'devotion', 'district', 'duchovny', 'dynamite', 'egyptian', 'elsa', 'explode', 'fart', 'fascist', 'finishing', 'forgets', 'gino', 'girlfriends', 'hardened', 'harron', 'herd', 'hobgoblins', 'hostage', 'howling', 'interior', 'interpretations', 'interviewed', 'janet', 'kaufman', 'kirsten', 'krueger', 'liotta', 'mentor', 'monotonous', 'movie-making', 'myrna', 'neal', 'participate', 'penned', 'perverted', 'protection', 'psychedelic', 'quintessential', 'recover', 'redford', 'reluctantly', 'remark', 'reminding', 'riff', 'russo', 'sanity', 'scarlett', 'scheming', 'shameless', 'shred', 'sitcoms', 'slashers', 'sophia', 'spoiling', 'stake', 'stumble', 'substitute', 'suzanne', 'sylvia', 'takashi', 'tashan', 'traditions', 'transparent', 'travis', 'understandably', 'unfamiliar', 'upstairs', 'ursula', 'whore', 'achievements', 'admirer', 'admission', 'affecting', 'annoy', 'article', 'awry', 'babes', 'barker', 'bean', 'beforehand', 'betrayed', 'bronte', 'burial', 'busby', 'camping', 'cancelled', 'candle', 'captivated', 'cheerful', 'cheering', 'chip', 'conclusions', 'conductor', 'conscious', 'considers', 'constraints', 'contestant', 'convict', 'counting', 'crosses', 'dallas', 'depardieu', 'desk', 'distributed', 'dragging', 'dreyfuss', 'drift', 'drowning', 'ealing', 'earliest', 'entries', 'excels', 'facility', 'fades', 'faye', 'fetish', 'file', 'filmography', 'flag', 'flows', 'forgiveness', 'fraud', 'fritz', 'gena', 'grandpa', 'gut', 'hallmark', 'han', 'holt', 'hostile', 'hum', 'hunted', 'implies', 'infinitely', 'inserted', 'jo', 'kinski', 'laying', 'letdown', 'license', 'magically', 'melancholy', 'melbourne', 'miraculously', 'mole', 'monks', 'motel', 'oblivious', 'obscurity', 'occult', 'orphan', 'philo', 'pia', 'pizza', 'preacher', 'proceed', 'ram', 'raunchy', 'rebellion', 'redgrave', 'relaxed', 'rendering', 'restraint', 'ripoff', 'rolls', 'ruled', 'runaway', 'salvage', 'scooby-doo', 'seattle', 'segal', 'semblance', 'senator', 'seth', 'shameful', 'shannon', 'slower', 'spontaneous', 'subsequently', 'summed', 'sunk', 'surround', 'taut', 'temper', 'tess', 'testing', 'thunder', 'tide', 'titular', 'tools', 'turkish', 'unconventional', 'unnecessarily', 'val', 'verge', 'wartime', 'washed', 'wesley', 'whimsical', 'wrestler', 'yell', 'zodiac', '1955', 'absorbed', 'adapt', 'aesthetic', 'ala', 'almighty', 'ambiance', 'assistance', 'assumes', 'automatic', 'avoids', 'awaiting', 'battlefield', 'bearing', 'benny', 'black-and-white', 'blondell', 'borrow', 'cells', 'chandler', 'cheech', 'chops', 'circa', 'clouds', 'cocaine', 'colony', 'committing', 'compensate', 'complained', 'coolest', 'criticisms', 'crossed', 'crowe', 'demeanor', 'dominate', 'duh', 'dunst', 'edmund', 'egypt', 'encouraged', 'engine', 'englund', 'ernest', 'exploitative', 'faded', 'failures', 'fashions', 'fiancée', 'fiend', 'fires', 'flashing', 'gandolfini', 'gangs', 'ghastly', 'ghostly', 'glossy', 'goat', 'govinda', 'henchmen', 'hometown', 'ideals', 'imho', 'incest', 'incestuous', 'inclined', 'informer', 'intend', 'irritated', 'jabba', 'jan', 'joining', 'kindly', 'lil', 'lindy', 'listened', 'lubitsch', 'manipulation', 'marvin', 'meadows', 'mister', 'monica', 'monroe', 'networks', 'norton', 'openly', 'oprah', 'outrageously', 'overtones', 'paycheck', 'payne', 'portuguese', 'programme', 'pursuing', 'rampant', 'remainder', 'robbed', 'robotic', 'sane', 'searched', 'shaped', 'sheridan', 'shrek', 'slavery', 'sporting', 'stuffed', 'superstar', 'tits', 'toned', 'toxic', 'travolta', 'turtle', 'underdeveloped', 'vapid', 'variation', 'vcr', 'voodoo', 'watcher', 'wherever', 'wholesome', '-the', '1957', '1966', '3-d', 'abomination', 'abundance', 'admiration', 'advised', 'atrocity', 'auto', 'avenge', 'awarded', 'badness', 'bashing', 'battling', 'boogeyman', 'booth', 'bout', 'burnt', 'byron', 'caper', 'clad', 'climbing', 'confuse', 'connie', 'coop', 'coppola', 'courageous', 'cracks', 'dante', 'deepest', 'defending', 'dern', 'dictator', 'disappearance', 'distinction', 'dreaming', 'dwight', 'eagle', 'enormously', 'ensue', 'epitome', 'espionage', 'everett', 'evoke', 'experts', 'fagin', 'fairness', 'farnsworth', 'fitzgerald', 'forrest', 'geek', 'gig', 'grease', 'gretchen', 'gypsy', 'happenings', 'idealistic', 'impending', 'incidental', 'insert', 'joint', 'juice', 'lara', 'mack', 'madman', 'mamet', 'marine', 'martians', 'mediocrity', 'meek', 'mira', 'mock', 'ninety', 'notices', 'noting', 'palm', 'patty', 'pauline', 'paz', 'peers', 'permanent', 'pigs', 'plug', 'policemen', 'practical', 'presidential', 'pretends', 'progression', 'prologue', 'prop', 'quaint', 'raid', 'regime', 'reject', 'revolver', 'rivals', 'roller', 'sales', 'satanic', 'se', 'sections', 'serbian', 'sergio', 'seuss', 'sexist', 'sharks', 'shoe', 'sickness', 'solved', 'spiral', 'stabbing', 'stepmother', 'submarine', 'theodore', 'tightly', 'transport', 'traumatic', 'uneasy', 'unleashed', 'upbeat', 'vaughn', 'vet', 'vincenzo', 'warehouse', 'warrant', 'wheelchair', 'zelah', '1946', 'acclaim', 'alba', 'ang', 'aniston', 'annoyance', 'arnie', 'asset', 'banks', 'bastard', 'beetle', 'bimbo', 'blames', 'bloodbath', 'bodyguard', 'boobs', 'brazilian', 'breathe', 'britney', 'buttons', 'carpet', 'categories', 'celebrate', 'clarence', 'classmates', 'client', 'clinic', 'closure', 'clyde', 'consciousness', 'conveying', 'counterparts', 'crashed', 'creations', 'croc', 'cursed', 'dash', 'della', 'detached', 'dillon', 'discipline', 'disregard', 'distinctive', 'drawings', 'economy', 'edges', 'effortlessly', 'electronic', 'elephants', 'employees', 'existing', 'farrah', 'forsythe', 'frost', 'garage', 'geoffrey', 'grin', 'hanzo', 'harilal', 'helena', 'hugo', 'influences', 'interiors', 'investment', 'irving', 'jar', 'knees', 'knights', 'labeled', 'liberty', 'lindsey', 'linear', 'macmurray', 'magazines', 'managing', 'marcus', 'marijuana', 'masked', 'merry', 'mobster', 'motivated', 'myra', 'ninjas', 'norris', 'occupied', 'offense', 'ostensibly', 'outset', 'padding', 'panahi', 'peckinpah', 'pen', 'pickup', 'pierre', 'plummer', 'pornographic', 'principles', 'projected', 'prostitutes', 'qualifies', 'reagan', 'reese', 'reported', 'respond', 'rivalry', 'rodney', 'saints', 'sammy', 'sandy', 'screened', 'secure', 'self-centered', 'sensitivity', 'shatner', 'sheep', 'shield', 'sinks', 'slut', 'snap', 'sober', 'stab', 'suave', 'surrender', 'tackle', 'tech', 'torment', 'transforms', 'unravel', '***spoilers***', '1949', '26', 'abu', 'ads', 'advances', 'alexandra', 'allan', 'associate', 'barnes', 'believability', 'bites', 'bless', 'blessed', 'boards', 'brandon', 'budding', 'buffy', 'burgess', 'cassie', 'castro', 'clutter', 'cohesive', 'combining', 'concentration', 'confines', 'cruella', 'crypt', 'culkin', 'damsel', 'daria', 'digging', 'dim', 'dish', 'downfall', 'emmy', 'ewoks', 'floriane', 'fodder', 'framing', 'gosh', 'heather', 'hilton', 'hip-hop', 'inconsistencies', 'influential', 'inform', 'informs', 'injustice', 'islands', 'jigsaw', 'joshua', 'kareena', 'katie', 'keanu', 'kilmer', 'lighthearted', 'lo', 'mae', 'malden', 'manipulated', 'middle-class', 'midget', 'midler', 'mills', 'monday', 'morse', 'muni', 'noam', 'officially', 'overshadowed', 'pairing', 'pepper', 'perspectives', 'pervert', 'playful', 'pompous', 'prank', 'predecessors', 'programming', 'prostitution', 'queens', 'radiation', 'reasoning', 'reno', 'replacing', 'responds', 'retirement', 'reunited', 'riders', 'sacrifices', 'sammi', 'screenplays', 'seduction', 'sensibilities', 'sensual', 'shelter', 'shocker', 'signature', 'sites', 'slept', 'socially', 'spaceship', 'spelled', 'spelling', 'spoofs', 'starship', 'stink', 'strung', 'sustain', 'switching', 'symbols', 'systems', 'tended', 'theatres', 'tolerance', 'tolerate', 'trigger', 'uncertain', 'vibe', 'vigilante', 'weirdness', 'woefully', 'worrying', 'yells', '$10', '$5', 'adultery', 'aircraft', 'alarm', 'amid', 'anguish', 'archer', 'attendant', 'attic', 'bart', 'bartender', 'barton', 'berenger', 'bliss', 'bogdanovich', 'butchered', 'cannibals', 'captive', 'censorship', 'cheesiness', 'chevy', 'cloak', 'collaboration', 'collapse', 'condemned', 'confession', 'correctness', 'cringing', 'crowded', 'cunning', 'czech', 'darkly', 'data', 'decency', 'deck', 'depend', 'determine', 'direct-to-video', 'distorted', 'diving', 'division', 'dom', 'drastically', 'dunne', 'dwarf', 'echoes', 'egg', 'emphasize', 'engineer', 'entertains', 'enthralling', 'establishment', 'fabric', 'faint', 'fetched', 'fiasco', 'fixed', 'flowing', 'forbes', 'freed', 'functions', 'geniuses', 'glenda', 'grating', 'groove', 'gruff', 'hale', 'hallucinations', 'harbor', 'heap', 'helmet', 'henderson', 'identified', 'imitate', 'impressions', 'inexperienced', 'interplay', 'jewelry', 'justification', 'kalifornia', 'kornbluth', 'kusturica', 'lanza', 'lingering', 'locale', 'loner', 'lt', 'lurid', 'luthor', 'luxury', 'maintaining', 'manic', 'marines', 'marrying', 'maurice', 'mercifully', 'mines', 'mixes', 'mostel', 'muriel', 'mustache', 'mythical', 'natasha', 'nearest', 'nest', 'opposition', 'orlando', 'ossessione', 'outlaw', 'overwrought', 'parks', 'parodies', 'pertwee', 'perverse', 'placement', 'polar', 'portions', 'premiered', 'pressed', 'presume', 'protective', 'reckless', 'representing', 'roach', 'romania', 'rosenstrasse', 'rousing', 'russians', 'scratching', 'sensational', 'seriousness', 'shaun', 'shoved', 'simba', 'slam', 'sorrow', 'stabs', 'standpoint', 'stares', 'strain', 'strained', 'superfluous', 'surf', 'surgeon', 'tasty', 'thereafter', 'throne', 'tina', 'todays', 'toole', 'tramp', 'transplant', 'transported', 'troopers', 'varying', 'vertigo', 'villa', 'warhols', 'weary', 'winners', 'yarn', 'zu', 'abroad', 'aime', 'airing', 'ali', 'allies', 'animations', 'apollo', 'applause', 'armor', 'atlantic', 'auteur', 'authors', 'awfulness', 'azumi', 'baddie', 'beth', 'billing', 'bills', 'bon', 'borrows', 'brennan', 'brush', 'caruso', 'ceiling', 'censors', 'ceremony', 'chen', 'cheung', 'communism', 'confirmed', 'confronts', 'consumed', 'continuously', 'contributes', 'corbin', 'cowardly', 'cradle', 'dealers', 'dedication', 'denying', 'derived', 'developments', 'diaz', 'dickinson', 'disappoints', 'dodgy', 'downbeat', 'drummer', 'dyke', 'earns', 'ebay', 'elected', 'engagement', 'examine', 'expresses', 'extraordinarily', 'fanning', 'fawcett', 'federal', 'fence', 'fierce', 'fiery', 'flame', 'flew', 'foreboding', 'funky', 'fuss', 'gathered', 'genetic', 'gently', 'grady', 'grossly', 'groundbreaking', 'gusto', 'hairy', 'half-hour', 'henchman', 'hypnotic', 'icons', 'identities', 'imprisoned', 'inhabit', 'intelligently', 'judgement', 'judges', 'jurassic', 'kidnaps', 'kings', 'lansbury', 'lars', 'latino', 'launched', 'lays', 'ledger', 'liar', 'liberties', 'lifts', 'lila', 'lions', 'ma', 'manga', 'mans', 'maturity', 'mcdermott', 'mcdowell', 'monologues', 'mutants', 'nifty', 'off-screen', 'officials', 'optimism', 'paired', 'pam', 'paragraph', 'peaks', 'photograph', 'plagued', 'pleasures', 'potent', 'predictability', 'predicted', 'profoundly', 'proportions', 'ratio', 're-make', 'register', 'representative', 'rockets', 'rogue', 'rudd', 'sasquatch', 'scarier', 'scorpion', 'sensation', 'showcases', 'sibling', 'significantly', 'sixteen', 'sophistication', 'sorvino', 'spotted', 'staging', 'steaming', 'stevenson', 'stoned', 'structured', 'subdued', 'sucking', 'supermarket', 'switches', 'temptation', 'terrorism', 'thereof', 'thorn', 'threads', 'toro', 'torturing', 'towns', 'trusted', 'tsui', 'undercover', 'uninspiring', 'virtue', 'weaver', 'widower', 'willy', '1965', '2009', 'aboard', 'abstract', 'accomplishment', 'ahmad', 'alcoholism', 'alter', 'anchors', 'anxiety', 'appalled', 'artistically', 'attributes', 'autobiography', 'bald', 'bigfoot', 'bing', 'bishop', 'blackmail', 'bleeding', 'bloke', 'bloodshed', 'booker', 'boost', 'bothers', 'brick', 'brit', 'brunette', 'capitalism', 'caution', 'celeste', 'celine', 'chemical', 'clockwork', 'cloth', 'coaster', 'cockney', 'conniving', 'cortez', 'crooked', 'cynicism', 'dani', 'deborah', 'defy', 'denial', 'deservedly', 'destructive', 'distinctly', 'doris', 'drum', 'echo', 'elliot', 'elmer', 'explanations', 'eyed', 'freaked', 'fur', 'gladiator', 'glow', 'golf', 'gram', 'granger', 'greenaway', 'guru', 'handy', 'hawaii', 'holland', 'honey', 'hunky', 'hurry', 'hustler', 'illustrate', 'increase', 'intellectually', 'kenny', 'knocking', 'languages', 'laser', 'lawn', 'lds', 'legion', 'limp', 'lin', 'lists', 'liz', 'locate', 'loony', 'lorre', 'marx', 'maugham', 'mcadams', 'michaels', 'modern-day', 'mud', 'nonexistent', 'notwithstanding', 'observed', 'ogre', 'olds', 'oscar-winning', 'owe', 'pavarotti', 'penalty', 'penguin', 'peterson', 'portman', 'preferably', 'prefers', 'prolific', 'puzzled', 'quirks', 'rapid', 'ravishing', 'reportedly', 'rhyme', 'ridden', 'rizzo', 'rko', 'romanian', 'sabu', 'sack', 'sarne', 'satisfactory', 'scattered', 'scriptwriter', 'shawn', 'shelves', 'shiny', 'shrill', 'simpler', 'slaughtered', 'sleeper', 'sloane', 'snowy', 'sore', 'spells', 'stirring', 'straight-to-video', 'supportive', 'sweeping', 'sykes', 'taker', 'tedium', 'throats', 'thug', 'transformers', 'transitions', 'tricked', 'uncredited', 'unnerving', 'upbringing', 'uptight', 'valerie', 'vienna', 'violently', 'visceral', 'welch', 'wielding', 'willingly', 'wu', 'youngsters', 'zhang', '//www', '1920', '48', '98', 'alienation', 'amoral', 'angelo', 'animators', 'apartheid', 'ash', 'aura', 'bearable', 'behaving', 'bitchy', 'bombed', 'bonds', 'breakthrough', 'caesar', 'cheat', 'christensen', 'cillian', 'cinematographic', 'civilians', 'climate', 'co-worker', 'coleman', 'compositions', 'comprised', 'compromise', 'conflicted', 'cousins', 'coverage', 'crenna', 'curtain', 'dangers', 'darius', 'deadpan', 'defining', 'delia', 'denver', 'disasters', 'dominick', 'doses', 'drain', 'dukakis', 'durbin', 'elder', 'electricity', 'elisha', 'encourages', 'ex-girlfriend', 'ex-wife', 'fewer', 'fighters', 'film-maker', 'flamboyant', 'fleeing', 'fleeting', 'frat', 'fulfill', 'fulfilling', 'gen', 'grisly', 'half-way', 'hans', 'hark', 'harlin', 'hazzard', 'heartless', 'heavenly', 'hogan', 'horn', 'hug', 'icy', 'illusion', 'illustrated', 'imitating', 'imply', 'improvised', 'increasing', 'irrational', 'irresistible', 'izzard', 'jam', 'keitel', 'khouri', 'knives', 'korda', 'kramer', 'leaps', 'levy', 'lightweight', 'lommel', 'lure', 'maguire', 'mandatory', 'manipulate', 'marjorie', 'mastermind', 'mastroianni', 'mattei', 'meanings', 'mechanic', 'missions', 'mockery', 'moderately', 'monastery', 'moonstruck', 'muscular', 'needlessly', 'neeson', 'nerdy', 'notions', 'nt', 'oblivion', 'ongoing', 'operate', 'operating', 'overtly', 'padded', 'pasolini', 'passenger', 'patriotic', 'penis', 'perceived', 'pistol', 'poet', 'pond', 'posh', 'prejudices', 'priests', 'prolonged', 'promoting', 'prone', 'protecting', 'proudly', 'pub', 'rapes', 'recovering', 'relates', 'reruns', 'retrieve', 'robbing', 'sematary', 'shady', 'shin-ae', 'shout', 'slips', 'slow-motion', 'sub-plots', 'succession', 'supports', 'swift', 'theo', 'tolkien', 'traveled', 'trendy', 'unwilling', 'urgency', 'vaudeville', 'versa', 'virginity', 'volumes', 'worship', 'wrath', 'wrongly', 'zany', 'zealand', '1920s', '27', '500', 'academic', 'adequately', 'administration', 'afghanistan', 'agatha', 'analyze', 'annoyingly', 'anonymous', 'architect', 'architecture', 'associates', 'assortment', 'astonishingly', 'astronaut', 'athletic', 'aweigh', 'aztec', 'backdrops', 'backyard', 'ballroom', 'barbarian', 'batwoman', 'behalf', 'behaves', 'benoit', 'bothering', 'breathless', 'bullies', 'burden', 'callahan', 'carface', 'chef', 'climbs', 'co-written', 'co-wrote', 'coal', 'compassionate', 'concentrated', 'concludes', 'connolly', 'conquest', 'continuous', 'corridors', 'counted', 'counterpart', 'crass', 'cristina', 'custody', 'danning', 'daphne', 'didnt', 'dietrich', 'distinguished', 'dive', 'dodge', 'dogma', 'dopey', 'duff', 'duryea', 'ecstasy', 'examined', 'expand', 'expanded', 'expressing', 'fable', 'farewell', 'fast-forward', 'feared', 'frenzy', 'gage', 'gays', 'giggle', 'goers', 'gravity', 'hard-boiled', 'harlem', 'healing', 'heavens', 'hector', 'hedy', 'heir', 'herrings', 'hoover', 'hopeful', 'idiocy', 'immigrants', 'impeccable', 'inc', 'inducing', 'inhabited', 'innuendo', 'insignificant', 'intellect', 'interspersed', 'irresponsible', 'irwin', 'jed', 'jerky', 'jew', 'jolly', 'kingsley', 'lange', 'largest', 'lawyers', 'leno', 'lesbians', 'locales', 'mac', 'management', 'maverick', 'mcgavin', 'melinda', 'melt', 'metropolis', 'micheal', 'millennium', 'mj', 'mpaa', 'muted', 'naval', 'neglect', 'nutty', 'opponents', 'overwhelmed', 'palestinian', 'pals', 'passions', 'placing', 'plants', 'post-war', 'pour', 'pranks', 'profile', 'prophet', 'purse', 'ranger', 'rant', 'rapture', 'rebecca', 'recipe', 'recreate', 'recurring', 'relaxing', 'retelling', 'rewrite', 'richly', 'rico', 'roads', 'rugged', 'rusty', 'sailors', 'scandal', 'schwarzenegger', 'seinfeld', 'seventh', 'shamelessly', 'sleepy', 'steamy', 'stretches', 'stripper', 'stumbling', 'subtitled', 'supremacy', 'swords', 'tables', 'tacked', 'tango', 'tasks', 'temporary', 'theirs', 'thumb', 'tobe', 'tourists', 'treating', 'truthful', 'unconscious', 'unlucky', 'vera', 'versatile', 'vulnerability', 'wee', 'whipped', 'wolves', 'worldwide', 'www', 'yearning', 'zabriskie', '1000', '1938', '1942', '1956', '1964', '700', 'aiello', 'alienate', 'allison', 'anti-hero', 'apologize', 'approximately', 'arizona', 'astronauts', 'azaria', 'balloon', 'benson', 'bolivia', 'bombing', 'bonding', 'branch', 'bravery', 'bursts', 'bury', 'candidates', 'carnival', 'carson', 'casually', 'cbc', 'chapters', 'chock', 'chocolate', 'classified', 'claw', 'cloud', 'cocktail', 'cocky', 'collar', 'collecting', 'concentrates', 'conception', 'condescending', 'conduct', 'confronting', 'consisted', 'contemplate', 'corleone', 'crawl', 'creeps', 'crouse', 'customs', 'dahl', 'darling', 'deathstalker', 'denied', 'disappearing', 'discernible', 'discussions', 'disdain', 'dreadfully', 'drugged', 'efficient', 'elevate', 'ella', 'embarrass', 'enhances', 'evolved', 'existential', 'feature-length', 'finely', 'first-time', 'fleming', 'flipping', 'footsteps', 'forgivable', 'garcia', 'gardens', 'gimmicks', 'glee', 'goofs', 'graves', 'guided', 'hamill', 'happier', 'hayward', 'hesitate', 'il', 'illiterate', 'incompetence', 'inherited', 'insects', 'intruder', 'islam', 'it´s', 'jameson', 'january', 'jessie', 'joanna', 'keeler', 'knack', 'knox', 'kriemhild', 'lecture', 'leia', 'levant', 'lightly', 'limbs', 'lizard', 'logo', 'loop', 'lung', 'maiden', 'marathon', 'marlene', 'marred', 'morgana', 'nailed', 'neo', 'nineties', 'overacts', 'palette', 'pauses', 'perceive', 'percent', 'pets', 'pita', 'plantation', 'platoon', 'poke', 'practices', 'premises', 'prevalent', 'psychiatric', 'puzzling', 'rack', 'rainer', 'regrets', 'relied', 'restless', 'revive', 'revolting', 'roommates', 'rotting', 'saddest', 'screamed', 'seal', 'sessions', 'shaolin', 'sheila', 'skipping', 'sleeve', 'sleuth', 'slew', 'slows', 'smarmy', 'smarter', 'smoothly', 'speechless', 'spinning', 'spitting', 'stalks', 'stature', 'stereotyping', 'stubborn', 'stupidest', 'sub-genre', 'submit', 'subtleties', 'supporters', 'suspended', 'swiss', 'switzerland', 'teddy', 'traumatized', 'unemployed', 'vault', 'vic', 'viggo', 'villagers', 'waits', 'whip', 'witherspoon', 'woke', 'worm', 'writer-director', '18th', '1935', 'acknowledged', 'admirably', 'adopt', 'adventurous', 'alternately', 'anchorman', 'anti', 'apartments', 'apprentice', 'archive', 'askey', 'assist', 'association', 'atomic', 'atrocities', 'backwoods', 'barman', 'baseketball', 'bash', 'basil', 'believer', 'betrays', 'billion', 'borderline', 'brink', 'btk', 'bucket', 'byrne', 'capt', 'carole', 'cathy', 'chat', 'cheaper', 'chewing', 'choke', 'chop', 'companions', 'connecting', 'continent', 'converted', 'cracker', 'creepiness', 'crowds', 'daisies', 'dane', 'darkman', 'december', 'delve', 'democracy', 'dense', 'dental', 'diabolical', 'downtown', 'dusty', 'duties', 'eliminate', 'eliminated', 'email', 'empathize', 'entertainer', 'equals', 'existent', 'fanatics', 'flip', 'foch', 'friendships', 'fugitive', 'full-length', 'garnered', 'gasp', 'gee', 'gifts', 'good-natured', 'grain', 'grandparents', 'grumpy', 'haha', 'hardest', 'heart-warming', 'heroin', 'honeymoon', 'honorable', 'horizon', 'hungarian', 'immersed', 'infidelity', 'insanely', 'intestines', 'italians', 'itchy', 'jock', 'kamal', 'kerr', 'kiddie', 'kindness', 'kinky', 'lamas', 'layered', 'leary', 'lieutenant', 'lombard', 'looney', 'lotr', 'lovingly', 'lucio', 'lyrical', 'macbeth', 'maclean', 'marquis', 'mcintire', 'mindset', 'misplaced', 'mold', 'monstrous', 'montages', 'mourning', 'napoleon', 'newcombe', 'noah', 'nuance', 'obscene', 'oppressive', 'organs', 'outrage', 'outs', 'overseas', 'overt', 'partial', 'participation', 'philadelphia', 'planted', 'prevented', 'profit', 'proverbial', 'psychologically', 'regain', 'regal', 'rehearsal', 'reincarnation', 'replay', 'request', 'rests', 'revelations', 'rightfully', 'rushes', 'sacrificed', 'saif', 'sant', 'schumacher', 'sentenced', 'shack', 'shakespearean', 'shrink', 'slipped', 'snappy', 'snatch', 'snippets', 'societies', 'sparse', 'spectacularly', 'springs', 'squeeze', 'stepped', 'stimulating', 'stoic', 'strikingly', 'suggestive', 'superiors', 'surfers', 'surpasses', 'swamp', 'sync', 'tensions', 'tested', 'thankful', 'thinner', 'til', 'torch', 'toss', 'tucker', 'undertaker', 'undeveloped', 'untrue', 'usage', 'vengeful', 'vets', 'vivah', 'welcomed', 'wipe', 'witless', 'wits', 'wwi', '1931', '1937', '1962', 'achieving', 'adapting', 'addressing', 'affections', 'albums', 'allegedly', 'alligator', 'amok', 'anchor', 'argento', 'aristocrat', 'atwill', 'bathing', 'beau', 'blackie', 'blink', 'booze', 'brits', 'bruckheimer', 'bryan', 'butterfly', 'cambodia', 'camps', 'capsule', 'caroline', 'casted', 'celebrating', 'chairman', 'chore', 'cleveland', 'clumsily', 'co-writer', 'colourful', 'comic-book', 'compound', 'confirm', 'corky', 'criminally', 'crook', 'crop', 'crow', 'darkest', 'desolate', 'director/writer', 'disgruntled', 'diver', 'documents', 'downside', 'draft', 'dripping', 'drivers', 'drums', 'edits', 'emerged', 'employ', 'endured', 'episodic', 'eponymous', 'ewan', 'exhibit', 'expertise', 'exposing', 'extremes', 'exudes', 'fantastically', 'fernando', 'finch', 'fireworks', 'flamenco', 'flee', 'floors', 'gaining', 'gamut', 'gardner', 'gesture', 'goo', 'greta', 'grips', 'haired', 'hammerhead', 'hare', 'harmony', 'hating', 'hes', 'hi', 'hiring', 'his/her', 'hispanic', 'historians', 'hockey', 'holden', 'holidays', 'hurting', 'iceberg', 'illustrates', 'insulted', 'interpreted', 'jackass', 'janitor', 'kei', 'kentucky', 'kermit', 'laden', 'lamarr', 'leopold', 'listing', 'liza', 'locks', 'longtime', 'matching', 'merrill', 'mining', 'miracles', 'mischievous', 'misfire', 'mocking', 'monstrosity', 'monumental', 'munchies', 'mutated', 'nerds', 'norma', 'november', 'nuns', 'offerings', 'operas', 'orgy', 'oriental', 'orphanage', 'outta', 'overnight', 'paperhouse', 'phyllis', 'piper', 'planets', 'plotted', 'polite', 'poppins', 'positions', 'ppv', 'practicing', 'presumed', 'primal', 'prototype', 'ranging', 'recalls', 'reception', 'render', 'requisite', 'retain', 'rigid', 'sacred', 'sans', 'satellite', 'schemes', 'science-fiction', 'semi', 'shadowy', 'shouts', 'shue', 'siege', 'skywalker', 'smitten', 'soles', 'sorta', 'spectrum', 'stefan', 'stir', 'stoltz', 'strangest', 'straw', 'streak', 'stripped', 'supplies', 'surrogate', 'telly', 'tepid', 'throwaway', 'topped', 'townsend', 'townspeople', 'trelkovsky', 'tremors', 'turgid', 'two-dimensional', 'unborn', 'underdog', 'undertones', 'underused', 'unimpressive', 'universally', 'unrated', 'vanishing', 'variations', 'venezuela', 'veronica', 'virtues', 'voters', 'weirdo', 'wellington', 'willem', 'wolverine', 'wondrous', 'woven', 'zatoichi', '1954', 'abominable', 'addresses', 'aims', 'allied', 'amateurs', 'amuse', 'answering', 'apologies', 'approval', 'arbitrary', 'archie', 'ashraf', 'aspirations', 'attributed', 'aunts', 'b-grade', 'babysitter', 'baffled', 'bake', 'balcony', 'banana', 'bava', 'beta', 'bickering', 'binoche', 'blaine', 'blaxploitation', 'blends', 'blessing', 'blinded', 'bonham', 'botched', 'boxes', 'boyfriends', 'bullying', 'calculated', 'canon', 'capitalize', 'capshaw', 'cassel', 'celie', 'chains', 'charity', 'choreographer', 'closeups', 'coarse', 'coincidences', 'competing', 'complains', 'consisting', 'contacts', 'costner', 'council', 'culminating', 'currie', 'daft', 'decapitated', 'deception', 'declares', 'decoration', 'distributor', 'documented', 'drifter', 'eddy', 'eleanor', 'employs', 'enlightenment', 'ensuing', 'enthralled', 'eustache', 'exaggeration', 'exceedingly', 'exhausted', 'exposes', 'faux', 'ferry', 'forum', 'frenchman', 'frenetic', 'g-girl', 'gertrude', 'gladly', 'grail', 'grounded', 'gym', 'hagar', 'halt', 'hardships', 'hayden', 'hickock', 'high-school', 'hilliard', 'holm', 'hunk', 'ideology', 'inch', 'indulge', 'inheritance', 'insisted', 'instruments', 'integrated', 'interminable', 'interpret', 'iowa', 'irs', 'jaffar', 'jovi', 'keeper', 'kerry', 'keyboard', 'kisses', 'krishna', 'lam', 'lap', 'lithgow', 'manufactured', 'marvellous', 'masturbation', 'maya', 'menu', 'michel', 'minions', 'mortensen', 'nielsen', 'norwegian', 'occurring', 'oddball', 'olympia', 'olympic', 'options', 'ounce', 'outsider', 'over-acting', 'owning', 'patch', 'pbs', 'perfected', 'pokes', 'preserved', 'prevents', 'pursues', 'rabid', 'radar', 'raft', 'rathbone', 'recreation', 'redeemed', 'resurrection', 'retrospect', 'roeg', 'romano', 'rub', 'rumors', 'runtime', 'sealed', 'secluded', 'shakes', 'sherry', 'shootings', 'skimpy', 'sleepwalkers', 'slow-moving', 'slug', 'smallest', 'societal', 'somber', 'soulless', 'spaces', 'spears', 'spot-on', 'spreading', 'ss', 'stable', 'stealth', 'stills', 'story-telling', 'sweetheart', 'talentless', 'tanks', 'tasteful', 'texture', 'threats', 'tigerland', 'transcends', 'transferred', 'transform', 'trent', 'unfairly', 'unfinished', 'unforgivable', 'unsuccessful', 'voting', 'wallach', 'wb', 'weaves', 'werner', 'wheels', 'wicker', 'winslet']\n"
          ]
        }
      ],
      "source": [
        "print(vocab.get_itos())  # top 10000 freq words (including special chars)"
      ]
    },
    {
      "cell_type": "code",
      "execution_count": 10,
      "metadata": {
        "id": "9ohTgQRU6py6"
      },
      "outputs": [],
      "source": [
        "word_index = {k:v for (k, v) in enumerate(vocab.get_itos())}"
      ]
    },
    {
      "cell_type": "code",
      "execution_count": 11,
      "metadata": {
        "id": "_LgHdz6a6U1g",
        "colab": {
          "base_uri": "https://localhost:8080/"
        },
        "outputId": "7a919879-c797-4fb3-d3a2-38e73b9470d6"
      },
      "outputs": [
        {
          "output_type": "stream",
          "name": "stdout",
          "text": [
            "It was great to see some of my favorite stars of 30 years ago including John Ritter, Ben Gazarra and Audrey Hepburn. They looked quite wonderful. But that was it. They were not given any characters or good lines to work with. I neither understood or cared what the characters were doing.<br /><br />Some of the smaller female roles were fine, Patty Henson and Colleen Camp were quite competent and confident in their small sidekick parts. They showed some talent and it is sad they didn't go on to star in more and better films. Sadly, I didn't think Dorothy Stratten got a chance to act in this her only important film role.<br /><br />The film appears to have some fans, and I was very open-minded when I started watching it. I am a big Peter Bogdanovich fan and I enjoyed his last movie, \"Cat's Meow\" and all his early ones from \"Targets\" to \"Nickleodeon\". So, it really surprised me that I was barely able to keep awake watching this one.<br /><br />It is ironic that this movie is about a detective agency where the detectives and clients get romantically involved with each other. Five years later, Bogdanovich's ex-girlfriend, Cybil Shepherd had a hit television series called \"Moonlighting\" stealing the story idea from Bogdanovich. Of course, there was a great difference in that the series relied on tons of witty dialogue, while this tries to make do with slapstick and a few screwball lines.<br /><br />Bottom line: It ain't no \"Paper Moon\" and only a very pale version of \"What's Up, Doc\".\n",
            "\n",
            "\n",
            "it was great to see some of my favorite stars of 30 years ago including john ritter , ben <oov> and audrey hepburn . they looked quite wonderful . but that was it . they were not given any characters or good lines to work with . i neither understood or cared what the characters were doing . some of the smaller female roles were fine , patty <oov> and <oov> camp were quite competent and confident in their small sidekick parts . they showed some talent and it is sad they didn ' t go on to star in more and better films . sadly , i didn ' t think dorothy <oov> got a chance to act in this her only important film role . the film appears to have some fans , and i was very <oov> when i started watching it . i am a big peter bogdanovich fan and i enjoyed his last movie , cat ' s <oov> and all his early ones from targets to <oov> . so , it really surprised me that i was barely able to keep awake watching this one . it is ironic that this movie is about a detective agency where the detectives and <oov> get <oov> involved with each other . five years later , bogdanovich ' s ex-girlfriend , <oov> shepherd had a hit television series called <oov> stealing the story idea from bogdanovich . of course , there was a great difference in that the series relied on tons of witty dialogue , while this tries to make do with slapstick and a few screwball lines . bottom line it ain ' t no paper moon and only a very pale version of what ' s up , doc .\n"
          ]
        }
      ],
      "source": [
        "def decode_review(word_ids):\n",
        "    return \" \".join([word_index.get(word_id, \"<err>\") for word_id in word_ids])\n",
        "\n",
        "print(text_samp)\n",
        "print(\"\\n\")\n",
        "print(decode_review(text_pipeline(text_samp)))"
      ]
    },
    {
      "cell_type": "markdown",
      "metadata": {
        "id": "RHkfIQpAVkWA"
      },
      "source": [
        "To keep the length of the all the input sequences same, we define the padding function. All the sentence less than the lenght of 500 will be padded with zeros and greater than 500 will be truncated. Notice that we will pad and truncate sequences right-wise, so that processing the sequences, the final hidden states of the recurrent networks will correspond to the final words of each sequence in the batch.\n",
        "\n"
      ]
    },
    {
      "cell_type": "code",
      "execution_count": 12,
      "metadata": {
        "id": "Ng1AGY-MBvLo",
        "colab": {
          "base_uri": "https://localhost:8080/"
        },
        "outputId": "145eb55e-676a-47b6-e5d2-3292b6f787d0"
      },
      "outputs": [
        {
          "output_type": "stream",
          "name": "stdout",
          "text": [
            "tensor([0, 0, 0, 1, 2, 3])\n",
            "tensor([4, 5, 6, 7, 8, 9])\n"
          ]
        }
      ],
      "source": [
        "def sent_padding(sent_vec, maxlen):\n",
        "  sent_vec = torch.tensor(sent_vec)\n",
        "  maxlen -= len(sent_vec)\n",
        "  return F.pad(sent_vec, (maxlen, 0))\n",
        "\n",
        "\n",
        "print(sent_padding([1,2,3], maxlen=6))\n",
        "print(sent_padding([1,2,3,4,5,6,7,8,9], maxlen=6))"
      ]
    },
    {
      "cell_type": "code",
      "execution_count": 13,
      "metadata": {
        "id": "oEu2kEw8AitP",
        "colab": {
          "base_uri": "https://localhost:8080/"
        },
        "outputId": "f27e94c9-757c-4a01-9f76-a65929f0f5b4"
      },
      "outputs": [
        {
          "output_type": "execute_result",
          "data": {
            "text/plain": [
              "tensor([   0,    0,    0,    0,    0,    0,    0,    0,    0,    0,    0,    0,\n",
              "           0,    0,    0,    0,    0,    0,    0,    0,    0,    0,    0,    0,\n",
              "           0,    0,    0,    0,    0,    0,    0,    0,    0,    0,    0,    0,\n",
              "           0,    0,    0,    0,    0,    0,    0,    0,    0,    0,    0,    0,\n",
              "           0,    0,    0,    0,    0,    0,    0,    0,    0,    0,    0,    0,\n",
              "           0,    0,    0,    0,    0,    0,    0,    0,    0,    0,    0,    0,\n",
              "           0,    0,    0,    0,    0,    0,    0,    0,    0,    0,    0,    0,\n",
              "           0,    0,    0,    0,    0,    0,    0,    0,    0,    0,    0,    0,\n",
              "           0,    0,    0,    0,    0,    0,    0,    0,    0,    0,    0,    0,\n",
              "           0,    0,    0,    0,    0,    0,    0,    0,    0,    0,    0,    0,\n",
              "           0,    0,    0,    0,    0,    0,    0,    0,    0,    0,    0,    0,\n",
              "           0,    0,    0,    0,    0,    0,    0,    0,    0,    0,    0,    0,\n",
              "           0,    0,    0,    0,    0,    0,    0,    0,    0,    0,    0,    0,\n",
              "           0,    0,    0,    0,    0,    0,    0,    0,    0,    0,    0,    0,\n",
              "           0,    0,    0,    0,    0,    0,    0,    0,    0,    0,    0,    0,\n",
              "           0,    0,    0,    0,    0,    0,    0,    0,    0,    0,    0,    0,\n",
              "           0,    0,    0,    0,    0,    0,    0,    0,    0,    0,    0,    0,\n",
              "          11,   17,   93,    8,   74,   56,    7,   64,  508,  394,    7, 1038,\n",
              "         161,  587,  586,  304, 3317,    4,  960,    0,    5, 5812, 5652,    3,\n",
              "          39,  597,  187,  385,    3,   22,   15,   17,   11,    3,   39,   77,\n",
              "          29,  350,  107,  111,   48,   57,  414,    8,  170,   20,    3,   13,\n",
              "        1056, 2709,   48, 3649,   54,    2,  111,   77,  396,    3,   56,    7,\n",
              "           2, 4140,  661,  550,   77,  479,    4, 8060,    0,    5,    0, 1226,\n",
              "          77,  187, 3279,    5, 6256,   12,   73,  400, 4183,  525,    3,   39,\n",
              "        1147,   56,  670,    5,   11,   10,  616,   39,  163,    9,   27,  148,\n",
              "          28,    8,  338,   12,   59,    5,  133,  114,    3, 1017,    4,   13,\n",
              "         163,    9,   27,  110, 3192,    0,  193,    6,  569,    8,  507,   12,\n",
              "          14,   47,   70,  678,   23,  219,    3,    2,   23,  723,    8,   33,\n",
              "          56,  456,    4,    5,   13,   17,   62,    0,   60,   13,  641,  155,\n",
              "          11,    3,   13,  246,    6,  207,  779, 8379,  342,    5,   13,  503,\n",
              "          32,  237,   21,    4, 1098,    9,   16,    0,    5,   37,   32,  407,\n",
              "         650,   43, 7016,    8,    0,    3,   44,    4,   11,   72,  750,   78,\n",
              "          15,   13,   17, 1181,  506,    8,  395, 4018,  155,   14,   35,    3,\n",
              "          11,   10, 2922,   15,   14,   21,   10,   50,    6, 1242, 5632,  123,\n",
              "           2, 5822,    5,    0,   83,    0,  566,   20,  258,   88,    3,  715,\n",
              "         161,  306,    4, 8379,    9,   16, 8905,    4,    0, 6310,   75,    6,\n",
              "         642,  691,  210,  494,    0, 3360,    2,   71,  326,   43, 8379,    3,\n",
              "           7,  267,    4,   46,   17,    6,   93, 1425,   12,   15,    2,  210,\n",
              "        9350,   28, 3364,    7, 1896,  415,    4,  143,   14,  493,    8,  105,\n",
              "          91,   20, 2740,    5,    6,  175, 7002,  414,    3, 1352,  371,   11,\n",
              "        2728,    9,   27,   65, 2449, 1802,    5,   70,    6,   62, 6369,  316,\n",
              "           7,   54,    9,   16,   66,    4, 3332,    3])"
            ]
          },
          "metadata": {},
          "execution_count": 13
        }
      ],
      "source": [
        "seq_len = 500\n",
        "sent_padding(text_pipeline(text_samp), maxlen=seq_len)"
      ]
    },
    {
      "cell_type": "code",
      "execution_count": 14,
      "metadata": {
        "id": "3kZBk07MCscA"
      },
      "outputs": [],
      "source": [
        "class CustomDataset(Dataset):\n",
        "\n",
        "  def __init__(self, dataset, seq_len=seq_len):\n",
        "    super().__init__()\n",
        "    self.dataset = dataset\n",
        "    self.seq_len = seq_len\n",
        "\n",
        "  def __len__(self):\n",
        "    return len(self.dataset)\n",
        "\n",
        "  def __getitem__(self, idx):\n",
        "    label, text = self.dataset[idx]\n",
        "    label = label_pipeline(label)\n",
        "    txt_rep = sent_padding(text_pipeline(text), maxlen=self.seq_len)\n",
        "    label, txt_rep = torch.tensor(label, dtype=torch.float32), torch.tensor(txt_rep, dtype=torch.long)\n",
        "    return label.to(device), txt_rep.to(device)"
      ]
    },
    {
      "cell_type": "code",
      "execution_count": 15,
      "metadata": {
        "id": "WSt_NtvtCse3"
      },
      "outputs": [],
      "source": [
        "train_dataset = CustomDataset(train_data)\n",
        "val_dataset = CustomDataset(val_data)\n",
        "test_dataset = CustomDataset(test_data)"
      ]
    },
    {
      "cell_type": "code",
      "execution_count": 16,
      "metadata": {
        "id": "_LR_4LyNCshb"
      },
      "outputs": [],
      "source": [
        "batch_size = 256\n",
        "dataloader_training = DataLoader(train_dataset, batch_size=batch_size, shuffle=True)\n",
        "dataloader_validation = DataLoader(val_dataset, batch_size=batch_size)\n",
        "dataloader_test = DataLoader(test_dataset, batch_size=batch_size)"
      ]
    },
    {
      "cell_type": "markdown",
      "metadata": {
        "id": "Jsd_sk1pX04P"
      },
      "source": [
        "# Model Definition [TO COMPLETE]\n",
        "\n",
        "#Model Definition\n",
        "\n",
        "Let's define the model:\n",
        "- The first layer is an Embedding layer, with input_dim=vocab_dim and output_dim=10. The model will gradually learn to represent each of the 10,000 words as a 10-dimensional vector. So the next layer will receive 3D batches of shape (batch size, 500, 10)\n",
        "- The second layer is the recurrent one. In particular, in this case, we use a [RNN](https://pytorch.org/docs/stable/generated/torch.nn.RNN.html), LSTM and GRU.\n",
        "- The output layer is linear one that maps the model output to the target space and applies a sigmoid function (we are using a [Binary Cross-Entropy Loss](https://pytorch.org/docs/stable/generated/torch.nn.BCELoss.html#torch.nn.BCELoss) which, differently from Cross-Entropy Loss, expects probabilities as input)\n",
        "\n",
        "### Model Comparison\n",
        "\n",
        "In order to perform a fair comparison of the models RNN, LSTM and GRU make sure they use more or less the same number of parameters.\n",
        "\n",
        "In the next cell, we define our simple RNN used for binary classification. The class has two main methods, the constructor (`init()`) and the `forward()` method.\n",
        "\n",
        "In the constructor, the input parameters are used to define the layers and hyperparameters of the RNN. The layers that are defined include an embedding layer (`self.embedding`), a recurrent layer (`self.rnn`), and a linear layer (`self.linear`). The constructor also sets up various parameters such as the embedding input size, the embedding output size, the hidden size, the number of layers, the batch size, the RNN type, and whether or not the RNN is bidirectional.\n",
        "\n",
        "The `forward()` method takes a batch of input data (`x`) and applies the layers defined in the constructor in a specific sequence. First, the input is passed through the embedding layer to create embeddings of the input tokens. These embeddings are then permuted to be of the correct shape for the RNN layer, which expects inputs of the form (`seq_len, batch_size, H_in`). The RNN layer is then applied to these embeddings, producing both the RNN output (`rnn_out`) and the last hidden state (`self.last_hidden`). Finally, the output of the RNN is passed through a linear layer and flattened to produce the final output of the network, which is a sigmoid activation function applied to a tensor of shape (`batch_size`). This output is then returned.\n",
        "\n",
        "**[TO COMPLETE]** Implement the forward method."
      ]
    },
    {
      "cell_type": "markdown",
      "metadata": {
        "id": "oPb_W9K5Zyk-"
      },
      "source": [
        "`%STARTCODE%`"
      ]
    },
    {
      "cell_type": "code",
      "execution_count": 17,
      "metadata": {
        "id": "nTY5n-t7X3VD"
      },
      "outputs": [],
      "source": [
        "class My_RNN(nn.Module):\n",
        "  def __init__(self, vocab_length, emb_dim, hidden_size, num_layers, rnn_dropout,\n",
        "               batch_size, RNN_type, bidirectional, device=device):\n",
        "    super().__init__()\n",
        "    self.emb_in_dim = vocab_length  # 10000\n",
        "    self.emb_out_dim = emb_dim  # 10\n",
        "    self.hidden_size = hidden_size\n",
        "    self.num_layers = num_layers\n",
        "    self.bidirectional = bidirectional\n",
        "    self.batch_size = batch_size\n",
        "    self.RNN_type = RNN_type\n",
        "    self.target_size = 1  # binary classification\n",
        "    self.device = device\n",
        "    self.D = 2 if self.bidirectional else 1  # enable/disable bidirectional\n",
        "\n",
        "    valid_types = {'Simple RNN':RNN, 'LSTM':LSTM, 'GRU':GRU}\n",
        "    assert self.RNN_type in valid_types.keys(), f'You must choose one of {valid_types.keys()} types'\n",
        "\n",
        "    self.embedding = Embedding(self.emb_in_dim, self.emb_out_dim)\n",
        "\n",
        "    chosen_rnn = valid_types[self.RNN_type]\n",
        "    self.rnn = chosen_rnn(input_size=self.emb_out_dim, hidden_size=self.hidden_size,\n",
        "                          num_layers=self.num_layers, dropout=rnn_dropout, bidirectional = self.bidirectional)\n",
        "\n",
        "    self.linear = Linear(self.D*self.hidden_size, self.target_size)\n",
        "\n",
        "  def forward(self, x):\n",
        "    # x: (batch_size, 500)\n",
        "    # [TO COMPLETE]\n",
        "    embeds = self.embedding(x)\n",
        "\n",
        "    # Embeds have shape (batch_size, 500, 10)\n",
        "    embeds = embeds.permute(1, 0, 2)\n",
        "    # But rnn receives inputs of: (500, batch_size, 10) (seq_len, batch_size, H_in)\n",
        "    # [TO COMPLETE]\n",
        "\n",
        "    rnn_out, self.last_hidden = self.rnn(embeds) # [TO COMPLETE]\n",
        "    # rnn_out: (500, 256, 2*5:10) -> (seq_len, batch_size, D*hidden_size)\n",
        "    # h_n: (1, 256, hidden_size) -> (D*num_layers, batch_size, hidden_size)\n",
        "    last_seq_item = rnn_out[-1]\n",
        "    # hint: pay attention to WHICH output dimension corresponds to the elements of the sequence\n",
        "    # [TO COMPLETE]\n",
        "    output = self.linear(last_seq_item)\n",
        "    #output: (256, 1) -> (batch_size, target_size)\n",
        "    output = output.flatten()\n",
        "    #output: (256) -> (batch_size)\n",
        "    return F.sigmoid(output)"
      ]
    },
    {
      "cell_type": "markdown",
      "metadata": {
        "id": "L_Iv4QVcZyk_"
      },
      "source": [
        "`%ENDCODE%`"
      ]
    },
    {
      "cell_type": "markdown",
      "metadata": {
        "id": "QmakxXHJjlJR"
      },
      "source": [
        "\n",
        "The code below allows us to do a verifcation of the model in term of any implementation error. The script demonstrates the process of initializing a recurrent neural network model, loading data, performing inference, and inspecting the output using a simple example.\n",
        "\n",
        "\n",
        "\n",
        "\n",
        "\n"
      ]
    },
    {
      "cell_type": "code",
      "execution_count": 18,
      "metadata": {
        "id": "z5d2_4VlPH1i",
        "colab": {
          "base_uri": "https://localhost:8080/"
        },
        "outputId": "9233a68c-08cd-4091-85ff-b71eb1820c67"
      },
      "outputs": [
        {
          "output_type": "stream",
          "name": "stdout",
          "text": [
            "torch.Size([256])\n",
            "tensor(0.5273, device='cuda:0', grad_fn=<SelectBackward0>)\n"
          ]
        }
      ],
      "source": [
        "'''\n",
        "CHECK I\n",
        "'''\n",
        "vocab_length = len(vocab)\n",
        "emb_dim = 10\n",
        "hidden_size = 5\n",
        "num_layers = 2\n",
        "RNN_type = 'LSTM' #possible choices -> ['Simple RNN', 'LSTM', 'GRU']\n",
        "bidirectional = True\n",
        "#BiDirectional GRU with 2 layers of hidden size of 5\n",
        "\n",
        "model = My_RNN(vocab_length=vocab_length, emb_dim=emb_dim, hidden_size=hidden_size,\n",
        "               num_layers=num_layers, batch_size=batch_size, rnn_dropout=0, RNN_type=RNN_type,\n",
        "               bidirectional=bidirectional).to(device)\n",
        "\n",
        "label, text = next(iter(dataloader_training))\n",
        "x = model.forward(text)\n",
        "print(x.shape)\n",
        "print(x[52]) #sigmoid output"
      ]
    },
    {
      "cell_type": "markdown",
      "metadata": {
        "id": "vdKi6_PtkI_A"
      },
      "source": [
        "Here, we use the My_RNN class to check the model summary for different models."
      ]
    },
    {
      "cell_type": "code",
      "execution_count": 19,
      "metadata": {
        "id": "mmPnOvlYTIdd",
        "colab": {
          "base_uri": "https://localhost:8080/"
        },
        "outputId": "aa6d623f-277b-4fc3-d14b-8ac7f9ac37cf"
      },
      "outputs": [
        {
          "output_type": "execute_result",
          "data": {
            "text/plain": [
              "=================================================================\n",
              "Layer (type:depth-idx)                   Param #\n",
              "=================================================================\n",
              "My_RNN                                   --\n",
              "├─Embedding: 1-1                         100,000\n",
              "├─RNN: 1-2                               1,408\n",
              "├─Linear: 1-3                            33\n",
              "=================================================================\n",
              "Total params: 101,441\n",
              "Trainable params: 101,441\n",
              "Non-trainable params: 0\n",
              "================================================================="
            ]
          },
          "metadata": {},
          "execution_count": 19
        }
      ],
      "source": [
        "vocab_length = len(vocab)\n",
        "emb_dim = 10\n",
        "hidden_size = 32\n",
        "num_layers = 1\n",
        "RNN_type = 'Simple RNN' #possible choices -> ['Simple RNN', 'LSTM', 'GRU']\n",
        "bidirectional = False\n",
        "lr = 1e-3\n",
        "\n",
        "model = My_RNN(vocab_length=vocab_length, emb_dim=emb_dim, hidden_size=hidden_size,\n",
        "               num_layers=num_layers, batch_size=batch_size, rnn_dropout=0, RNN_type=RNN_type,\n",
        "               bidirectional=bidirectional).to(device)\n",
        "\n",
        "summary(model)\n",
        "#if you see there is a differnce of 1408-1376=32 with the keras version\n",
        "#that is because of the fact that keras does not consider bias terms for RNNs."
      ]
    },
    {
      "cell_type": "code",
      "execution_count": 20,
      "metadata": {
        "id": "KmkiEic1ToNL"
      },
      "outputs": [],
      "source": [
        "criterion = torch.nn.BCELoss()  # does not apply sigmoid\n",
        "optimizer = torch.optim.Adam(model.parameters(), lr=lr)"
      ]
    },
    {
      "cell_type": "code",
      "execution_count": 21,
      "metadata": {
        "id": "1I8ZE7PKf8mS",
        "colab": {
          "base_uri": "https://localhost:8080/"
        },
        "outputId": "3328ebfe-3f7c-4434-a5e2-df53b52503bb"
      },
      "outputs": [
        {
          "output_type": "stream",
          "name": "stdout",
          "text": [
            "epoch: 0 -> Loss: 0.7043056488037109\n",
            "epoch: 100 -> Loss: 0.16848118603229523\n",
            "epoch: 200 -> Loss: 0.006360582076013088\n",
            "epoch: 300 -> Loss: 0.1609906107187271\n",
            "epoch: 400 -> Loss: 0.13433849811553955\n",
            "epoch: 499 -> Loss: 0.03720540553331375\n"
          ]
        }
      ],
      "source": [
        "'''\n",
        "Sanity Check II: Overfitting on one batch\n",
        "'''\n",
        "E = 500\n",
        "label, text = next(iter(dataloader_training))\n",
        "for itr in range(E):\n",
        "    model.train()\n",
        "    optimizer.zero_grad()\n",
        "    logits = model(text)\n",
        "    loss = criterion(logits, label)\n",
        "    if itr % 100 == 0 or itr == E-1:\n",
        "      print(f\"epoch: {itr} -> Loss: {loss}\")\n",
        "    loss.backward()\n",
        "    optimizer.step()"
      ]
    },
    {
      "cell_type": "markdown",
      "metadata": {
        "id": "9Vgp7U3QNBsG"
      },
      "source": [
        "# Simple RNN\n",
        "\n",
        "We define a Simple RNN model and evaluate its performance. We define the training and evaluation loop. The function takes the model, optimizer, dataloader_train, dataloader_val and epochs as input parameters. The function returns training loss, validation loss, training accuracy and validation accuracy to monitor the model performance."
      ]
    },
    {
      "cell_type": "code",
      "execution_count": 22,
      "metadata": {
        "id": "aPy8m4hPUGbs"
      },
      "outputs": [],
      "source": [
        "def train(model, optimizer, dataloader_train, dataloader_val, epochs):\n",
        "  loss_train, loss_val = [], []\n",
        "  acc_train, acc_val = [], []\n",
        "  for epoch in range(epochs):\n",
        "    model.train()\n",
        "    total_acc_train, total_count_train, n_train_batches, total_loss_train = 0, 0, 0, 0\n",
        "    for idx, (label, text) in enumerate(dataloader_train):\n",
        "      optimizer.zero_grad()\n",
        "      logits = model(text)\n",
        "      loss = criterion(logits, label)\n",
        "      total_loss_train += loss\n",
        "      loss.backward()\n",
        "      optimizer.step()\n",
        "\n",
        "      labels_form_logits = lambda x: 0. if x < 0.5 else 1.\n",
        "      logits = torch.tensor(list(map(labels_form_logits, logits))).to(model.device)\n",
        "      total_acc_train += (logits == label).sum().item()\n",
        "      total_count_train += label.size(0)\n",
        "      n_train_batches += 1\n",
        "\n",
        "    avg_loss_train = total_loss_train/n_train_batches\n",
        "    loss_train.append(avg_loss_train.item())\n",
        "    accuracy_train = total_acc_train/total_count_train\n",
        "    acc_train.append(accuracy_train)\n",
        "\n",
        "    total_acc_val, total_count_val, n_val_batches, total_loss_val = 0, 0, 0, 0\n",
        "    with torch.no_grad():\n",
        "        model.eval()\n",
        "        for idx, (label, text) in enumerate(dataloader_val):\n",
        "            logits = model(text)\n",
        "            loss = criterion(logits, label)\n",
        "            total_loss_val += loss\n",
        "            logits = torch.tensor(list(map(labels_form_logits, logits))).to(model.device)\n",
        "            total_acc_val += (logits == label).sum().item()\n",
        "            total_count_val += label.size(0)\n",
        "            n_val_batches += 1\n",
        "    avg_loss_val = total_loss_val/n_val_batches\n",
        "    loss_val.append(avg_loss_val.item())\n",
        "    accuracy_val = total_acc_val/total_count_val\n",
        "    acc_val.append(accuracy_val)\n",
        "    if epoch % 1 == 0:\n",
        "      print(f\"epoch: {epoch+1} -> Accuracy: {100*accuracy_train:.2f}%, Loss: {avg_loss_train:.8f}\",end=\" ---------------- \")\n",
        "      print(f\"Val_Acc: {100*accuracy_val:.2f}%, Val_Loss: {avg_loss_val:.8f}\")\n",
        "  return loss_train, acc_train, loss_val, acc_val"
      ]
    },
    {
      "cell_type": "code",
      "execution_count": 23,
      "metadata": {
        "id": "uX9Zb5OPVuFV"
      },
      "outputs": [],
      "source": [
        "def plot_learning_acc_and_loss(loss_tr, acc_tr, loss_val, acc_val):\n",
        "\n",
        "    plt.figure(figsize=(8, 10))\n",
        "\n",
        "    plt.subplot(2, 1, 1)\n",
        "    plt.grid()\n",
        "    plt.plot(range(EPOCHS), acc_tr, label='acc_training')\n",
        "    plt.plot(range(EPOCHS), acc_val, label='acc_validation')\n",
        "    plt.xlabel('Epochs')\n",
        "    plt.ylabel('Accuracy')\n",
        "    plt.legend(loc='best')\n",
        "\n",
        "    plt.subplot(2, 1, 2)\n",
        "    plt.grid()\n",
        "    plt.plot(range(EPOCHS), loss_tr, label='loss_training')\n",
        "    plt.plot(range(EPOCHS), loss_val, label='loss_validation')\n",
        "    plt.xlabel('Epochs')\n",
        "    plt.ylabel('Loss')\n",
        "    plt.legend(loc='best')\n",
        "\n",
        "    plt.show()"
      ]
    },
    {
      "cell_type": "markdown",
      "metadata": {
        "id": "wQp313iXZylB"
      },
      "source": [
        "## Train an RNN [TO COMPLETE]\n",
        "\n",
        "Your task is then to train the Deep Learning model:\n",
        "* keep the number of epochs fixed (same for all models)\n",
        "* do not overfit the training set: we care about generalization, so performance on the val set should be reasonably close (withing a few % pts) to that of the training set. You can use regularization techniques such as dropout and weight decay\n",
        "* try to get a good performance (at least 70% validation accuracy!)\n",
        "* keep in the cells below only the outputs of the best model configuration you find."
      ]
    },
    {
      "cell_type": "markdown",
      "metadata": {
        "id": "bFWRRc8IZylB"
      },
      "source": [
        "`%STARTCODE%`"
      ]
    },
    {
      "cell_type": "code",
      "execution_count": 24,
      "metadata": {
        "id": "hCxnJfEAi6aX"
      },
      "outputs": [],
      "source": [
        "emb_dim =  128 # [TO COMPLETE]\n",
        "hidden_size = 256  # [TO COMPLETE]\n",
        "num_layers =  2 # [TO COMPLETE]\n",
        "rnn_dropout = 0.5  # [TO COMPLETE]\n",
        "lr =  0.001 # [TO COMPLETE]\n",
        "\n",
        "vocab_length = len(vocab)\n",
        "EPOCHS = 75\n",
        "\n",
        "model = My_RNN(vocab_length=vocab_length, emb_dim=emb_dim, hidden_size=hidden_size,\n",
        "               num_layers=num_layers, batch_size=batch_size, rnn_dropout=rnn_dropout, RNN_type='Simple RNN',\n",
        "               bidirectional=False).to(device)\n",
        "\n",
        "criterion = torch.nn.BCELoss() #does not apply sigmoid\n",
        "optimizer = torch.optim.Adam(model.parameters(), lr=lr)"
      ]
    },
    {
      "cell_type": "code",
      "execution_count": 25,
      "metadata": {
        "id": "HAtPJWvSZylB",
        "colab": {
          "base_uri": "https://localhost:8080/"
        },
        "outputId": "a6910c2f-7b85-4cfe-e74c-e9bd97f3bd5c"
      },
      "outputs": [
        {
          "output_type": "execute_result",
          "data": {
            "text/plain": [
              "=================================================================\n",
              "Layer (type:depth-idx)                   Param #\n",
              "=================================================================\n",
              "My_RNN                                   --\n",
              "├─Embedding: 1-1                         1,280,000\n",
              "├─RNN: 1-2                               230,400\n",
              "├─Linear: 1-3                            257\n",
              "=================================================================\n",
              "Total params: 1,510,657\n",
              "Trainable params: 1,510,657\n",
              "Non-trainable params: 0\n",
              "================================================================="
            ]
          },
          "metadata": {},
          "execution_count": 25
        }
      ],
      "source": [
        "summary(model)"
      ]
    },
    {
      "cell_type": "code",
      "execution_count": 26,
      "metadata": {
        "id": "YSiNr8G0UQUK",
        "colab": {
          "base_uri": "https://localhost:8080/"
        },
        "outputId": "9641c095-c002-49b5-cfd0-ae06a1e65031"
      },
      "outputs": [
        {
          "output_type": "stream",
          "name": "stdout",
          "text": [
            "epoch: 1 -> Accuracy: 60.04%, Loss: 0.66349494 ---------------- Val_Acc: 59.34%, Val_Loss: 0.67352331\n",
            "epoch: 2 -> Accuracy: 60.75%, Loss: 0.65429664 ---------------- Val_Acc: 57.35%, Val_Loss: 0.67564172\n",
            "epoch: 3 -> Accuracy: 64.90%, Loss: 0.62594861 ---------------- Val_Acc: 64.01%, Val_Loss: 0.63337940\n",
            "epoch: 4 -> Accuracy: 59.57%, Loss: 0.65199578 ---------------- Val_Acc: 49.98%, Val_Loss: 0.69731009\n",
            "epoch: 5 -> Accuracy: 51.19%, Loss: 0.69317955 ---------------- Val_Acc: 49.99%, Val_Loss: 0.69502664\n",
            "epoch: 6 -> Accuracy: 54.34%, Loss: 0.68691379 ---------------- Val_Acc: 58.17%, Val_Loss: 0.67069548\n",
            "epoch: 7 -> Accuracy: 60.61%, Loss: 0.65593672 ---------------- Val_Acc: 65.02%, Val_Loss: 0.63106817\n",
            "epoch: 8 -> Accuracy: 66.28%, Loss: 0.62423676 ---------------- Val_Acc: 68.26%, Val_Loss: 0.60645622\n",
            "epoch: 9 -> Accuracy: 69.81%, Loss: 0.58878028 ---------------- Val_Acc: 67.22%, Val_Loss: 0.62466341\n",
            "epoch: 10 -> Accuracy: 72.11%, Loss: 0.56675804 ---------------- Val_Acc: 69.65%, Val_Loss: 0.58205247\n",
            "epoch: 11 -> Accuracy: 64.26%, Loss: 0.62903130 ---------------- Val_Acc: 59.82%, Val_Loss: 0.65808165\n",
            "epoch: 12 -> Accuracy: 71.72%, Loss: 0.55907655 ---------------- Val_Acc: 66.54%, Val_Loss: 0.61656660\n",
            "epoch: 13 -> Accuracy: 77.63%, Loss: 0.49675718 ---------------- Val_Acc: 69.28%, Val_Loss: 0.66325504\n",
            "epoch: 14 -> Accuracy: 78.30%, Loss: 0.48933417 ---------------- Val_Acc: 69.37%, Val_Loss: 0.62594664\n",
            "epoch: 15 -> Accuracy: 76.43%, Loss: 0.51324409 ---------------- Val_Acc: 73.96%, Val_Loss: 0.58406091\n",
            "epoch: 16 -> Accuracy: 74.19%, Loss: 0.52601981 ---------------- Val_Acc: 57.64%, Val_Loss: 0.66873550\n",
            "epoch: 17 -> Accuracy: 69.15%, Loss: 0.57854176 ---------------- Val_Acc: 72.08%, Val_Loss: 0.59313852\n",
            "epoch: 18 -> Accuracy: 78.35%, Loss: 0.48520690 ---------------- Val_Acc: 72.77%, Val_Loss: 0.56445843\n",
            "epoch: 19 -> Accuracy: 72.22%, Loss: 0.53861570 ---------------- Val_Acc: 59.14%, Val_Loss: 0.65770006\n",
            "epoch: 20 -> Accuracy: 77.95%, Loss: 0.47298795 ---------------- Val_Acc: 76.06%, Val_Loss: 0.53542775\n",
            "epoch: 21 -> Accuracy: 82.32%, Loss: 0.41834825 ---------------- Val_Acc: 75.60%, Val_Loss: 0.52567059\n",
            "epoch: 22 -> Accuracy: 84.16%, Loss: 0.38730979 ---------------- Val_Acc: 75.56%, Val_Loss: 0.51801395\n",
            "epoch: 23 -> Accuracy: 81.69%, Loss: 0.42485851 ---------------- Val_Acc: 72.38%, Val_Loss: 0.60440063\n",
            "epoch: 24 -> Accuracy: 72.56%, Loss: 0.53792495 ---------------- Val_Acc: 63.15%, Val_Loss: 0.63300365\n",
            "epoch: 25 -> Accuracy: 81.54%, Loss: 0.43085468 ---------------- Val_Acc: 75.19%, Val_Loss: 0.57155031\n",
            "epoch: 26 -> Accuracy: 79.35%, Loss: 0.44513682 ---------------- Val_Acc: 58.06%, Val_Loss: 0.66572523\n",
            "epoch: 27 -> Accuracy: 72.10%, Loss: 0.54442304 ---------------- Val_Acc: 64.88%, Val_Loss: 0.71885717\n",
            "epoch: 28 -> Accuracy: 79.17%, Loss: 0.46229035 ---------------- Val_Acc: 71.12%, Val_Loss: 0.56788808\n",
            "epoch: 29 -> Accuracy: 69.01%, Loss: 0.55906731 ---------------- Val_Acc: 49.79%, Val_Loss: 0.68129069\n",
            "epoch: 30 -> Accuracy: 66.51%, Loss: 0.59580612 ---------------- Val_Acc: 64.03%, Val_Loss: 0.63421005\n",
            "epoch: 31 -> Accuracy: 75.41%, Loss: 0.50814217 ---------------- Val_Acc: 71.81%, Val_Loss: 0.60344350\n",
            "epoch: 32 -> Accuracy: 80.76%, Loss: 0.43954220 ---------------- Val_Acc: 73.59%, Val_Loss: 0.58356345\n",
            "epoch: 33 -> Accuracy: 83.50%, Loss: 0.39329240 ---------------- Val_Acc: 74.37%, Val_Loss: 0.56702411\n",
            "epoch: 34 -> Accuracy: 76.72%, Loss: 0.46228677 ---------------- Val_Acc: 60.86%, Val_Loss: 0.64765590\n",
            "epoch: 35 -> Accuracy: 75.02%, Loss: 0.51231307 ---------------- Val_Acc: 72.03%, Val_Loss: 0.60978490\n",
            "epoch: 36 -> Accuracy: 82.64%, Loss: 0.40084201 ---------------- Val_Acc: 75.52%, Val_Loss: 0.61414856\n",
            "epoch: 37 -> Accuracy: 86.19%, Loss: 0.35131723 ---------------- Val_Acc: 76.31%, Val_Loss: 0.57842100\n",
            "epoch: 38 -> Accuracy: 86.45%, Loss: 0.34065315 ---------------- Val_Acc: 75.94%, Val_Loss: 0.57816422\n",
            "epoch: 39 -> Accuracy: 86.02%, Loss: 0.35095206 ---------------- Val_Acc: 71.21%, Val_Loss: 0.60328645\n",
            "epoch: 40 -> Accuracy: 87.09%, Loss: 0.32976228 ---------------- Val_Acc: 74.95%, Val_Loss: 0.60726470\n",
            "epoch: 41 -> Accuracy: 88.62%, Loss: 0.29764104 ---------------- Val_Acc: 76.35%, Val_Loss: 0.58058566\n",
            "epoch: 42 -> Accuracy: 88.60%, Loss: 0.29841855 ---------------- Val_Acc: 75.46%, Val_Loss: 0.57399535\n",
            "epoch: 43 -> Accuracy: 85.72%, Loss: 0.34865966 ---------------- Val_Acc: 75.03%, Val_Loss: 0.62710452\n",
            "epoch: 44 -> Accuracy: 69.86%, Loss: 0.57815260 ---------------- Val_Acc: 63.81%, Val_Loss: 0.63956219\n",
            "epoch: 45 -> Accuracy: 81.68%, Loss: 0.41659468 ---------------- Val_Acc: 60.66%, Val_Loss: 0.80140686\n",
            "epoch: 46 -> Accuracy: 83.09%, Loss: 0.39188793 ---------------- Val_Acc: 74.21%, Val_Loss: 0.64453399\n",
            "epoch: 47 -> Accuracy: 85.52%, Loss: 0.35560614 ---------------- Val_Acc: 69.79%, Val_Loss: 0.64170319\n",
            "epoch: 48 -> Accuracy: 87.84%, Loss: 0.30653799 ---------------- Val_Acc: 75.44%, Val_Loss: 0.62910599\n",
            "epoch: 49 -> Accuracy: 87.76%, Loss: 0.30735248 ---------------- Val_Acc: 76.21%, Val_Loss: 0.60403603\n",
            "epoch: 50 -> Accuracy: 89.02%, Loss: 0.28756920 ---------------- Val_Acc: 74.98%, Val_Loss: 0.59344739\n",
            "epoch: 51 -> Accuracy: 89.89%, Loss: 0.27039999 ---------------- Val_Acc: 76.07%, Val_Loss: 0.62611055\n",
            "epoch: 52 -> Accuracy: 89.58%, Loss: 0.27696049 ---------------- Val_Acc: 75.69%, Val_Loss: 0.61376631\n",
            "epoch: 53 -> Accuracy: 85.34%, Loss: 0.35455871 ---------------- Val_Acc: 74.04%, Val_Loss: 0.64429754\n",
            "epoch: 54 -> Accuracy: 88.17%, Loss: 0.30323356 ---------------- Val_Acc: 75.29%, Val_Loss: 0.63376898\n",
            "epoch: 55 -> Accuracy: 90.50%, Loss: 0.25891340 ---------------- Val_Acc: 73.42%, Val_Loss: 0.66701478\n",
            "epoch: 56 -> Accuracy: 91.05%, Loss: 0.24019550 ---------------- Val_Acc: 74.32%, Val_Loss: 0.69881451\n",
            "epoch: 57 -> Accuracy: 91.50%, Loss: 0.23285186 ---------------- Val_Acc: 75.38%, Val_Loss: 0.63430566\n",
            "epoch: 58 -> Accuracy: 92.32%, Loss: 0.21732776 ---------------- Val_Acc: 74.21%, Val_Loss: 0.69715196\n",
            "epoch: 59 -> Accuracy: 79.48%, Loss: 0.42362219 ---------------- Val_Acc: 66.95%, Val_Loss: 0.64285725\n",
            "epoch: 60 -> Accuracy: 66.81%, Loss: 0.61037850 ---------------- Val_Acc: 69.38%, Val_Loss: 0.62640864\n",
            "epoch: 61 -> Accuracy: 72.03%, Loss: 0.54518521 ---------------- Val_Acc: 59.07%, Val_Loss: 0.66210061\n",
            "epoch: 62 -> Accuracy: 62.92%, Loss: 0.63263327 ---------------- Val_Acc: 68.01%, Val_Loss: 0.60495871\n",
            "epoch: 63 -> Accuracy: 70.82%, Loss: 0.56985998 ---------------- Val_Acc: 72.26%, Val_Loss: 0.55315942\n",
            "epoch: 64 -> Accuracy: 73.39%, Loss: 0.54511768 ---------------- Val_Acc: 73.34%, Val_Loss: 0.55762154\n",
            "epoch: 65 -> Accuracy: 74.64%, Loss: 0.52290738 ---------------- Val_Acc: 73.66%, Val_Loss: 0.52630311\n",
            "epoch: 66 -> Accuracy: 73.24%, Loss: 0.52663076 ---------------- Val_Acc: 72.86%, Val_Loss: 0.54171658\n",
            "epoch: 67 -> Accuracy: 79.06%, Loss: 0.45152020 ---------------- Val_Acc: 78.38%, Val_Loss: 0.46983978\n",
            "epoch: 68 -> Accuracy: 77.14%, Loss: 0.48392984 ---------------- Val_Acc: 76.30%, Val_Loss: 0.49865359\n",
            "epoch: 69 -> Accuracy: 78.44%, Loss: 0.47010985 ---------------- Val_Acc: 77.27%, Val_Loss: 0.50482333\n",
            "epoch: 70 -> Accuracy: 76.96%, Loss: 0.48765817 ---------------- Val_Acc: 77.03%, Val_Loss: 0.50103670\n",
            "epoch: 71 -> Accuracy: 76.58%, Loss: 0.50125879 ---------------- Val_Acc: 60.09%, Val_Loss: 0.85007715\n",
            "epoch: 72 -> Accuracy: 76.29%, Loss: 0.49905580 ---------------- Val_Acc: 73.33%, Val_Loss: 0.53867114\n",
            "epoch: 73 -> Accuracy: 78.63%, Loss: 0.46476340 ---------------- Val_Acc: 78.98%, Val_Loss: 0.46617520\n",
            "epoch: 74 -> Accuracy: 80.40%, Loss: 0.44128397 ---------------- Val_Acc: 77.21%, Val_Loss: 0.55104798\n",
            "epoch: 75 -> Accuracy: 80.36%, Loss: 0.43716064 ---------------- Val_Acc: 78.26%, Val_Loss: 0.48525003\n",
            "Training time in second: 1800.666583917\n"
          ]
        }
      ],
      "source": [
        "start = timer()\n",
        "loss_train, accuracy_train, loss_val, accuracy_val = train(model, optimizer, dataloader_training, dataloader_validation, epochs=EPOCHS)\n",
        "end = timer()\n",
        "print(f\"Training time in second: {(end - start)}\")"
      ]
    },
    {
      "cell_type": "code",
      "execution_count": 27,
      "metadata": {
        "id": "873TADzanhB9",
        "colab": {
          "base_uri": "https://localhost:8080/",
          "height": 850
        },
        "outputId": "ad5c903b-52ea-4d14-edd1-aea2d455c413"
      },
      "outputs": [
        {
          "output_type": "display_data",
          "data": {
            "text/plain": [
              "<Figure size 800x1000 with 2 Axes>"
            ],
            "image/png": "[encoded data removed]"
          },
          "metadata": {}
        }
      ],
      "source": [
        "plot_learning_acc_and_loss(loss_train, accuracy_train, loss_val, accuracy_val)"
      ]
    },
    {
      "cell_type": "code",
      "execution_count": 28,
      "metadata": {
        "id": "4vaVsXbkXjQ1"
      },
      "outputs": [],
      "source": [
        "def test(model, dataloader_test=dataloader_test):\n",
        "  model.eval()\n",
        "  total_acc_test, total_count_test, n_batches_test, loss = 0, 0, 0, 0\n",
        "  for idx, (label, text) in enumerate(dataloader_test):\n",
        "      pre_label = model(text)\n",
        "      loss += criterion(pre_label, label)\n",
        "      labels_form_pre_label = lambda x: 0. if x < 0.5 else 1.\n",
        "      pre_label = torch.tensor(list(map(labels_form_pre_label, pre_label))).to(model.device)\n",
        "      total_acc_test += (pre_label == label).sum().item()\n",
        "      total_count_test += label.size(0)\n",
        "      n_batches_test += 1\n",
        "  accuracy_test = total_acc_test/total_count_test\n",
        "  loss_test = loss/n_batches_test\n",
        "  print(f\"Test Loss: {loss_test:.8f}\", end=' ---------- ')\n",
        "  print(f\"Test Accuracy: {100*accuracy_test:.4f}%\")\n"
      ]
    },
    {
      "cell_type": "code",
      "execution_count": 29,
      "metadata": {
        "id": "C3jbfYYWXjeM",
        "colab": {
          "base_uri": "https://localhost:8080/"
        },
        "outputId": "836be4d6-571c-47d6-ee8d-be3314ea07f2"
      },
      "outputs": [
        {
          "output_type": "stream",
          "name": "stdout",
          "text": [
            "Test Loss: 0.49717650 ---------- Test Accuracy: 77.9600%\n"
          ]
        }
      ],
      "source": [
        "test(model)"
      ]
    },
    {
      "cell_type": "markdown",
      "metadata": {
        "id": "Rj8Jn9CbZylB"
      },
      "source": [
        "`%ENDCODE%`"
      ]
    },
    {
      "cell_type": "markdown",
      "metadata": {
        "id": "8CkfgH3KZylC"
      },
      "source": [
        "## Improve over the baseline [TO COMPLETE]\n",
        "* Try to improve over the result you obtained with the RNN using a different architecture. You can experiment with GRU, LSTM and BiLSTM\n",
        "* Do not change the number of epochs\n",
        "* Try to keep the number of parameters the same as that of the RNN, so that you can make a fair comparison between different architectures\n",
        "* Do not overfit the training set: as before, the performance of the validation set should be within a few percentage points that on the training set. You can use regularization techniques such as dropout and weight decay\n",
        "* You should be able to reach at least 80% accuracy on the validation set\n",
        "* Report in a table a comparison of a few models and hyperparameters configurations that you tried. Report: model name (LSTM, GRU, etc), hyperparameters values (emb_dim, hidden_size, num_layers, lr, dropout, etc), number of parameters, training accuracy, validation accuracy, training time.\n",
        "* Keep in the cells below only the outputs of the best training run\n",
        "* at the end, discuss and report your results."
      ]
    },
    {
      "cell_type": "markdown",
      "metadata": {
        "id": "ErvXfLKlZylC"
      },
      "source": [
        "`%STARTCODE`"
      ]
    },
    {
      "cell_type": "code",
      "execution_count": 41,
      "metadata": {
        "id": "iHvTKfDkLiti",
        "colab": {
          "base_uri": "https://localhost:8080/"
        },
        "outputId": "51e437a0-6753-4170-8c73-ae7a6fdc6cf1"
      },
      "outputs": [
        {
          "output_type": "execute_result",
          "data": {
            "text/plain": [
              "=================================================================\n",
              "Layer (type:depth-idx)                   Param #\n",
              "=================================================================\n",
              "My_RNN                                   --\n",
              "├─Embedding: 1-1                         2,560,000\n",
              "├─GRU: 1-2                               247,296\n",
              "├─Linear: 1-3                            129\n",
              "=================================================================\n",
              "Total params: 2,807,425\n",
              "Trainable params: 2,807,425\n",
              "Non-trainable params: 0\n",
              "================================================================="
            ]
          },
          "metadata": {},
          "execution_count": 41
        }
      ],
      "source": [
        "vocab_length = len(vocab)\n",
        "emb_dim = 256 #[TO COMPLETE]\n",
        "hidden_size = 128#[TO COMPLETE]\n",
        "num_layers = 2 #[TO COMPLETE]\n",
        "RNN_type = 'GRU' #[TO COMPLETE] # possible choices -> ['Simple RNN', 'LSTM', 'GRU']\n",
        "rnn_dropout = 0.05 #[TO COMPLETE]\n",
        "lr = 0.0001#[TO COMPLETE]\n",
        "bidirectional = False\n",
        "\n",
        "EPOCHS = 75\n",
        "'''\n",
        "vocab_length = len(vocab)\n",
        "emb_dim = 128 #[TO COMPLETE]\n",
        "hidden_size = 128#[TO COMPLETE]\n",
        "num_layers = 2 #[TO COMPLETE]\n",
        "RNN_type = 'LSTM' #[TO COMPLETE] # possible choices -> ['Simple RNN', 'LSTM', 'GRU']\n",
        "rnn_dropout = 0.2 #[TO COMPLETE]\n",
        "lr = 0.0001#[TO COMPLETE]\n",
        "bidirectional = False\n",
        "epoch: 75 -> Accuracy: 98.87%, Loss: 0.04231420 ---------------- Val_Acc: 83.85%, Val_Loss: 0.70960188\n",
        "Training time in second: 2010.7635823990004\n",
        "1,544,321\n",
        "\n",
        "vocab_length = len(vocab)\n",
        "emb_dim = 128 #[TO COMPLETE]\n",
        "hidden_size = 128#[TO COMPLETE]\n",
        "num_layers = 2 #[TO COMPLETE]\n",
        "RNN_type = 'GRU' #[TO COMPLETE] # possible choices -> ['Simple RNN', 'LSTM', 'GRU']\n",
        "rnn_dropout = 0.2 #[TO COMPLETE]\n",
        "lr = 0.0001#[TO COMPLETE]\n",
        "bidirectional = False\n",
        "epoch: 75 -> Accuracy: 99.36%, Loss: 0.03242762 ---------------- Val_Acc: 86.82%, Val_Loss: 0.56797779\n",
        "Training time in second: 1754.0334099279999\n",
        " 1,478,273\n",
        "\n",
        " vocab_length = len(vocab)\n",
        "emb_dim = 128 #[TO COMPLETE]\n",
        "hidden_size = 128#[TO COMPLETE]\n",
        "num_layers = 6 #[TO COMPLETE]\n",
        "RNN_type = 'GRU' #[TO COMPLETE] # possible choices -> ['Simple RNN', 'LSTM', 'GRU']\n",
        "rnn_dropout = 0.2 #[TO COMPLETE]\n",
        "lr = 0.0001#[TO COMPLETE]\n",
        "bidirectional = False\n",
        "epoch: 75 -> Accuracy: 99.36%, Loss: 0.03242762 ---------------- Val_Acc: 86.82%, Val_Loss: 0.56797779\n",
        "Training time in second: 1754.0334099279999\n",
        "1,874,561\n",
        "\n",
        "vocab_length = len(vocab)\n",
        "emb_dim = 128 #[TO COMPLETE]\n",
        "hidden_size = 128#[TO COMPLETE]\n",
        "num_layers = 2 #[TO COMPLETE]\n",
        "RNN_type = 'GRU' #[TO COMPLETE] # possible choices -> ['Simple RNN', 'LSTM', 'GRU']\n",
        "rnn_dropout = 0.4 #[TO COMPLETE]\n",
        "lr = 0.0001#[TO COMPLETE]\n",
        "bidirectional = False\n",
        "epoch: 75 -> Accuracy: 98.86%, Loss: 0.04226886 ---------------- Val_Acc: 86.76%, Val_Loss: 0.56345409\n",
        "Training time in second: 1765.4156400359989\n",
        "Total params: 1,478,273\n",
        "\n",
        "vocab_length = len(vocab)\n",
        "emb_dim = 128 #[TO COMPLETE]\n",
        "hidden_size = 128#[TO COMPLETE]\n",
        "num_layers = 2 #[TO COMPLETE]\n",
        "RNN_type = 'GRU' #[TO COMPLETE] # possible choices -> ['Simple RNN', 'LSTM', 'GRU']\n",
        "rnn_dropout = 0.1 #[TO COMPLETE]\n",
        "lr = 0.0001#[TO COMPLETE]\n",
        "bidirectional = False\n",
        "Total params: 1,478,273\n",
        "epoch: 75 -> Accuracy: 99.28%, Loss: 0.03238908 ---------------- Val_Acc: 87.41%, Val_Loss: 0.53026032\n",
        "Training time in second: 1749.8065783090005\n",
        "\n",
        "vocab_length = len(vocab)\n",
        "emb_dim = 128 #[TO COMPLETE]\n",
        "hidden_size = 128#[TO COMPLETE]\n",
        "num_layers = 2 #[TO COMPLETE]\n",
        "RNN_type = 'GRU' #[TO COMPLETE] # possible choices -> ['Simple RNN', 'LSTM', 'GRU']\n",
        "rnn_dropout = 0.05 #[TO COMPLETE]\n",
        "lr = 0.0001#[TO COMPLETE]\n",
        "bidirectional = False\n",
        "Training time in second: 1667.0738238490003\n",
        "Test Loss: 0.57135999 ---------- Test Accuracy: 86.9280%\n",
        "'''\n",
        "\n",
        "model = My_RNN(vocab_length=vocab_length, emb_dim=emb_dim, hidden_size=hidden_size,\n",
        "               num_layers=num_layers, batch_size=batch_size, rnn_dropout=rnn_dropout, RNN_type=RNN_type,\n",
        "               bidirectional=bidirectional).to(device)\n",
        "\n",
        "criterion = torch.nn.BCELoss()#does not apply sigmoid\n",
        "optimizer = torch.optim.Adam(model.parameters(), lr=lr)\n",
        "summary(model)"
      ]
    },
    {
      "cell_type": "code",
      "execution_count": null,
      "metadata": {
        "id": "U2lJqnakLiwD",
        "scrolled": true,
        "colab": {
          "base_uri": "https://localhost:8080/"
        },
        "outputId": "76cd4813-876a-4317-887a-29200aa6d9b3"
      },
      "outputs": [
        {
          "output_type": "stream",
          "name": "stdout",
          "text": [
            "epoch: 1 -> Accuracy: 55.77%, Loss: 0.68377459 ---------------- Val_Acc: 60.39%, Val_Loss: 0.66904759\n",
            "epoch: 2 -> Accuracy: 62.80%, Loss: 0.64191610 ---------------- Val_Acc: 68.05%, Val_Loss: 0.59436363\n",
            "epoch: 3 -> Accuracy: 73.55%, Loss: 0.52981651 ---------------- Val_Acc: 77.11%, Val_Loss: 0.48047861\n",
            "epoch: 4 -> Accuracy: 79.15%, Loss: 0.45270696 ---------------- Val_Acc: 79.78%, Val_Loss: 0.44074693\n",
            "epoch: 5 -> Accuracy: 81.90%, Loss: 0.40998080 ---------------- Val_Acc: 80.82%, Val_Loss: 0.42316934\n",
            "epoch: 6 -> Accuracy: 83.62%, Loss: 0.37919047 ---------------- Val_Acc: 82.79%, Val_Loss: 0.38931713\n",
            "epoch: 7 -> Accuracy: 85.01%, Loss: 0.35041085 ---------------- Val_Acc: 82.86%, Val_Loss: 0.38784450\n",
            "epoch: 8 -> Accuracy: 86.43%, Loss: 0.32615027 ---------------- Val_Acc: 84.49%, Val_Loss: 0.36073512\n",
            "epoch: 9 -> Accuracy: 87.43%, Loss: 0.30655003 ---------------- Val_Acc: 85.10%, Val_Loss: 0.34949556\n",
            "epoch: 10 -> Accuracy: 88.37%, Loss: 0.28837782 ---------------- Val_Acc: 84.92%, Val_Loss: 0.35474613\n",
            "epoch: 11 -> Accuracy: 89.31%, Loss: 0.27019817 ---------------- Val_Acc: 85.94%, Val_Loss: 0.33114305\n",
            "epoch: 12 -> Accuracy: 89.60%, Loss: 0.26005203 ---------------- Val_Acc: 86.31%, Val_Loss: 0.32707611\n",
            "epoch: 13 -> Accuracy: 90.36%, Loss: 0.24631897 ---------------- Val_Acc: 85.64%, Val_Loss: 0.34499770\n",
            "epoch: 14 -> Accuracy: 91.17%, Loss: 0.23369659 ---------------- Val_Acc: 86.75%, Val_Loss: 0.31856498\n",
            "epoch: 15 -> Accuracy: 91.64%, Loss: 0.22115162 ---------------- Val_Acc: 86.20%, Val_Loss: 0.32361418\n",
            "epoch: 16 -> Accuracy: 92.12%, Loss: 0.21130277 ---------------- Val_Acc: 86.74%, Val_Loss: 0.32284877\n",
            "epoch: 17 -> Accuracy: 92.43%, Loss: 0.20266852 ---------------- Val_Acc: 86.90%, Val_Loss: 0.32134691\n",
            "epoch: 18 -> Accuracy: 92.89%, Loss: 0.19154084 ---------------- Val_Acc: 87.57%, Val_Loss: 0.32136068\n",
            "epoch: 19 -> Accuracy: 93.27%, Loss: 0.18455034 ---------------- Val_Acc: 87.42%, Val_Loss: 0.31866512\n",
            "epoch: 20 -> Accuracy: 93.59%, Loss: 0.17577079 ---------------- Val_Acc: 87.50%, Val_Loss: 0.31861526\n",
            "epoch: 21 -> Accuracy: 94.12%, Loss: 0.16411890 ---------------- Val_Acc: 87.34%, Val_Loss: 0.32797563\n",
            "epoch: 22 -> Accuracy: 94.42%, Loss: 0.15649007 ---------------- Val_Acc: 87.59%, Val_Loss: 0.32736766\n",
            "epoch: 23 -> Accuracy: 94.55%, Loss: 0.15443006 ---------------- Val_Acc: 87.69%, Val_Loss: 0.34401336\n",
            "epoch: 24 -> Accuracy: 95.22%, Loss: 0.13836530 ---------------- Val_Acc: 88.01%, Val_Loss: 0.32681161\n",
            "epoch: 25 -> Accuracy: 95.30%, Loss: 0.14080486 ---------------- Val_Acc: 87.90%, Val_Loss: 0.32887876\n",
            "epoch: 26 -> Accuracy: 95.32%, Loss: 0.13523051 ---------------- Val_Acc: 87.86%, Val_Loss: 0.33517963\n",
            "epoch: 27 -> Accuracy: 95.96%, Loss: 0.12073310 ---------------- Val_Acc: 87.78%, Val_Loss: 0.36812454\n",
            "epoch: 28 -> Accuracy: 96.50%, Loss: 0.11157744 ---------------- Val_Acc: 87.80%, Val_Loss: 0.34711799\n",
            "epoch: 29 -> Accuracy: 96.67%, Loss: 0.10473679 ---------------- Val_Acc: 87.86%, Val_Loss: 0.36192742\n",
            "epoch: 30 -> Accuracy: 97.02%, Loss: 0.09743660 ---------------- Val_Acc: 87.44%, Val_Loss: 0.36513659\n",
            "epoch: 31 -> Accuracy: 97.26%, Loss: 0.09162993 ---------------- Val_Acc: 87.62%, Val_Loss: 0.37792248\n",
            "epoch: 32 -> Accuracy: 97.15%, Loss: 0.09149402 ---------------- Val_Acc: 87.62%, Val_Loss: 0.38798136\n"
          ]
        }
      ],
      "source": [
        "start = timer()\n",
        "loss_train, accuracy_train, loss_val, accuracy_val = train(model, optimizer, dataloader_training, dataloader_validation, epochs=EPOCHS)\n",
        "end = timer()\n",
        "print(f\"Training time in second: {(end - start)}\")"
      ]
    },
    {
      "cell_type": "code",
      "execution_count": 1,
      "metadata": {
        "id": "Rf4xauBAR5Gu",
        "colab": {
          "base_uri": "https://localhost:8080/",
          "height": 146
        },
        "outputId": "dedc9c86-75f3-4127-c932-0390977f0ffc"
      },
      "outputs": [
        {
          "output_type": "error",
          "ename": "NameError",
          "evalue": "name 'plot_learning_acc_and_loss' is not defined",
          "traceback": [
            "\u001b[0;31m---------------------------------------------------------------------------\u001b[0m",
            "\u001b[0;31mNameError\u001b[0m                                 Traceback (most recent call last)",
            "\u001b[0;32m<ipython-input-1-5c634151eb39>\u001b[0m in \u001b[0;36m<cell line: 1>\u001b[0;34m()\u001b[0m\n\u001b[0;32m----> 1\u001b[0;31m \u001b[0mplot_learning_acc_and_loss\u001b[0m\u001b[0;34m(\u001b[0m\u001b[0mloss_train\u001b[0m\u001b[0;34m,\u001b[0m \u001b[0maccuracy_train\u001b[0m\u001b[0;34m,\u001b[0m \u001b[0mloss_val\u001b[0m\u001b[0;34m,\u001b[0m \u001b[0maccuracy_val\u001b[0m\u001b[0;34m)\u001b[0m\u001b[0;34m\u001b[0m\u001b[0;34m\u001b[0m\u001b[0m\n\u001b[0m",
            "\u001b[0;31mNameError\u001b[0m: name 'plot_learning_acc_and_loss' is not defined"
          ]
        }
      ],
      "source": [
        "plot_learning_acc_and_loss(loss_train, accuracy_train, loss_val, accuracy_val)"
      ]
    },
    {
      "cell_type": "code",
      "execution_count": 33,
      "metadata": {
        "id": "mHX360zUN2ET",
        "colab": {
          "base_uri": "https://localhost:8080/"
        },
        "outputId": "40f62904-cc21-4ed8-a367-3050ae7ae999"
      },
      "outputs": [
        {
          "output_type": "stream",
          "name": "stdout",
          "text": [
            "Test Loss: 0.57135999 ---------- Test Accuracy: 86.9280%\n"
          ]
        }
      ],
      "source": [
        "test(model)"
      ]
    },
    {
      "cell_type": "markdown",
      "metadata": {
        "id": "pdQfMq4QpcFp"
      },
      "source": [
        "**[TO COMPLETE]** Discuss and report your results:"
      ]
    },
    {
      "cell_type": "markdown",
      "metadata": {
        "id": "Iu3AMCyeZylD"
      },
      "source": [
        "|Model name|Hyperparameters cfg|# parameters|Accuracy (Tr)|Accuracy (Val)|Training time|Iterations|\n",
        "|-|-|-|-|-|-|-|\n",
        "|Simple RNN|128/265/4/0.5/0.001|1,773,825|75.16|75.94|..|30|\n",
        "|Simple RNN|128/128/2/0.2/0.0001|1,346,177|91.50%|83.34%|1478.93|75|\n",
        "|LSTM|128/128/4/0.2/0.0001|1,773,825|98.56%|86.51%|2834.23|75|\n",
        "|GRU|128/128/6/0.2/0.0001|1,478,273|99.36%|86.82%|1754.03|75|\n",
        "|GRU|128/128/6/0.2/0.0001|1,874,561|99.36%|86.82%|1754.03|75|\n",
        "|GRU|128/128/2/0.1/0.0001|1,478,273|99.28%|87.41%|1749.81|75|\n",
        "|GRU|128/128/2/0.05/0.0001|1,478,273|99.36%|86.92%|1667.07|75|\n",
        "|GRU|256/128/2/0.05/0.0001|1,478,273|97.15%|87.62%|-|35|\n",
        "\n",
        "For evaluating these architectures for binary text classification, I started first as a baseline to then apply all the models and start with the best performing ones. Each run was about half an hour in lenght, with a colab cooldown of 90 minutes per account, so testing was challenging.\n",
        "\n",
        "**Initial Observations:**\n",
        "- The **Simple RNN** models, had less partameters and ther was a gap between training and validation accuracy, indicating potential overfitting.\n",
        "- The **LSTM** model was promising due to the ability of learning long patterns and performed better than the Simple RNN in terms of validation accuracy but took longer to train.\n",
        "- The **GRU** models consistently showed high training accuracy, with the best models also achieving high validation accuracy.\n",
        "\n",
        "After that I then moved to the Hyperparameters and changing then to achieve the best accuracy.\n",
        "\n",
        "**Hyperparameter Tuning:**\n",
        "- I experimented with different **embedding dimensions** (emb_dim), **hidden sizes**, **number of layers**, **dropout rates**, and **learning rates** (lr).\n",
        "- A higher number of layers increased the model's capacity but didn't necessarily lead to better validation performance. So I scrapped the Idea of adding more.\n",
        "- Adjusting the **dropout rate** was really important, maybe the most importand hyperparameter, helping to close the gap between training and validation accuracy.\n",
        "\n",
        "**Model Selection:**\n",
        "- The **GRU** models stood out, particularly those with a **dropout rate of 0.1** and **0.05**. They achieved over **99%** training accuracy and approximately **87%** validation accuracy. Testing with more varied and overall better data  could help with the overfitting I noticed, having training accuracy so high means that there is room for eventual improvement.\n",
        "- The best GRU model, with a **dropout rate of 0.05**, achieved a **validation accuracy of 87.62%**. This model balanced complexity and regularization well, as evidenced by its high training accuracy and the closest validation accuracy to the training set.\n",
        "\n",
        "**Conclusion:**\n",
        "- The **GRU** model with **128/128/2/0.05/0.0001** hyperparameters configuration is the best among the tested models. It has a good balance of capacity and regularization, leading to high accuracy without overfitting.\n",
        "- Also promising is the **GRU** model with more nodes and higher complexity, wich in the first iteration performed better, and cut off before it could overfit more. It is a result with less epochs but still worth to consider.\n",
        "- The **LSTM** model is a close second, but the longer training time and slightly lower validation accuracy make the GRU model more appealing.\n",
        "\n",
        "The GRU model with a moderate number of parameters, a balanced dropout rate, and a smaller learning rate emerged is the most effective architecture for this binary classification task. Further testing should be done with perhaps a different or larger dataset"
      ]
    },
    {
      "cell_type": "markdown",
      "metadata": {
        "id": "hiCQwYGuZylD"
      },
      "source": [
        "`%ENDCODE%`"
      ]
    },
    {
      "cell_type": "markdown",
      "metadata": {
        "id": "5kk32TU_ajUS",
        "jp-MarkdownHeadingCollapsed": true
      },
      "source": [
        "# Explore relations between words"
      ]
    },
    {
      "cell_type": "markdown",
      "metadata": {
        "id": "fjv9g8A0Fs3X"
      },
      "source": [
        "We will now quickly explore the properties of the embeddings learned by the model. Each embedding encodes the meaning of a word inferring it from the way it is used in the dataset. One possible way to explore the meaning encoded in the embeddings is check whether analogies that we make between concepts are reflected also in the embeddings as geometric properties. In particular, we will compute the difference between the embeddings of two related words, thus encoding their relation in a vector. Then, we will compute the same measure between a few couples of vectors and if the couple which has the most similar measure corresponds to words that have the same kind of relation as the first ones."
      ]
    },
    {
      "cell_type": "code",
      "execution_count": 34,
      "metadata": {
        "id": "K5ljHjPJak_D"
      },
      "outputs": [],
      "source": [
        "def word_embedder(word):\n",
        "  word_high_dim = sent_padding(text_pipeline(word), maxlen=seq_len).to(device)\n",
        "  word_low_dim_embedded = model.embedding(word_high_dim)[-1]\n",
        "  return word_low_dim_embedded\n",
        "\n",
        "EMB_VOCAB = {}\n",
        "for word in vocab.get_itos():\n",
        "  EMB_VOCAB[word] =  word_embedder(word)"
      ]
    },
    {
      "cell_type": "code",
      "execution_count": 35,
      "metadata": {
        "id": "t64LwUq7iO6F",
        "colab": {
          "base_uri": "https://localhost:8080/"
        },
        "outputId": "1661791e-aaa8-4ac4-cb96-74bc547d350d"
      },
      "outputs": [
        {
          "output_type": "stream",
          "name": "stdout",
          "text": [
            "The relation between man -> woman is like the realtion between king -> prophet\n",
            "The relation between germany -> berlin is like the realtion between italy -> rome\n"
          ]
        }
      ],
      "source": [
        "def cosine_similarity(u, v):\n",
        "    return torch.dot(u,v) / (torch.sqrt(torch.sum(u * u)) * torch.sqrt(torch.sum(v * v)))\n",
        "\n",
        "def word_matcher(ref1, ref2, tgt3, candidates, EMB_VOCAB):\n",
        "  max_thr = -np.inf\n",
        "  e_ref1, e_ref2, e_tgt3 = EMB_VOCAB[ref1], EMB_VOCAB[ref2], EMB_VOCAB[tgt3]\n",
        "  for w in candidates:\n",
        "    e_w = EMB_VOCAB[w]\n",
        "    sim = cosine_similarity(e_ref2 - e_ref1, e_w - e_tgt3)\n",
        "    if sim > max_thr:\n",
        "      result = w\n",
        "      max_thr = sim\n",
        "  return result\n",
        "\n",
        "#w1, w2, w3 = 'man', 'woman', 'doctor'\n",
        "#w4_cand = ['doctor', 'dentist', 'nurse', 'illness']\n",
        "#w4 = word_matcher(w1, w2, w3, w4_cand, EMB_VOCAB)\n",
        "#print(f'The relation between {w1} -> {w2} is like the realtion between {w3} -> {w4}')\n",
        "\n",
        "w1, w2, w3 = 'man', 'woman', 'king'\n",
        "w4_cand = ['soldier', 'queen', 'prophet']\n",
        "w4 = word_matcher(w1, w2, w3, w4_cand, EMB_VOCAB)\n",
        "print(f'The relation between {w1} -> {w2} is like the realtion between {w3} -> {w4}')\n",
        "\n",
        "w1, w2, w3 = 'germany', 'berlin', 'italy'\n",
        "w4_cand = ['spain', 'rome', 'germany', 'france']\n",
        "w4 = word_matcher(w1, w2, w3, w4_cand, EMB_VOCAB)\n",
        "print(f'The relation between {w1} -> {w2} is like the realtion between {w3} -> {w4}')"
      ]
    },
    {
      "cell_type": "markdown",
      "metadata": {
        "id": "nBzxjzuvaTiC"
      },
      "source": [
        "# Transformer [TO COMPLETE]"
      ]
    },
    {
      "cell_type": "markdown",
      "metadata": {
        "id": "9-IuFF0KGL0E"
      },
      "source": [
        "Let's now use a [Transformer](https://arxiv.org/abs/1706.03762) to perform the same task considered in the previous exercise.\n",
        "\n",
        "The structure of the transformer is defined as follows:\n",
        "*   A multi-head attention layer\n",
        "*   Dropout operation (`dropout_att`)\n",
        "*   Layer Normalization (`layernorm_att`)\n",
        "*   A feedforward Neural Network, Sequential, and Dense layer\n",
        "*   Dropout operation (`dropout_fnn`)\n",
        "*   Layer Normalization (`layernorm_fnn`) that has in input the summation of the attention layer output and the feedforward NN output\n",
        "\n",
        "Your task is to experiment with different hyperparameters values and try to find a configuration of the Transformer that can beat the RNNs. In the cell below, write a short comment on the impact of each hyperparameter on model performance according to your observations."
      ]
    },
    {
      "cell_type": "code",
      "execution_count": 2,
      "metadata": {
        "id": "bvDpePVEbqkF",
        "colab": {
          "base_uri": "https://localhost:8080/",
          "height": 219
        },
        "outputId": "c3a459c6-9a2b-4081-f1e7-701b29e6951a"
      },
      "outputs": [
        {
          "output_type": "error",
          "ename": "NameError",
          "evalue": "name 'CustomDataset' is not defined",
          "traceback": [
            "\u001b[0;31m---------------------------------------------------------------------------\u001b[0m",
            "\u001b[0;31mNameError\u001b[0m                                 Traceback (most recent call last)",
            "\u001b[0;32m<ipython-input-2-6d6234098954>\u001b[0m in \u001b[0;36m<cell line: 2>\u001b[0;34m()\u001b[0m\n\u001b[1;32m      1\u001b[0m \u001b[0mnew_seq_len\u001b[0m \u001b[0;34m=\u001b[0m \u001b[0;36m200\u001b[0m\u001b[0;34m\u001b[0m\u001b[0;34m\u001b[0m\u001b[0m\n\u001b[0;32m----> 2\u001b[0;31m \u001b[0mtrain_dataset_trns\u001b[0m \u001b[0;34m=\u001b[0m \u001b[0mCustomDataset\u001b[0m\u001b[0;34m(\u001b[0m\u001b[0mtrain_data\u001b[0m\u001b[0;34m,\u001b[0m \u001b[0mseq_len\u001b[0m\u001b[0;34m=\u001b[0m\u001b[0mnew_seq_len\u001b[0m\u001b[0;34m)\u001b[0m\u001b[0;34m\u001b[0m\u001b[0;34m\u001b[0m\u001b[0m\n\u001b[0m\u001b[1;32m      3\u001b[0m \u001b[0mval_dataset_trns\u001b[0m \u001b[0;34m=\u001b[0m \u001b[0mCustomDataset\u001b[0m\u001b[0;34m(\u001b[0m\u001b[0mval_data\u001b[0m\u001b[0;34m,\u001b[0m \u001b[0mseq_len\u001b[0m\u001b[0;34m=\u001b[0m\u001b[0mnew_seq_len\u001b[0m\u001b[0;34m)\u001b[0m\u001b[0;34m\u001b[0m\u001b[0;34m\u001b[0m\u001b[0m\n\u001b[1;32m      4\u001b[0m \u001b[0mtest_dataset_trns\u001b[0m \u001b[0;34m=\u001b[0m \u001b[0mCustomDataset\u001b[0m\u001b[0;34m(\u001b[0m\u001b[0mtest_data\u001b[0m\u001b[0;34m,\u001b[0m \u001b[0mseq_len\u001b[0m\u001b[0;34m=\u001b[0m\u001b[0mnew_seq_len\u001b[0m\u001b[0;34m)\u001b[0m\u001b[0;34m\u001b[0m\u001b[0;34m\u001b[0m\u001b[0m\n\u001b[1;32m      5\u001b[0m \u001b[0;34m\u001b[0m\u001b[0m\n",
            "\u001b[0;31mNameError\u001b[0m: name 'CustomDataset' is not defined"
          ]
        }
      ],
      "source": [
        "new_seq_len = 200\n",
        "train_dataset_trns = CustomDataset(train_data, seq_len=new_seq_len)\n",
        "val_dataset_trns = CustomDataset(val_data, seq_len=new_seq_len)\n",
        "test_dataset_trns = CustomDataset(test_data, seq_len=new_seq_len)\n",
        "\n",
        "batch_size=256\n",
        "dataloader_training_trns = DataLoader(train_dataset_trns, batch_size=batch_size, shuffle=True)\n",
        "dataloader_validation_trns = DataLoader(val_dataset_trns, batch_size=batch_size)\n",
        "dataloader_test_trns = DataLoader(test_dataset_trns, batch_size=batch_size)"
      ]
    },
    {
      "cell_type": "code",
      "execution_count": 37,
      "metadata": {
        "id": "LHI6PHorfKmo"
      },
      "outputs": [],
      "source": [
        "class My_Transform(nn.Module):\n",
        "  def __init__(self, d_model, nhead, num_encoder_layers, num_decoder_layers, dim_feedforward, dropout, layer_norm_eps, device=device):\n",
        "    super().__init__()\n",
        "    self.device = device\n",
        "\n",
        "    self.emb_en = Embedding(num_embeddings=len(vocab), embedding_dim=d_model)\n",
        "    self.emb_de = Embedding(num_embeddings=2, embedding_dim=d_model)\n",
        "    #2: because of binary classification\n",
        "\n",
        "    #d_model (int) – the number of expected features in the encoder/decoder inputs (default=512).\n",
        "    #nhead (int) – the number of heads in the multiheadattention models (default=8).\n",
        "    #num_encoder_layers (int) – the number of sub-encoder-layers in the encoder (default=6).\n",
        "    #num_decoder_layers (int) – the number of sub-decoder-layers in the decoder (default=6).\n",
        "    #dim_feedforward (int) – the dimension of the feedforward network model (default=2048).\n",
        "    #dropout (float) – the dropout value (default=0.1).\n",
        "    #layer_norm_eps (float) – the eps value in layer normalization components (default=1e-5).\n",
        "    self.transformer = Transformer(d_model=d_model, nhead=nhead, num_encoder_layers=num_encoder_layers,\n",
        "                                   num_decoder_layers=num_decoder_layers, dim_feedforward=dim_feedforward,\n",
        "                                   dropout=dropout, layer_norm_eps=layer_norm_eps)\n",
        "\n",
        "    self.linear = Linear(d_model, 1)#1: because of binary classification\n",
        "\n",
        "  def forward(self, x, y):\n",
        "\n",
        "    #x: (batch_size, seq_len) -> (256, 200)\n",
        "    #y: (batch_size) -> (256)\n",
        "\n",
        "    y = torch.roll(y, shifts=1, dims=0) #right shifted\n",
        "\n",
        "    self.embedded_src = self.emb_en(x)\n",
        "    #self.embedded_src: (batch_size, seq_len, d_model) -> (256, 200, 5)\n",
        "\n",
        "    '''\n",
        "    Transformer requires src_dim and trg_dim of (S, N, E)\n",
        "    (S, N, E) -> (Seq_len, Batch_size, Embed_dim) -> (seq_len, batch_size, d_model)\n",
        "        - self.embedded_src must be permuted\n",
        "        - self.embedded_trg must be reshaped accordingly\n",
        "    Transformer will produce an output of dim (T, N, E)\n",
        "    (T, N, E) -> (Target_len, Batch_size, Embed_dim) -> (1, batch_size, d_model)\n",
        "    '''\n",
        "\n",
        "    self.embedded_src = self.embedded_src.permute(1, 0, 2)\n",
        "    #self.embedded_src: (seq_len, batch_size, d_model) -> (200, 256, 5)\n",
        "    self.embedded_trg = self.emb_de(y.unsqueeze(0).long())\n",
        "    #self.embedded_trg: (seq_len:target_len, batch_size, d_model) -> (1, 256, 5)\n",
        "\n",
        "    trns_out = self.transformer(self.embedded_src, self.embedded_trg)\n",
        "    #trns_out: (target_len, batch_size, d_model) -> (1, 256, 5)\n",
        "\n",
        "    out = self.linear(trns_out)\n",
        "    #out: (1, 256, 1)\n",
        "\n",
        "    return F.sigmoid(out.squeeze()) #(batch_size) -> (256) : Like y"
      ]
    },
    {
      "cell_type": "code",
      "execution_count": 38,
      "metadata": {
        "id": "O2GQaxwUfKpG",
        "colab": {
          "base_uri": "https://localhost:8080/"
        },
        "outputId": "243b527d-f8ba-4008-cc54-2e1319adc8ca"
      },
      "outputs": [
        {
          "output_type": "stream",
          "name": "stdout",
          "text": [
            "torch.Size([256])\n"
          ]
        }
      ],
      "source": [
        "'''\n",
        "Transformer Check\n",
        "'''\n",
        "lb, txt = next(iter(dataloader_training_trns))\n",
        "trns = My_Transform(5, 1, 1, 1, 2, 1e-5, 0.2).to(device)\n",
        "#####################\n",
        "gc.collect()\n",
        "#####################\n",
        "out = trns.forward(txt, lb)\n",
        "assert out.shape == lb.shape, \"Ops, something is wrong!\"\n",
        "print(out.shape)"
      ]
    },
    {
      "cell_type": "code",
      "execution_count": 39,
      "metadata": {
        "id": "z-8Bii1lbBNO"
      },
      "outputs": [],
      "source": [
        "def train_trns(model, optimizer, dataloader_train, dataloader_val, epochs=EPOCHS):\n",
        "  loss_train, loss_val = [], []\n",
        "  acc_train, acc_val = [], []\n",
        "  for epoch in range(epochs):\n",
        "    model.train()\n",
        "    total_acc_train, total_count_train, n_train_batches, total_loss_train = 0, 0, 0, 0\n",
        "    for idx, (label, text) in enumerate(dataloader_train):\n",
        "\n",
        "      optimizer.zero_grad()\n",
        "      logits = model(text, label)\n",
        "      loss = criterion(logits, label)\n",
        "      total_loss_train += loss\n",
        "      loss.backward()\n",
        "      optimizer.step()\n",
        "\n",
        "      labels_form_logits = lambda x: 0. if x < 0.5 else 1.\n",
        "      logits = torch.tensor(list(map(labels_form_logits, logits))).to(model.device)\n",
        "      total_acc_train += (logits == label).sum().item()\n",
        "      total_count_train += label.size(0)\n",
        "      n_train_batches += 1\n",
        "\n",
        "    avg_loss_train = total_loss_train/n_train_batches\n",
        "    loss_train.append(avg_loss_train.item())\n",
        "    accuracy_train = total_acc_train/total_count_train\n",
        "    acc_train.append(accuracy_train)\n",
        "\n",
        "    total_acc_val, total_count_val, n_val_batches, total_loss_val = 0, 0, 0, 0\n",
        "    with torch.no_grad():\n",
        "        model.eval()\n",
        "        for idx, (label, text) in enumerate(dataloader_val):\n",
        "\n",
        "            logits = model(text, label)\n",
        "            loss = criterion(logits, label)\n",
        "            total_loss_val += loss\n",
        "            logits = torch.tensor(list(map(labels_form_logits, logits))).to(model.device)\n",
        "            total_acc_val += (logits == label).sum().item()\n",
        "            total_count_val += label.size(0)\n",
        "            n_val_batches += 1\n",
        "    avg_loss_val = total_loss_val/n_val_batches\n",
        "    loss_val.append(avg_loss_val.item())\n",
        "    accuracy_val = total_acc_val/total_count_val\n",
        "    acc_val.append(accuracy_val)\n",
        "    if epoch % 1 == 0:\n",
        "      print(f\"epoch: {epoch+1} -> Accuracy: {100*accuracy_train:.2f}%, Loss: {avg_loss_train:.8f}\",end=\" ---------------- \")\n",
        "      print(f\"Val_Acc: {100*accuracy_val:.2f}%, Val_Loss: {avg_loss_val:.8f}\")\n",
        "  return loss_train, acc_train, loss_val, acc_val"
      ]
    },
    {
      "cell_type": "markdown",
      "metadata": {
        "id": "cypH_4lQZylF"
      },
      "source": [
        "Now you can try to further improve performance using a transformer.\n",
        "* as before, do not overfit the training set and do not change the number of epochs\n",
        "* you should be able to reach around 85% validation accuracy\n",
        "* keep in the cells below only the configuration and outputs of the best run"
      ]
    },
    {
      "cell_type": "markdown",
      "metadata": {
        "id": "3PW1uh9cZylF"
      },
      "source": [
        "`%STARTCODE%`"
      ]
    },
    {
      "cell_type": "code",
      "execution_count": 40,
      "metadata": {
        "id": "Eg7oohRFUUqm",
        "colab": {
          "base_uri": "https://localhost:8080/",
          "height": 110
        },
        "outputId": "6900c0f1-f8fb-4db3-a461-603ddf48768d"
      },
      "outputs": [
        {
          "output_type": "error",
          "ename": "SyntaxError",
          "evalue": "invalid syntax (<ipython-input-40-cb04f3f3ff64>, line 1)",
          "traceback": [
            "\u001b[0;36m  File \u001b[0;32m\"<ipython-input-40-cb04f3f3ff64>\"\u001b[0;36m, line \u001b[0;32m1\u001b[0m\n\u001b[0;31m    d_model=  #[TO COMPLETE]\u001b[0m\n\u001b[0m              ^\u001b[0m\n\u001b[0;31mSyntaxError\u001b[0m\u001b[0;31m:\u001b[0m invalid syntax\n"
          ]
        }
      ],
      "source": [
        "d_model=  #[TO COMPLETE]\n",
        "nhead=  #[TO COMPLETE]\n",
        "num_encoder_layers=  #[TO COMPLETE]\n",
        "num_decoder_layers=  #[TO COMPLETE]\n",
        "dim_feedforward= #[TO COMPLETE]\n",
        "dropout= #[TO COMPLETE]\n",
        "lr =  #[TO COMPLETE]\n",
        "\n",
        "\n",
        "layer_norm_eps=1e-5\n",
        "EPOCHS = 75\n",
        "\n",
        "transformer = My_Transform(d_model, nhead, num_encoder_layers, num_decoder_layers,\n",
        "                           dim_feedforward, dropout, layer_norm_eps).to(device)\n",
        "\n",
        "criterion = torch.nn.BCELoss() #does not apply sigmoid\n",
        "optimizer = torch.optim.Adam(transformer.parameters(), lr=lr)\n",
        "\n",
        "summary(transformer)"
      ]
    },
    {
      "cell_type": "code",
      "execution_count": null,
      "metadata": {
        "id": "M7oNBz4SaAQQ",
        "scrolled": true
      },
      "outputs": [],
      "source": [
        "start = timer()\n",
        "loss_train, accuracy_train, loss_val, accuracy_val = train_trns(transformer, optimizer, dataloader_training_trns, dataloader_validation_trns, epochs=EPOCHS)\n",
        "end = timer()\n",
        "print(f\"Training time in second: {(end - start)}\")"
      ]
    },
    {
      "cell_type": "code",
      "execution_count": null,
      "metadata": {
        "id": "Z_4Z_R15dc5L"
      },
      "outputs": [],
      "source": [
        "plot_learning_acc_and_loss(loss_train, accuracy_train, loss_val, accuracy_val)"
      ]
    },
    {
      "cell_type": "code",
      "execution_count": null,
      "metadata": {
        "id": "I3FH0yRvb2o3"
      },
      "outputs": [],
      "source": [
        "@torch.no_grad()\n",
        "def test_trns(model, dataloader_test):\n",
        "  model.eval()\n",
        "  total_acc_test, total_count_test, n_batches_test, loss = 0, 0, 0, 0\n",
        "  for idx, (label, text) in enumerate(dataloader_test):\n",
        "      pre_label = model(text, label)\n",
        "      loss += criterion(pre_label, label)\n",
        "      labels_form_pre_label = lambda x: 0. if x < 0.5 else 1.\n",
        "      pre_label = torch.tensor(list(map(labels_form_pre_label, pre_label))).to(model.device)\n",
        "      total_acc_test += (pre_label == label).sum().item()\n",
        "      total_count_test += label.size(0)\n",
        "      n_batches_test += 1\n",
        "  accuracy_test = total_acc_test/total_count_test\n",
        "  loss_test = loss/n_batches_test\n",
        "  print(f\"Test Loss: {loss_test:.8f}\", end=' ---------- ')\n",
        "  print(f\"Test Accuracy: {100*accuracy_test:.4f}%\")"
      ]
    },
    {
      "cell_type": "code",
      "execution_count": null,
      "metadata": {
        "id": "xrNFjrQKc0iY"
      },
      "outputs": [],
      "source": [
        "test_trns(transformer, dataloader_test_trns)"
      ]
    },
    {
      "cell_type": "markdown",
      "metadata": {
        "id": "e1U9hCPnZylG"
      },
      "source": [
        "`%ENDCODE%`"
      ]
    }
  ],
  "metadata": {
    "accelerator": "GPU",
    "colab": {
      "provenance": [],
      "gpuType": "T4"
    },
    "kernelspec": {
      "display_name": "Python 3",
      "name": "python3"
    },
    "language_info": {
      "codemirror_mode": {
        "name": "ipython",
        "version": 3
      },
      "file_extension": ".py",
      "mimetype": "text/x-python",
      "name": "python",
      "nbconvert_exporter": "python",
      "pygments_lexer": "ipython3",
      "version": "3.10.12"
    }
  },
  "nbformat": 4,
  "nbformat_minor": 0
}